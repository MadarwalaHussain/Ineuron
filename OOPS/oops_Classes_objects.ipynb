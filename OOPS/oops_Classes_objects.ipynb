{
 "cells": [
  {
   "cell_type": "code",
   "execution_count": 1,
   "metadata": {},
   "outputs": [],
   "source": [
    "class car:\n",
    "    pass"
   ]
  },
  {
   "cell_type": "code",
   "execution_count": 2,
   "metadata": {},
   "outputs": [],
   "source": [
    "audi17 = car()"
   ]
  },
  {
   "cell_type": "code",
   "execution_count": 10,
   "metadata": {},
   "outputs": [],
   "source": [
    "# Not the best practise\n",
    "\n",
    "audi17.color = \"Blue\"\n",
    "audi17.year = 2017\n",
    "audi17.manufacturer =True\n",
    "audi17.topSpeed = 200.45 "
   ]
  },
  {
   "cell_type": "code",
   "execution_count": 8,
   "metadata": {},
   "outputs": [
    {
     "data": {
      "text/plain": [
       "float"
      ]
     },
     "execution_count": 8,
     "metadata": {},
     "output_type": "execute_result"
    }
   ],
   "source": [
    "type((audi17.topSpeed))"
   ]
  },
  {
   "cell_type": "code",
   "execution_count": 11,
   "metadata": {},
   "outputs": [],
   "source": [
    "class Car:\n",
    "    def __init__(self,color,model, year,topSpeed):\n",
    "        self.color = color\n",
    "        self.model = model\n",
    "        self.year  = year\n",
    "        self.topSpeed = topSpeed"
   ]
  },
  {
   "cell_type": "code",
   "execution_count": 15,
   "metadata": {},
   "outputs": [],
   "source": [
    "nanoobj = Car(\"Blue\",\"TataNano\",2020,120.45)\n",
    "audiobj = Car(\"Red\",\"Q7\",2021,220.45)"
   ]
  },
  {
   "cell_type": "code",
   "execution_count": 16,
   "metadata": {},
   "outputs": [
    {
     "name": "stdout",
     "output_type": "stream",
     "text": [
      "('Blue',) ('Red',)\n"
     ]
    }
   ],
   "source": [
    "print(nanoobj.color,audiobj.color)"
   ]
  },
  {
   "cell_type": "code",
   "execution_count": 17,
   "metadata": {},
   "outputs": [],
   "source": [
    "class bike:\n",
    "    def __init__(a,x,y, z,w):\n",
    "        a.color = x\n",
    "        a.model = y\n",
    "        a.year  = z\n",
    "        a.topSpeed = w"
   ]
  },
  {
   "cell_type": "code",
   "execution_count": 18,
   "metadata": {},
   "outputs": [],
   "source": [
    "stunner= bike(\"Red\",2022,2021,100)"
   ]
  },
  {
   "cell_type": "code",
   "execution_count": 19,
   "metadata": {},
   "outputs": [
    {
     "ename": "AttributeError",
     "evalue": "'bike' object has no attribute 'x'",
     "output_type": "error",
     "traceback": [
      "\u001b[1;31m---------------------------------------------------------------------------\u001b[0m",
      "\u001b[1;31mAttributeError\u001b[0m                            Traceback (most recent call last)",
      "\u001b[1;32mc:\\Users\\lenovo\\Desktop\\Learnings\\Ineuron\\Data Science Master\\OOPS\\oops_Classes_objects.ipynb Cell 10'\u001b[0m in \u001b[0;36m<module>\u001b[1;34m\u001b[0m\n\u001b[1;32m----> <a href='vscode-notebook-cell:/c%3A/Users/lenovo/Desktop/Learnings/Ineuron/Data%20Science%20Master/OOPS/oops_Classes_objects.ipynb#ch0000009?line=0'>1</a>\u001b[0m stunner\u001b[39m.\u001b[39;49mx\n",
      "\u001b[1;31mAttributeError\u001b[0m: 'bike' object has no attribute 'x'"
     ]
    }
   ],
   "source": [
    "stunner.x"
   ]
  },
  {
   "cell_type": "code",
   "execution_count": 20,
   "metadata": {},
   "outputs": [
    {
     "data": {
      "text/plain": [
       "('Red',)"
      ]
     },
     "execution_count": 20,
     "metadata": {},
     "output_type": "execute_result"
    }
   ],
   "source": [
    "stunner.color"
   ]
  },
  {
   "cell_type": "code",
   "execution_count": 16,
   "metadata": {},
   "outputs": [],
   "source": [
    "class Car2:\n",
    "    def __init__(self,color,model, year,topSpeed):\n",
    "        self.color = color\n",
    "        self.model = model\n",
    "        self.year  = year\n",
    "        self.topSpeed = topSpeed\n",
    "    def age(self,current_year):\n",
    "        return current_year-self.year\n",
    "\n",
    "    def __str__(self):\n",
    "        return(\"This is string\")"
   ]
  },
  {
   "cell_type": "code",
   "execution_count": 24,
   "metadata": {},
   "outputs": [],
   "source": [
    "fortuner =Car2(\"Blue\",\"R1\",2012,203.3)"
   ]
  },
  {
   "cell_type": "code",
   "execution_count": 18,
   "metadata": {},
   "outputs": [
    {
     "data": {
      "text/plain": [
       "2012"
      ]
     },
     "execution_count": 18,
     "metadata": {},
     "output_type": "execute_result"
    }
   ],
   "source": [
    "fortuner.year"
   ]
  },
  {
   "cell_type": "code",
   "execution_count": 19,
   "metadata": {},
   "outputs": [
    {
     "data": {
      "text/plain": [
       "8"
      ]
     },
     "execution_count": 19,
     "metadata": {},
     "output_type": "execute_result"
    }
   ],
   "source": [
    "fortuner.age(2020)"
   ]
  },
  {
   "cell_type": "code",
   "execution_count": 22,
   "metadata": {},
   "outputs": [
    {
     "ename": "AttributeError",
     "evalue": "'Car2' object has no attribute 'str'",
     "output_type": "error",
     "traceback": [
      "\u001b[1;31m---------------------------------------------------------------------------\u001b[0m",
      "\u001b[1;31mAttributeError\u001b[0m                            Traceback (most recent call last)",
      "\u001b[1;32mc:\\Users\\lenovo\\Desktop\\Learnings\\Ineuron\\Data Science Master\\OOPS\\oops_Classes_objects.ipynb Cell 16'\u001b[0m in \u001b[0;36m<module>\u001b[1;34m\u001b[0m\n\u001b[1;32m----> <a href='vscode-notebook-cell:/c%3A/Users/lenovo/Desktop/Learnings/Ineuron/Data%20Science%20Master/OOPS/oops_Classes_objects.ipynb#ch0000014?line=0'>1</a>\u001b[0m fortuner\u001b[39m.\u001b[39;49mstr()\n",
      "\u001b[1;31mAttributeError\u001b[0m: 'Car2' object has no attribute 'str'"
     ]
    }
   ],
   "source": [
    "fortuner.str()"
   ]
  },
  {
   "cell_type": "code",
   "execution_count": 26,
   "metadata": {},
   "outputs": [
    {
     "name": "stdout",
     "output_type": "stream",
     "text": [
      "This is string\n"
     ]
    }
   ],
   "source": [
    "print(fortuner)"
   ]
  },
  {
   "cell_type": "code",
   "execution_count": 77,
   "metadata": {},
   "outputs": [],
   "source": [
    "class Student:\n",
    "    def __init__(self,name,rollno,joining_date,current_course):\n",
    "        self.name = name\n",
    "        self.rollno = rollno\n",
    "        self.joining_date = joining_date\n",
    "        self.current_course = current_course\n",
    "    def nameparse(self):\n",
    "        if type(self.name)==list:\n",
    "            for i in self.name:\n",
    "                print(\"Name of Students are\", i)\n",
    "\n",
    "\n",
    "    def crt_course(self):\n",
    "        print(\"Current topic is:-\",self.current_course)\n",
    "    def str_rollno(self):\n",
    "        try:\n",
    "            if type(self.rollno) ==str:\n",
    "                print(\"its in string\")\n",
    "            else:\n",
    "                return str(self.rollno)\n",
    "        except Exception as e:\n",
    "            print(\"Error is, \",e)\n",
    "    def duration(self,currentdate):\n",
    "        print(\"Duration remaining = \", currentdate - self.joining_date)\n",
    "    def __str__(self):\n",
    "        return (\"This is student class\")\n",
    "\n",
    "\n",
    "    "
   ]
  },
  {
   "cell_type": "code",
   "execution_count": 79,
   "metadata": {},
   "outputs": [],
   "source": [
    "hussain = Student([\"Hussain Madarwala\",\"Shaun\",\"Mark\"],\"#\",2020,\"OOPS\")"
   ]
  },
  {
   "cell_type": "code",
   "execution_count": 71,
   "metadata": {},
   "outputs": [
    {
     "data": {
      "text/plain": [
       "2020"
      ]
     },
     "execution_count": 71,
     "metadata": {},
     "output_type": "execute_result"
    }
   ],
   "source": [
    "hussain.joining_date"
   ]
  },
  {
   "cell_type": "code",
   "execution_count": 72,
   "metadata": {},
   "outputs": [
    {
     "name": "stdout",
     "output_type": "stream",
     "text": [
      "Duration remaining =  5\n"
     ]
    }
   ],
   "source": [
    "hussain.duration(2025)"
   ]
  },
  {
   "cell_type": "code",
   "execution_count": 73,
   "metadata": {},
   "outputs": [
    {
     "name": "stdout",
     "output_type": "stream",
     "text": [
      "its in string\n"
     ]
    }
   ],
   "source": [
    "hussain.str_rollno()"
   ]
  },
  {
   "cell_type": "code",
   "execution_count": 74,
   "metadata": {},
   "outputs": [
    {
     "name": "stdout",
     "output_type": "stream",
     "text": [
      "This is student class\n"
     ]
    }
   ],
   "source": [
    "print(hussain)"
   ]
  },
  {
   "cell_type": "code",
   "execution_count": 75,
   "metadata": {},
   "outputs": [
    {
     "data": {
      "text/plain": [
       "'#'"
      ]
     },
     "execution_count": 75,
     "metadata": {},
     "output_type": "execute_result"
    }
   ],
   "source": [
    "hussain.rollno"
   ]
  },
  {
   "cell_type": "code",
   "execution_count": 80,
   "metadata": {},
   "outputs": [
    {
     "name": "stdout",
     "output_type": "stream",
     "text": [
      "Name of Students are Hussain Madarwala\n",
      "Name of Students are Shaun\n",
      "Name of Students are Mark\n"
     ]
    }
   ],
   "source": [
    "hussain.nameparse()"
   ]
  },
  {
   "cell_type": "code",
   "execution_count": 81,
   "metadata": {},
   "outputs": [],
   "source": [
    "# Activity"
   ]
  },
  {
   "cell_type": "code",
   "execution_count": 146,
   "metadata": {},
   "outputs": [],
   "source": [
    "class Data:\n",
    "    def __init__(self,fileName,fileType,date,size):\n",
    "        self.fileName = fileName\n",
    "        self.fileType = fileType\n",
    "        self.date = date\n",
    "        self.size = size\n",
    "    def file_open(self):\n",
    "        try:\n",
    "            f = open(self.fileName,\"w+\")\n",
    "            f.write(\"This is sample\")\n",
    "            f.close()\n",
    "            self.Logger(\"File Opned\")\n",
    "        except Exception as e:\n",
    "            self.Logger(e)\n",
    "            print(e)\n",
    "\n",
    "    def file_read(self,fileName):\n",
    "        try:\n",
    "            f = open(fileName,\"r\")\n",
    "            print(f.read())\n",
    "            f.close()\n",
    "            self.Logger(\"FileRead\")\n",
    "        except Exception as e:\n",
    "            self.Logger(e)\n",
    "            print(e)\n",
    "    def file_append(self,msg):\n",
    "        try:\n",
    "            f = open(self.fileName,\"a+\")\n",
    "            f.write(msg)\n",
    "            f.close()\n",
    "            self.Logger(\"FileAppended\")\n",
    "        except Exception as e:\n",
    "            self.Logger(e)\n",
    "            print(e)\n",
    "    def Logger(self,msg):\n",
    "        import logging as lg\n",
    "        lg.basicConfig(filename=\"test.log\",level = lg.INFO,format='%(asctime)s - %(message)s')\n",
    "        return lg.error(msg)\n"
   ]
  },
  {
   "cell_type": "code",
   "execution_count": 147,
   "metadata": {},
   "outputs": [],
   "source": [
    "dataobj = Data(\"Hussain.txt\",\".txt\",2021,\"2kb\")"
   ]
  },
  {
   "cell_type": "code",
   "execution_count": 151,
   "metadata": {},
   "outputs": [
    {
     "data": {
      "text/plain": [
       "'Hussain.txt'"
      ]
     },
     "execution_count": 151,
     "metadata": {},
     "output_type": "execute_result"
    }
   ],
   "source": [
    "dataobj.fileName"
   ]
  },
  {
   "cell_type": "code",
   "execution_count": 148,
   "metadata": {},
   "outputs": [],
   "source": [
    "dataobj.file_open()"
   ]
  },
  {
   "cell_type": "code",
   "execution_count": 152,
   "metadata": {},
   "outputs": [
    {
     "name": "stdout",
     "output_type": "stream",
     "text": [
      "This is sample\n"
     ]
    }
   ],
   "source": [
    "dataobj.file_read(dataobj.fileName)"
   ]
  },
  {
   "cell_type": "code",
   "execution_count": 153,
   "metadata": {},
   "outputs": [],
   "source": [
    "dataobj.file_append(\"This is appended test\")"
   ]
  },
  {
   "cell_type": "code",
   "execution_count": 120,
   "metadata": {},
   "outputs": [],
   "source": [
    "dataobj.Logger()"
   ]
  },
  {
   "cell_type": "code",
   "execution_count": null,
   "metadata": {},
   "outputs": [],
   "source": []
  }
 ],
 "metadata": {
  "interpreter": {
   "hash": "1784f50464a290d377b97189f8cc5b1fac9ec055258da1c83eeefa641d3a79e6"
  },
  "kernelspec": {
   "display_name": "Python 3.8.6 64-bit",
   "language": "python",
   "name": "python3"
  },
  "language_info": {
   "codemirror_mode": {
    "name": "ipython",
    "version": 3
   },
   "file_extension": ".py",
   "mimetype": "text/x-python",
   "name": "python",
   "nbconvert_exporter": "python",
   "pygments_lexer": "ipython3",
   "version": "3.8.6"
  },
  "orig_nbformat": 4
 },
 "nbformat": 4,
 "nbformat_minor": 2
}
