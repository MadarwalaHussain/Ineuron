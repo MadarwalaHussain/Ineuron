{
 "cells": [
  {
   "cell_type": "markdown",
   "metadata": {},
   "source": [
    "Q1.What are the two values of the Boolean data type? How do you write them?"
   ]
  },
  {
   "cell_type": "markdown",
   "metadata": {},
   "source": [
    "Ans: The two values are True and False eg:\n",
    "\n",
    "isTruth = True\n",
    "\n",
    "isFalsy = False"
   ]
  },
  {
   "cell_type": "markdown",
   "metadata": {},
   "source": [
    "Q2. What are the three different types of Boolean operators?\n"
   ]
  },
  {
   "cell_type": "markdown",
   "metadata": {},
   "source": [
    "Ans: AND and OR operators"
   ]
  },
  {
   "cell_type": "markdown",
   "metadata": {},
   "source": [
    "Q3. Make a list of each Boolean operator's truth tables (i.e. every possible combination of Boolean values for the operator and what it evaluate ).\n"
   ]
  },
  {
   "cell_type": "markdown",
   "metadata": {},
   "source": [
    "Ans:\n",
    "\n",
    "AND Operator\n",
    "\n",
    "True and True  = True\n",
    "\n",
    "True and False = False\n",
    "\n",
    "False and True = False\n",
    "\n",
    "False and False = False\n",
    "\n",
    "OR Operator\n",
    "\n",
    "True or True = True\n",
    "\n",
    "True or False = True\n",
    "\n",
    "False or True = True\n",
    "\n",
    "False or False = False\n",
    "\n",
    "\n"
   ]
  },
  {
   "cell_type": "markdown",
   "metadata": {},
   "source": [
    "Q4.4. What are the values of the following expressions?\n",
    "(5 > 4) and (3 == 5)\n",
    "not (5 > 4)\n",
    "(5 > 4) or (3 == 5)\n",
    "not ((5 > 4) or (3 == 5))\n",
    "(True and True) and (True == False)\n",
    "(not False) or (not True)\n"
   ]
  },
  {
   "cell_type": "code",
   "execution_count": null,
   "metadata": {},
   "outputs": [],
   "source": [
    "# <!-- Ans -->\n",
    "# 1.(5 > 4) and (3 == 5)  = False\n",
    "# 2.not (5 > 4)  = False\n",
    "# (5 > 4) or (3 == 5) = True\n",
    "# not ((5 > 4) or (3 == 5)) = False\n",
    "# (True and True) and (True == False) =False\n",
    "# (not False) or (not True) = True"
   ]
  },
  {
   "cell_type": "markdown",
   "metadata": {},
   "source": []
  },
  {
   "cell_type": "markdown",
   "metadata": {},
   "source": [
    "Q5.What are the six comparison operators?"
   ]
  },
  {
   "cell_type": "markdown",
   "metadata": {},
   "source": [
    "Ans: ==,>,<,>=,>=,!="
   ]
  },
  {
   "cell_type": "markdown",
   "metadata": {},
   "source": [
    "Q6. How do you tell the difference between the equal to and assignment operators?Describe a\n",
    "condition and when you would use one."
   ]
  },
  {
   "cell_type": "markdown",
   "metadata": {},
   "source": [
    "Ans. Equal to(==) operator used for the comparison,it used for comapring values, it returns 1 if both the values are equal otherwise returns 0\n",
    "\n",
    "Assignment(=) :It is used for assigning the value to a variable.\n"
   ]
  },
  {
   "cell_type": "markdown",
   "metadata": {},
   "source": [
    "Q7. Identify the three blocks in this code:"
   ]
  },
  {
   "cell_type": "code",
   "execution_count": 11,
   "metadata": {},
   "outputs": [],
   "source": [
    "# spam = 0\n",
    "# if spam == 10:\n",
    "#     print('eggs')\n",
    "# if spam > 5:\n",
    "#     print('bacon')\n",
    "# else:\n",
    "#     print('ham')\n",
    "# print('spam')\n",
    "# print('spam')\n",
    "\n",
    "# Ans : initialization block,if block, else block\n"
   ]
  },
  {
   "cell_type": "markdown",
   "metadata": {},
   "source": [
    "Q8. Write code that prints Hello if 1 is stored in spam, prints Howdy if 2 is stored in spam, and prints\n",
    "Greetings! if anything else is stored in spam."
   ]
  },
  {
   "cell_type": "code",
   "execution_count": 18,
   "metadata": {},
   "outputs": [
    {
     "name": "stdout",
     "output_type": "stream",
     "text": [
      "Hello\n"
     ]
    }
   ],
   "source": [
    "spam = 1\n",
    "if spam == 1:\n",
    "    print(\"Hello\")\n",
    "elif spam == 2:\n",
    "    print(\"Howdy\")\n",
    "else :\n",
    "    print(\"Greetings!\")"
   ]
  },
  {
   "cell_type": "markdown",
   "metadata": {},
   "source": [
    "Q9.If your programme is stuck in an endless loop, what keys you’ll press?"
   ]
  },
  {
   "cell_type": "markdown",
   "metadata": {},
   "source": [
    "Ans: CTRL+C"
   ]
  },
  {
   "cell_type": "markdown",
   "metadata": {},
   "source": [
    "Q10. How can you tell the difference between break and continue?"
   ]
  },
  {
   "cell_type": "markdown",
   "metadata": {},
   "source": [
    "Ans: \n",
    "The Break statement is used to exit from the loop constructs.\n",
    "When a break statement is encountered then the control is exited from the loop construct immediately\n",
    "syntax : break;\n",
    "\n",
    "The continue statement is not used to exit from the loop constructs.\n",
    "When the continue statement is encountered then the control automatically passed from the beginning of the loop statement.\n",
    "syntax : continue;"
   ]
  },
  {
   "cell_type": "markdown",
   "metadata": {},
   "source": [
    "Q11.In a for loop, what is the difference between range(10), range(0, 10), and range(0, 10, 1)?"
   ]
  },
  {
   "cell_type": "markdown",
   "metadata": {},
   "source": [
    "Ans: \n",
    "\n",
    "range(10) will give number from 0-9 , defualt starting position will be taken 0.\n",
    "\n",
    "range(0,10) will give number from 0-9, starting value will be 0.\n",
    "\n",
    "range(0,10,1) will give number from 0-9, starting value will be 0 and step size is given as 1\n"
   ]
  },
  {
   "cell_type": "markdown",
   "metadata": {},
   "source": [
    "13. If you had a function named bacon() inside a module named spam, how would you call it after\n",
    "importing spam?"
   ]
  },
  {
   "cell_type": "markdown",
   "metadata": {},
   "source": [
    "Ans: from spam import bacon"
   ]
  }
 ],
 "metadata": {
  "interpreter": {
   "hash": "1784f50464a290d377b97189f8cc5b1fac9ec055258da1c83eeefa641d3a79e6"
  },
  "kernelspec": {
   "display_name": "Python 3.8.6 64-bit",
   "language": "python",
   "name": "python3"
  },
  "language_info": {
   "codemirror_mode": {
    "name": "ipython",
    "version": 3
   },
   "file_extension": ".py",
   "mimetype": "text/x-python",
   "name": "python",
   "nbconvert_exporter": "python",
   "pygments_lexer": "ipython3",
   "version": "3.8.6"
  },
  "orig_nbformat": 4
 },
 "nbformat": 4,
 "nbformat_minor": 2
}
