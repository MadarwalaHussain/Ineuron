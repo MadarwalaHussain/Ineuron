{
  "cells": [
    {
      "cell_type": "code",
      "execution_count": 3,
      "metadata": {
        "id": "C95Z23ThkELn",
        "outputId": "7e98bc15-a70d-40ee-ff7f-0ab819709a4b"
      },
      "outputs": [
        {
          "name": "stdout",
          "output_type": "stream",
          "text": [
            "1\n",
            "2\n",
            "3\n",
            "4\n",
            "5\n",
            "1\n",
            "no 10 rs notes are available \n"
          ]
        }
      ],
      "source": [
        "notes = 5 \n",
        "i = 1 \n",
        "j = 1\n",
        "while i <= notes:\n",
        "    print(i)\n",
        "    i += 1\n",
        "else :\n",
        "    \n",
        "    while j < 2 :\n",
        "        print(j)\n",
        "        j = j + 1 \n",
        "    print(\"no 10 rs notes are available \")"
      ]
    },
    {
      "cell_type": "code",
      "execution_count": null,
      "metadata": {
        "id": "T0JKomsjkELz"
      },
      "outputs": [],
      "source": [
        "s = \"my name is sudhanshu\""
      ]
    },
    {
      "cell_type": "code",
      "execution_count": null,
      "metadata": {
        "id": "hFO_5AWkkEL4",
        "outputId": "d537eda6-35a7-42c5-8447-8a9d171360c2"
      },
      "outputs": [
        {
          "data": {
            "text/plain": [
              "'my name is sudhanshu'"
            ]
          },
          "execution_count": 32,
          "metadata": {},
          "output_type": "execute_result"
        }
      ],
      "source": [
        "s"
      ]
    },
    {
      "cell_type": "code",
      "execution_count": null,
      "metadata": {
        "id": "7YLlanG2kEL6",
        "outputId": "449b2624-8e0c-449e-a23f-1ce8c8c889f2"
      },
      "outputs": [
        {
          "data": {
            "text/plain": [
              "' name is sud'"
            ]
          },
          "execution_count": 33,
          "metadata": {},
          "output_type": "execute_result"
        }
      ],
      "source": [
        "s[2:-6]"
      ]
    },
    {
      "cell_type": "code",
      "execution_count": null,
      "metadata": {
        "id": "iIEsgDc6kEL8",
        "outputId": "4cf3ab18-d62f-447f-d399-02791c8a86dc"
      },
      "outputs": [
        {
          "data": {
            "text/plain": [
              "'nm s'"
            ]
          },
          "execution_count": 15,
          "metadata": {},
          "output_type": "execute_result"
        }
      ],
      "source": [
        "s[3:10:2]"
      ]
    },
    {
      "cell_type": "code",
      "execution_count": null,
      "metadata": {
        "id": "c-YdLnuCkEL9",
        "outputId": "76a8f57b-f3a5-42bc-bafd-a63631f34a68"
      },
      "outputs": [
        {
          "data": {
            "text/plain": [
              "'uhsnahdus si eman ym'"
            ]
          },
          "execution_count": 22,
          "metadata": {},
          "output_type": "execute_result"
        }
      ],
      "source": [
        "s[::-1]"
      ]
    },
    {
      "cell_type": "code",
      "execution_count": null,
      "metadata": {
        "id": "VO5NCqiQkEL_",
        "outputId": "b3fbcbb3-8b14-4dd7-e4de-b1240273a803"
      },
      "outputs": [
        {
          "data": {
            "text/plain": [
              "' name is sud'"
            ]
          },
          "execution_count": 23,
          "metadata": {},
          "output_type": "execute_result"
        }
      ],
      "source": [
        "s[2:-6]"
      ]
    },
    {
      "cell_type": "code",
      "execution_count": null,
      "metadata": {
        "id": "jLBz-TpwkEMC"
      },
      "outputs": [],
      "source": [
        "s = \"sudh\""
      ]
    },
    {
      "cell_type": "code",
      "execution_count": null,
      "metadata": {
        "id": "EDih7MnCkEMD",
        "outputId": "53f1ba91-cfa8-40a9-8d15-f24ea799f884"
      },
      "outputs": [
        {
          "data": {
            "text/plain": [
              "'s'"
            ]
          },
          "execution_count": 28,
          "metadata": {},
          "output_type": "execute_result"
        }
      ],
      "source": [
        "s[0]"
      ]
    },
    {
      "cell_type": "code",
      "execution_count": null,
      "metadata": {
        "id": "_dl-EC8TkEMH",
        "outputId": "f1b12f26-a5cf-4bb2-97eb-8d8dcaf32f1b"
      },
      "outputs": [
        {
          "data": {
            "text/plain": [
              "'my name is sudhanshu'"
            ]
          },
          "execution_count": 34,
          "metadata": {},
          "output_type": "execute_result"
        }
      ],
      "source": [
        "s"
      ]
    },
    {
      "cell_type": "code",
      "execution_count": null,
      "metadata": {
        "id": "a1sy4S-pkEMK",
        "outputId": "66d3c795-3dc7-4fcf-d0a3-c1a85d2d4fd5"
      },
      "outputs": [
        {
          "name": "stdout",
          "output_type": "stream",
          "text": [
            "m\n",
            "y\n",
            " \n",
            "n\n",
            "a\n",
            "m\n",
            "e\n",
            " \n",
            "i\n",
            " i got s as a string \n",
            "s\n",
            " \n",
            " i got s as a string \n",
            "s\n",
            "u\n",
            "d\n",
            "h\n",
            "a\n",
            "n\n",
            " i got s as a string \n",
            "s\n",
            "h\n",
            "u\n"
          ]
        }
      ],
      "source": [
        "for i in s :\n",
        "    if i == 's':\n",
        "        print(\" i got s as a string \")\n",
        "    print(i)"
      ]
    },
    {
      "cell_type": "code",
      "execution_count": null,
      "metadata": {
        "id": "uHDUbTrrkEMM",
        "outputId": "f5c3dc9c-c105-4f49-c225-6ddb9e5d87dd"
      },
      "outputs": [
        {
          "data": {
            "text/plain": [
              "'my name is sudhanshu'"
            ]
          },
          "execution_count": 37,
          "metadata": {},
          "output_type": "execute_result"
        }
      ],
      "source": [
        "s "
      ]
    },
    {
      "cell_type": "code",
      "execution_count": null,
      "metadata": {
        "id": "EjkORN1tkEMN",
        "outputId": "a4746177-b771-4e4c-da23-65b0fff95f74"
      },
      "outputs": [
        {
          "name": "stdout",
          "output_type": "stream",
          "text": [
            "m\n",
            "y\n",
            " \n",
            "a\n",
            "m\n",
            "e\n",
            " \n",
            "i\n",
            "s\n",
            " \n",
            "s\n",
            "u\n",
            "d\n",
            "h\n",
            "a\n",
            "s\n",
            "h\n",
            "u\n",
            "last char was u \n",
            "this is a else condtion \n"
          ]
        }
      ],
      "source": [
        "for i in s :\n",
        "    if i == \"n\":\n",
        "        continue \n",
        "    print(i)\n",
        "else :\n",
        "    if i == 'u':\n",
        "        print(\"last char was u \")\n",
        "    print(\"this is a else condtion \")"
      ]
    },
    {
      "cell_type": "code",
      "execution_count": 4,
      "metadata": {
        "id": "JRtunw2ikEMP"
      },
      "outputs": [],
      "source": [
        "s =  \"ineuron\"\n",
        "ss = \"\"\n",
        "for i in range(len(s)):\n",
        "    if s[i] == \"n\":\n",
        "        continue\n",
        "    else :\n",
        "        ss = ss + s[i]"
      ]
    },
    {
      "cell_type": "code",
      "execution_count": 5,
      "metadata": {
        "id": "EghYd3KwkEMQ",
        "outputId": "2dc64e07-9a7a-49c0-ad8d-8a9438396413"
      },
      "outputs": [
        {
          "data": {
            "text/plain": [
              "'ieuro'"
            ]
          },
          "execution_count": 5,
          "metadata": {},
          "output_type": "execute_result"
        }
      ],
      "source": [
        "ss"
      ]
    },
    {
      "cell_type": "code",
      "execution_count": null,
      "metadata": {
        "id": "jDelAHcgkEMR",
        "outputId": "6a5309ba-b9f2-48ad-93dd-178fe54d5a5a"
      },
      "outputs": [
        {
          "data": {
            "text/plain": [
              "7"
            ]
          },
          "execution_count": 55,
          "metadata": {},
          "output_type": "execute_result"
        }
      ],
      "source": [
        "len(s)"
      ]
    },
    {
      "cell_type": "code",
      "execution_count": null,
      "metadata": {
        "id": "7F51EN_9kEMT",
        "outputId": "741234cc-9125-452f-b967-1034253ab046"
      },
      "outputs": [
        {
          "name": "stdout",
          "output_type": "stream",
          "text": [
            "+ \r\n",
            "+ + \r\n",
            "+ + + \r\n",
            "+ + + + \r\n",
            "+ + + + + \r\n",
            "+ + + + + + \r\n",
            "+ + + + + + + \r\n"
          ]
        }
      ],
      "source": [
        "n = 7 \n",
        "for i in range(0 ,n):\n",
        "    for j in range(0 ,i +1):\n",
        "        print(\"+ \" , end = \"\")\n",
        "    print(\"\\r\")\n",
        "    "
      ]
    },
    {
      "cell_type": "code",
      "execution_count": 37,
      "metadata": {},
      "outputs": [
        {
          "name": "stdout",
          "output_type": "stream",
          "text": [
            "         *\n",
            "        * *\n",
            "       * * *\n",
            "      * * * *\n",
            "     * * * * *\n",
            "    * * * * * *\n",
            "   * * * * * * *\n",
            "  * * * * * * * *\n",
            " * * * * * * * * *\n"
          ]
        }
      ],
      "source": [
        "n=9\n",
        "i=0\n",
        "while i<9:\n",
        "    print(\" \"*(n-i-1) + \" *\"*(i+1))\n",
        "    i+=1"
      ]
    },
    {
      "cell_type": "code",
      "execution_count": 38,
      "metadata": {
        "id": "nd9udIwSkEMU",
        "outputId": "3830ab2d-7549-4c0c-8bc0-36860a11f029"
      },
      "outputs": [
        {
          "name": "stdout",
          "output_type": "stream",
          "text": [
            "* * \n",
            " * \n"
          ]
        }
      ],
      "source": [
        "def pattern(n):\n",
        "      k = 2*n -2\n",
        "      for i in range(n,-1,-1):\n",
        "           for j in range(k,0,-1):\n",
        "                print(end=\" \")\n",
        "           k = k +1\n",
        "           for j in range(0, i+1):\n",
        "                print(\"*\", end=\" \")\n",
        "           print(\"\\r\")\n",
        " \n",
        "pattern(1)\n"
      ]
    },
    {
      "cell_type": "code",
      "execution_count": null,
      "metadata": {
        "id": "8Nl-_x5QkEMV",
        "outputId": "9797eef7-f055-488f-cf23-9fdc25996511"
      },
      "outputs": [
        {
          "name": "stdout",
          "output_type": "stream",
          "text": [
            "7\n",
            "6\n",
            "5\n",
            "4\n",
            "3\n",
            "2\n",
            "1\n"
          ]
        }
      ],
      "source": [
        "for i in range(7,0,-1):\n",
        "    print(i)"
      ]
    },
    {
      "cell_type": "code",
      "execution_count": 39,
      "metadata": {
        "id": "PzYJqURvkEMY",
        "outputId": "a7029dde-845c-4f4d-a885-47b63230801d"
      },
      "outputs": [
        {
          "name": "stdout",
          "output_type": "stream",
          "text": [
            " * * * * * * *\n",
            "  * * * * *\n",
            "   * * *\n",
            "    *\n"
          ]
        }
      ],
      "source": [
        "n = int(input('Enter number of rows required: '))\n",
        "\n",
        "for i in range(n,0,-1):\n",
        "    for j in range(n-i):\n",
        "        print(' ', end='') \n",
        "    \n",
        "    for j in range(2*i-1):\n",
        "        print(' *',end='') \n",
        "    print()\n"
      ]
    },
    {
      "cell_type": "code",
      "execution_count": null,
      "metadata": {
        "id": "VtajOHXDkEMa",
        "outputId": "ef5a57a2-623d-4f0b-ba66-7be88c628240"
      },
      "outputs": [
        {
          "name": "stdout",
          "output_type": "stream",
          "text": [
            "8\n",
            "7\n",
            "6\n",
            "5\n",
            "4\n",
            "3\n",
            "2\n",
            "1\n"
          ]
        }
      ],
      "source": [
        "for i in range(8, 0, -1):\n",
        "    print(i)"
      ]
    },
    {
      "cell_type": "code",
      "execution_count": null,
      "metadata": {
        "id": "Z6atEZY2kEMb",
        "outputId": "ae295342-fc23-48cb-c114-0b1d2a028d81"
      },
      "outputs": [
        {
          "name": "stdout",
          "output_type": "stream",
          "text": [
            "        * * * * * * \n",
            "         * * * * * \n",
            "          * * * * \n",
            "           * * * \n",
            "            * * \n",
            "             * \n"
          ]
        }
      ],
      "source": [
        "num = 5\n",
        "m = 2 * num - 2\n",
        "for i in range(num, -1, -1):\n",
        "    for j in range(m, 0, -1):\n",
        "        print(end=\" \")\n",
        "    m = m + 1\n",
        "    for j in range(0, i + 1):\n",
        "        print(\"*\", end=\" \")\n",
        "    print(\"\")\n"
      ]
    },
    {
      "cell_type": "code",
      "execution_count": null,
      "metadata": {
        "id": "wMTb2C_8kEMe",
        "outputId": "01840679-8099-4124-ea93-d77f353cd41e"
      },
      "outputs": [
        {
          "data": {
            "text/plain": [
              "'     '"
            ]
          },
          "execution_count": 80,
          "metadata": {},
          "output_type": "execute_result"
        }
      ],
      "source": [
        "\" \"*5"
      ]
    },
    {
      "cell_type": "code",
      "execution_count": null,
      "metadata": {
        "id": "mxmMuWJLkEMg"
      },
      "outputs": [],
      "source": []
    },
    {
      "cell_type": "code",
      "execution_count": null,
      "metadata": {
        "id": "ZpLvG0JhkEMg",
        "outputId": "239fa688-2837-4c79-eb8e-4c8b81efa6e2"
      },
      "outputs": [
        {
          "name": "stdout",
          "output_type": "stream",
          "text": [
            "        * \n",
            "       * * \n",
            "      * * * \n",
            "     * * * * \n",
            "    * * * * * \n",
            "   * * * * * * \n",
            "  * * * * * * * \n",
            " * * * * * * * * \n",
            "* * * * * * * * * \n"
          ]
        }
      ],
      "source": [
        "n =9\n",
        "i=0\n",
        "while i < n :\n",
        "    print(' '*(n-i-1) + '* '*(i+1))\n",
        "    i +=1\n"
      ]
    },
    {
      "cell_type": "code",
      "execution_count": null,
      "metadata": {
        "id": "oz7EPnmmkEMh",
        "outputId": "9251ff6e-db32-42ca-8c1e-c876f942a212"
      },
      "outputs": [
        {
          "name": "stdout",
          "output_type": "stream",
          "text": [
            "    *\n",
            "   ***\n",
            "  *****\n",
            " *******\n",
            "*********\n"
          ]
        }
      ],
      "source": [
        "i=1\n",
        "k=1 #for printing starts with the increament of 2\n",
        "\n",
        "while i<=5:\n",
        "    b=1\n",
        "    while b<=5-i:\n",
        "        print(' ',end='')\n",
        "        b=b+1\n",
        "        \n",
        "    j=1\n",
        "    while j<=k:\n",
        "        print('*', end='')\n",
        "        j=j+1\n",
        "    print()\n",
        "    \n",
        "    k=k+2\n",
        "    \n",
        "    i=i+1\n"
      ]
    },
    {
      "cell_type": "code",
      "execution_count": null,
      "metadata": {
        "id": "iktljioCkEMj",
        "outputId": "5a9d7af4-3b49-431e-f7d8-b45b63308e66"
      },
      "outputs": [
        {
          "name": "stdout",
          "output_type": "stream",
          "text": [
            "Please enter the amount of rows: 7\n",
            "      *\n",
            "     ***\n",
            "    *****\n",
            "   *******\n",
            "  *********\n",
            " ***********\n",
            "*************\n",
            "**iNeuron-FSDS**\n"
          ]
        }
      ],
      "source": [
        "userInput = int(input(\"Please enter the amount of rows: \"))\n",
        "\n",
        "row = 0\n",
        "while(row < userInput):\n",
        "    row += 1\n",
        "    spaces = userInput - row\n",
        "\n",
        "    spaces_counter = 0\n",
        "    while(spaces_counter < spaces):\n",
        "        print(\" \", end='')\n",
        "        spaces_counter += 1\n",
        "\n",
        "    num_stars = 2*row-1\n",
        "    while(num_stars > 0):\n",
        "        print(\"*\", end='')\n",
        "        num_stars -= 1\n",
        "\n",
        "    print()\n",
        "print(\"**iNeuron-FSDS**\")\n"
      ]
    },
    {
      "cell_type": "code",
      "execution_count": null,
      "metadata": {
        "id": "iaOZg26hkEMk"
      },
      "outputs": [],
      "source": [
        "l = list()"
      ]
    },
    {
      "cell_type": "code",
      "execution_count": null,
      "metadata": {
        "id": "MHW65Su8kEMk"
      },
      "outputs": [],
      "source": [
        "name = \"sudh\"\n",
        "phno = 543535345\n",
        "addr = \"sdfsff\"\n",
        "\n",
        "name , phno , addr = \"sudh \" , 54353453,\"fgfd\""
      ]
    },
    {
      "cell_type": "code",
      "execution_count": null,
      "metadata": {
        "id": "6K9zuQBkkEMl",
        "outputId": "39b22ac6-d941-4cf2-9e58-aa51d8c8d68f"
      },
      "outputs": [
        {
          "data": {
            "text/plain": [
              "7"
            ]
          },
          "execution_count": 122,
          "metadata": {},
          "output_type": "execute_result"
        }
      ],
      "source": [
        "l = [\"sudh\" , 34535,\"sfsfsafa\", True, 45+8j , [3,5,6,\"dfg\"],6.787]\n",
        "\n",
        "len(l)"
      ]
    },
    {
      "cell_type": "code",
      "execution_count": null,
      "metadata": {
        "id": "4DiHgNQJkEMl",
        "outputId": "1d24b14e-b84b-4d62-f9ae-d8830e8c21f3"
      },
      "outputs": [
        {
          "data": {
            "text/plain": [
              "range(0, 10)"
            ]
          },
          "execution_count": 121,
          "metadata": {},
          "output_type": "execute_result"
        }
      ],
      "source": [
        "range(10)"
      ]
    },
    {
      "cell_type": "code",
      "execution_count": null,
      "metadata": {
        "id": "JrtHHmAGkEMm",
        "outputId": "2de2fe4b-9d9e-45e2-af8b-e2fde16d48bf"
      },
      "outputs": [
        {
          "data": {
            "text/plain": [
              "[0, 1, 2, 3, 4, 5, 6, 7, 8, 9]"
            ]
          },
          "execution_count": 119,
          "metadata": {},
          "output_type": "execute_result"
        }
      ],
      "source": [
        "list(range(10))"
      ]
    },
    {
      "cell_type": "code",
      "execution_count": null,
      "metadata": {
        "id": "raTbgzxekEMp",
        "outputId": "fb18cfc9-e2f0-4e89-c856-b346bd35ff20"
      },
      "outputs": [
        {
          "name": "stdout",
          "output_type": "stream",
          "text": [
            "4\n",
            "5\n",
            "6\n",
            "7\n",
            "8\n",
            "9\n"
          ]
        }
      ],
      "source": [
        "for  i in range(4,10):\n",
        "    print(i)"
      ]
    },
    {
      "cell_type": "code",
      "execution_count": null,
      "metadata": {
        "id": "avAuGkCVkEMr",
        "outputId": "7f7b9661-f5c5-404a-ac66-3ac0408ced54"
      },
      "outputs": [
        {
          "data": {
            "text/plain": [
              "[]"
            ]
          },
          "execution_count": 114,
          "metadata": {},
          "output_type": "execute_result"
        }
      ],
      "source": [
        "l[80 :3:1]"
      ]
    },
    {
      "cell_type": "code",
      "execution_count": null,
      "metadata": {
        "id": "6AE48gaQkEMs",
        "outputId": "b6034d8a-5b29-4ece-d4ff-b5c148b59da1"
      },
      "outputs": [
        {
          "name": "stdout",
          "output_type": "stream",
          "text": [
            "14\n",
            "<class 'str'>\n"
          ]
        }
      ],
      "source": [
        "for i in l :\n",
        "    if type(i) == list:\n",
        "        n = 0\n",
        "        for  j in i :\n",
        "            if type(j) == int :\n",
        "                n = n + j\n",
        "        print(n)\n",
        "                \n",
        "        print(type(j))"
      ]
    },
    {
      "cell_type": "code",
      "execution_count": null,
      "metadata": {
        "id": "2nrhaKc8kEMt",
        "outputId": "7c3e2901-ae32-41af-a916-8041146a966c"
      },
      "outputs": [
        {
          "data": {
            "text/plain": [
              "list"
            ]
          },
          "execution_count": 88,
          "metadata": {},
          "output_type": "execute_result"
        }
      ],
      "source": [
        "type(l)"
      ]
    },
    {
      "cell_type": "code",
      "execution_count": null,
      "metadata": {
        "id": "l2Qn4egokEMu",
        "outputId": "b1fe711b-c006-423a-db47-5846d46694b1"
      },
      "outputs": [
        {
          "data": {
            "text/plain": [
              "list"
            ]
          },
          "execution_count": 94,
          "metadata": {},
          "output_type": "execute_result"
        }
      ],
      "source": [
        "l1 = []\n",
        "type(l1)"
      ]
    },
    {
      "cell_type": "code",
      "execution_count": null,
      "metadata": {
        "id": "GnAZYFvikEMv",
        "outputId": "9c6fbac9-f986-419d-f3e2-7ac17c2dafd5"
      },
      "outputs": [
        {
          "data": {
            "text/plain": [
              "list"
            ]
          },
          "execution_count": 95,
          "metadata": {},
          "output_type": "execute_result"
        }
      ],
      "source": [
        "l2 = list()\n",
        "type(l2)"
      ]
    },
    {
      "cell_type": "code",
      "execution_count": null,
      "metadata": {
        "id": "BDJaVpkYkEMw",
        "outputId": "c45bd48e-02df-4d42-de57-9d86f3a1946e"
      },
      "outputs": [
        {
          "data": {
            "text/plain": [
              "list"
            ]
          },
          "execution_count": 90,
          "metadata": {},
          "output_type": "execute_result"
        }
      ],
      "source": [
        "type(l1)"
      ]
    },
    {
      "cell_type": "code",
      "execution_count": null,
      "metadata": {
        "id": "ZyWvKiQAkEMw",
        "outputId": "c7a449e0-ed09-4ca5-ed41-450a4894822b"
      },
      "outputs": [
        {
          "data": {
            "text/plain": [
              "'sudh'"
            ]
          },
          "execution_count": 85,
          "metadata": {},
          "output_type": "execute_result"
        }
      ],
      "source": [
        "l[0]"
      ]
    },
    {
      "cell_type": "code",
      "execution_count": null,
      "metadata": {
        "id": "1jwWuUwikEMx",
        "outputId": "d19a7e17-605d-40aa-a218-8b75b1b6fd47"
      },
      "outputs": [
        {
          "data": {
            "text/plain": [
              "34535"
            ]
          },
          "execution_count": 86,
          "metadata": {},
          "output_type": "execute_result"
        }
      ],
      "source": [
        "l[1]"
      ]
    },
    {
      "cell_type": "code",
      "execution_count": null,
      "metadata": {
        "id": "6D6TB-cykEMy",
        "outputId": "105fcad5-d71f-4a6d-acd3-a41838c38238"
      },
      "outputs": [
        {
          "data": {
            "text/plain": [
              "'sfsfsafa'"
            ]
          },
          "execution_count": 87,
          "metadata": {},
          "output_type": "execute_result"
        }
      ],
      "source": [
        "l[2]"
      ]
    },
    {
      "cell_type": "code",
      "execution_count": null,
      "metadata": {
        "id": "ov9U1TwhkEMy"
      },
      "outputs": [],
      "source": []
    }
  ],
  "metadata": {
    "colab": {
      "name": "7th march live class notebook for loop while and range function  (1).ipynb",
      "provenance": []
    },
    "kernelspec": {
      "display_name": "Python 3",
      "language": "python",
      "name": "python3"
    },
    "language_info": {
      "codemirror_mode": {
        "name": "ipython",
        "version": 3
      },
      "file_extension": ".py",
      "mimetype": "text/x-python",
      "name": "python",
      "nbconvert_exporter": "python",
      "pygments_lexer": "ipython3",
      "version": "3.8.6"
    }
  },
  "nbformat": 4,
  "nbformat_minor": 0
}
