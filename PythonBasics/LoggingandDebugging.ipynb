{
 "cells": [
  {
   "cell_type": "markdown",
   "metadata": {},
   "source": [
    "Logging and Debugging"
   ]
  },
  {
   "cell_type": "code",
   "execution_count": 3,
   "metadata": {},
   "outputs": [],
   "source": [
    "import logging as lg"
   ]
  },
  {
   "cell_type": "code",
   "execution_count": 4,
   "metadata": {},
   "outputs": [
    {
     "ename": "FileExistsError",
     "evalue": "[WinError 183] Cannot create a file when that file already exists: 'Logs'",
     "output_type": "error",
     "traceback": [
      "\u001b[1;31m---------------------------------------------------------------------------\u001b[0m",
      "\u001b[1;31mFileExistsError\u001b[0m                           Traceback (most recent call last)",
      "\u001b[1;32mc:\\Users\\lenovo\\Desktop\\Learnings\\Ineuron\\Data Science Master\\PythonBasics\\LoggingandDebugging.ipynb Cell 3'\u001b[0m in \u001b[0;36m<module>\u001b[1;34m\u001b[0m\n\u001b[0;32m      <a href='vscode-notebook-cell:/c%3A/Users/lenovo/Desktop/Learnings/Ineuron/Data%20Science%20Master/PythonBasics/LoggingandDebugging.ipynb#ch0000016?line=0'>1</a>\u001b[0m \u001b[39mimport\u001b[39;00m \u001b[39mos\u001b[39;00m\n\u001b[1;32m----> <a href='vscode-notebook-cell:/c%3A/Users/lenovo/Desktop/Learnings/Ineuron/Data%20Science%20Master/PythonBasics/LoggingandDebugging.ipynb#ch0000016?line=1'>2</a>\u001b[0m os\u001b[39m.\u001b[39;49mmkdir(\u001b[39m\"\u001b[39;49m\u001b[39mLogs\u001b[39;49m\u001b[39m\"\u001b[39;49m)\n",
      "\u001b[1;31mFileExistsError\u001b[0m: [WinError 183] Cannot create a file when that file already exists: 'Logs'"
     ]
    }
   ],
   "source": [
    "import os\n",
    "os.mkdir(\"Logs\")"
   ]
  },
  {
   "cell_type": "code",
   "execution_count": null,
   "metadata": {},
   "outputs": [],
   "source": [
    "os.chdir(os.getcwd()+ \"/Logs\")"
   ]
  },
  {
   "cell_type": "code",
   "execution_count": null,
   "metadata": {},
   "outputs": [
    {
     "data": {
      "text/plain": [
       "'c:\\\\Users\\\\lenovo\\\\Desktop\\\\Learnings\\\\Ineuron\\\\Data Science Master\\\\PythonBasics\\\\Logs'"
      ]
     },
     "execution_count": 5,
     "metadata": {},
     "output_type": "execute_result"
    }
   ],
   "source": [
    "os.getcwd()"
   ]
  },
  {
   "cell_type": "code",
   "execution_count": null,
   "metadata": {},
   "outputs": [],
   "source": [
    "lg.basicConfig(filename=\"test.log\",level = lg.INFO,format='%(asctime)s - %(message)s')"
   ]
  },
  {
   "cell_type": "code",
   "execution_count": null,
   "metadata": {},
   "outputs": [],
   "source": [
    "lg.info(\"I am going to startmy program\")"
   ]
  },
  {
   "cell_type": "code",
   "execution_count": null,
   "metadata": {},
   "outputs": [],
   "source": [
    "lg.warning(\"This is the warning to modify the package\")"
   ]
  },
  {
   "cell_type": "code",
   "execution_count": null,
   "metadata": {},
   "outputs": [],
   "source": [
    "lg.error(\"Syntax error\")"
   ]
  },
  {
   "cell_type": "code",
   "execution_count": null,
   "metadata": {},
   "outputs": [],
   "source": []
  },
  {
   "cell_type": "code",
   "execution_count": null,
   "metadata": {},
   "outputs": [],
   "source": [
    "import logging\n",
    "\n",
    "logging.basicConfig(format='%(asctime)s - %(message)s', datefmt='%d-%b-%y %H:%M:%S')\n",
    "logging.warning('Admin logged out')"
   ]
  },
  {
   "cell_type": "code",
   "execution_count": null,
   "metadata": {},
   "outputs": [],
   "source": [
    "import logging\n",
    "\n",
    "logging.basicConfig(format='%(asctime)s - %(message)s', datefmt='%d-%b-%y %H:%M:%S')\n",
    "logging.warning('Admin logged out')"
   ]
  },
  {
   "cell_type": "code",
   "execution_count": null,
   "metadata": {},
   "outputs": [],
   "source": [
    "import logging as lg\n",
    "def add(a,b):\n",
    "    lg.info(\"command is inside the function\")\n",
    "    return a,b"
   ]
  },
  {
   "cell_type": "code",
   "execution_count": null,
   "metadata": {},
   "outputs": [
    {
     "data": {
      "text/plain": [
       "(3, 3)"
      ]
     },
     "execution_count": 50,
     "metadata": {},
     "output_type": "execute_result"
    }
   ],
   "source": [
    "add(3,3)"
   ]
  },
  {
   "cell_type": "code",
   "execution_count": null,
   "metadata": {},
   "outputs": [],
   "source": [
    "lg.warning('Admin logged warning')\n",
    "lg.debug('Admin logged debug')\n",
    "lg.critical('Admin logged critical')\n",
    "lg.error('Admin logged error')\n",
    "lg.info('Admin logged info')\n",
    "lg.exception('Admin logged exception')"
   ]
  },
  {
   "cell_type": "code",
   "execution_count": 1,
   "metadata": {},
   "outputs": [],
   "source": [
    "# Class Activity\n",
    "\n",
    "import logging as lg\n",
    "\n",
    "lg.basicConfig(filename = r\"C:\\Users\\lenovo\\Desktop\\Learnings\\Ineuron\\Data Science Master\\PythonBasics\\Logs\\test2.log\",level =lg.INFO,format='%(asctime)s - %(message)s')"
   ]
  },
  {
   "cell_type": "code",
   "execution_count": 2,
   "metadata": {},
   "outputs": [],
   "source": [
    "def sub(*args):\n",
    "    result = 0\n",
    "    lg.info(\"Inisialised the result as \"+ str(result))\n",
    "    # userinp = int(input(\"enter the data\"))\n",
    "    for i in args:\n",
    "        result = result +i\n",
    "        lg.info(\"inside the for loop the result is \"+ str(result))\n",
    "    return result"
   ]
  },
  {
   "cell_type": "code",
   "execution_count": 3,
   "metadata": {},
   "outputs": [
    {
     "data": {
      "text/plain": [
       "1450"
      ]
     },
     "execution_count": 3,
     "metadata": {},
     "output_type": "execute_result"
    }
   ],
   "source": [
    "sub(100,3,2,3,12,300,400,230,400)"
   ]
  },
  {
   "cell_type": "code",
   "execution_count": 4,
   "metadata": {},
   "outputs": [
    {
     "data": {
      "text/plain": [
       "'c:\\\\Users\\\\lenovo\\\\Desktop\\\\Learnings\\\\Ineuron\\\\Data Science Master\\\\PythonBasics'"
      ]
     },
     "execution_count": 4,
     "metadata": {},
     "output_type": "execute_result"
    }
   ],
   "source": [
    "import os\n",
    "os.getcwd()"
   ]
  },
  {
   "cell_type": "code",
   "execution_count": 12,
   "metadata": {},
   "outputs": [],
   "source": [
    "f= open(r\"C:\\Users\\lenovo\\Desktop\\Learnings\\Ineuron\\Data Science Master\\PythonBasics\\Logs\\test2.log\")\n",
    "f.read()\n",
    "f.close()"
   ]
  },
  {
   "cell_type": "code",
   "execution_count": 8,
   "metadata": {},
   "outputs": [],
   "source": [
    "# Complex logging\n",
    "\n",
    "os.chdir(r\"C:\\Users\\lenovo\\Desktop\\Learnings\\Ineuron\\Data Science Master\\PythonBasics\\Logs\")"
   ]
  },
  {
   "cell_type": "code",
   "execution_count": 9,
   "metadata": {},
   "outputs": [
    {
     "data": {
      "text/plain": [
       "'C:\\\\Users\\\\lenovo\\\\Desktop\\\\Learnings\\\\Ineuron\\\\Data Science Master\\\\PythonBasics\\\\Logs'"
      ]
     },
     "execution_count": 9,
     "metadata": {},
     "output_type": "execute_result"
    }
   ],
   "source": [
    "os.getcwd()"
   ]
  },
  {
   "cell_type": "code",
   "execution_count": 1,
   "metadata": {},
   "outputs": [],
   "source": [
    "import logging as lg\n",
    "lg.basicConfig(filename ='C:\\\\Users\\\\lenovo\\\\Desktop\\\\Learnings\\\\Ineuron\\\\Data Science Master\\\\PythonBasics\\\\Logs\\\\test3.log',level = lg.DEBUG)"
   ]
  },
  {
   "cell_type": "code",
   "execution_count": 2,
   "metadata": {},
   "outputs": [],
   "source": [
    "console_log = lg.StreamHandler()\n",
    "console_log.setLevel(lg.INFO)"
   ]
  },
  {
   "cell_type": "code",
   "execution_count": 3,
   "metadata": {},
   "outputs": [
    {
     "data": {
      "text/plain": [
       "<StreamHandler stderr (INFO)>"
      ]
     },
     "execution_count": 3,
     "metadata": {},
     "output_type": "execute_result"
    }
   ],
   "source": [
    "console_log"
   ]
  },
  {
   "cell_type": "code",
   "execution_count": 4,
   "metadata": {},
   "outputs": [],
   "source": [
    "format='%(asctime)s - %(message)s'"
   ]
  },
  {
   "cell_type": "code",
   "execution_count": 5,
   "metadata": {},
   "outputs": [],
   "source": [
    "console_log.setFormatter(format)"
   ]
  },
  {
   "cell_type": "code",
   "execution_count": 6,
   "metadata": {},
   "outputs": [],
   "source": [
    "lg.getLogger('').addHandler(console_log)"
   ]
  },
  {
   "cell_type": "code",
   "execution_count": 7,
   "metadata": {},
   "outputs": [
    {
     "name": "stderr",
     "output_type": "stream",
     "text": [
      "%(asctime)s - %(message)s\n"
     ]
    }
   ],
   "source": [
    "lg.info(\"This is test code for log\")"
   ]
  },
  {
   "cell_type": "code",
   "execution_count": 8,
   "metadata": {},
   "outputs": [],
   "source": [
    "logger1 = lg.getLogger(\"logger1.area1\")\n",
    "logger2 = lg.getLogger(\"logger1.area2\")"
   ]
  },
  {
   "cell_type": "code",
   "execution_count": 10,
   "metadata": {},
   "outputs": [
    {
     "name": "stderr",
     "output_type": "stream",
     "text": [
      "%(asctime)s - %(message)s\n",
      "%(asctime)s - %(message)s\n"
     ]
    }
   ],
   "source": [
    "logger1.info(\"This is info for logger1\")\n",
    "logger2.debug(\"This is info for logger2\")\n",
    "logger2.info(\"This is info for logger1\")"
   ]
  },
  {
   "cell_type": "code",
   "execution_count": null,
   "metadata": {},
   "outputs": [],
   "source": []
  },
  {
   "cell_type": "code",
   "execution_count": 11,
   "metadata": {},
   "outputs": [],
   "source": [
    "# Debugger\n"
   ]
  },
  {
   "cell_type": "code",
   "execution_count": 13,
   "metadata": {},
   "outputs": [],
   "source": [
    "\n",
    "def testdebug():\n",
    "    l = []\n",
    "    for i in range(10):\n",
    "        l.append(i)\n",
    "        print(i, \"added in list\")"
   ]
  },
  {
   "cell_type": "code",
   "execution_count": 14,
   "metadata": {},
   "outputs": [
    {
     "name": "stdout",
     "output_type": "stream",
     "text": [
      "Collecting ipdb\n",
      "  Downloading ipdb-0.13.9.tar.gz (16 kB)\n",
      "Requirement already satisfied: setuptools in c:\\users\\lenovo\\appdata\\local\\programs\\python\\python38\\lib\\site-packages (from ipdb) (49.2.1)\n",
      "Requirement already satisfied: ipython>=7.17.0 in c:\\users\\lenovo\\appdata\\local\\programs\\python\\python38\\lib\\site-packages (from ipdb) (8.0.1)\n",
      "Collecting toml>=0.10.2\n",
      "  Downloading toml-0.10.2-py2.py3-none-any.whl (16 kB)\n",
      "Requirement already satisfied: decorator in c:\\users\\lenovo\\appdata\\local\\programs\\python\\python38\\lib\\site-packages (from ipdb) (5.1.1)\n",
      "Requirement already satisfied: backcall in c:\\users\\lenovo\\appdata\\local\\programs\\python\\python38\\lib\\site-packages (from ipython>=7.17.0->ipdb) (0.2.0)\n",
      "Requirement already satisfied: jedi>=0.16 in c:\\users\\lenovo\\appdata\\local\\programs\\python\\python38\\lib\\site-packages (from ipython>=7.17.0->ipdb) (0.18.1)\n",
      "Requirement already satisfied: black in c:\\users\\lenovo\\appdata\\local\\programs\\python\\python38\\lib\\site-packages (from ipython>=7.17.0->ipdb) (22.1.0)\n",
      "Requirement already satisfied: colorama; sys_platform == \"win32\" in c:\\users\\lenovo\\appdata\\local\\programs\\python\\python38\\lib\\site-packages (from ipython>=7.17.0->ipdb) (0.4.4)\n",
      "Requirement already satisfied: pygments in c:\\users\\lenovo\\appdata\\local\\programs\\python\\python38\\lib\\site-packages (from ipython>=7.17.0->ipdb) (2.11.2)\n",
      "Requirement already satisfied: stack-data in c:\\users\\lenovo\\appdata\\local\\programs\\python\\python38\\lib\\site-packages (from ipython>=7.17.0->ipdb) (0.1.4)\n",
      "Requirement already satisfied: prompt-toolkit!=3.0.0,!=3.0.1,<3.1.0,>=2.0.0 in c:\\users\\lenovo\\appdata\\local\\programs\\python\\python38\\lib\\site-packages (from ipython>=7.17.0->ipdb) (3.0.26)\n",
      "Requirement already satisfied: traitlets>=5 in c:\\users\\lenovo\\appdata\\local\\programs\\python\\python38\\lib\\site-packages (from ipython>=7.17.0->ipdb) (5.1.1)"
     ]
    },
    {
     "name": "stderr",
     "output_type": "stream",
     "text": [
      "WARNING: You are using pip version 20.2.1; however, version 22.0.3 is available.\n",
      "You should consider upgrading via the 'c:\\users\\lenovo\\appdata\\local\\programs\\python\\python38\\python.exe -m pip install --upgrade pip' command.\n"
     ]
    },
    {
     "name": "stdout",
     "output_type": "stream",
     "text": [
      "\n",
      "Requirement already satisfied: matplotlib-inline in c:\\users\\lenovo\\appdata\\local\\programs\\python\\python38\\lib\\site-packages (from ipython>=7.17.0->ipdb) (0.1.3)\n",
      "Requirement already satisfied: pickleshare in c:\\users\\lenovo\\appdata\\local\\programs\\python\\python38\\lib\\site-packages (from ipython>=7.17.0->ipdb) (0.7.5)\n",
      "Requirement already satisfied: parso<0.9.0,>=0.8.0 in c:\\users\\lenovo\\appdata\\local\\programs\\python\\python38\\lib\\site-packages (from jedi>=0.16->ipython>=7.17.0->ipdb) (0.8.3)\n",
      "Requirement already satisfied: mypy-extensions>=0.4.3 in c:\\users\\lenovo\\appdata\\local\\programs\\python\\python38\\lib\\site-packages (from black->ipython>=7.17.0->ipdb) (0.4.3)\n",
      "Requirement already satisfied: pathspec>=0.9.0 in c:\\users\\lenovo\\appdata\\local\\programs\\python\\python38\\lib\\site-packages (from black->ipython>=7.17.0->ipdb) (0.9.0)\n",
      "Requirement already satisfied: platformdirs>=2 in c:\\users\\lenovo\\appdata\\local\\programs\\python\\python38\\lib\\site-packages (from black->ipython>=7.17.0->ipdb) (2.4.1)\n",
      "Requirement already satisfied: tomli>=1.1.0 in c:\\users\\lenovo\\appdata\\local\\programs\\python\\python38\\lib\\site-packages (from black->ipython>=7.17.0->ipdb) (2.0.0)\n",
      "Requirement already satisfied: typing-extensions>=3.10.0.0; python_version < \"3.10\" in c:\\users\\lenovo\\appdata\\local\\programs\\python\\python38\\lib\\site-packages (from black->ipython>=7.17.0->ipdb) (4.0.1)\n",
      "Requirement already satisfied: click>=8.0.0 in c:\\users\\lenovo\\appdata\\local\\programs\\python\\python38\\lib\\site-packages (from black->ipython>=7.17.0->ipdb) (8.0.3)\n",
      "Requirement already satisfied: asttokens in c:\\users\\lenovo\\appdata\\local\\programs\\python\\python38\\lib\\site-packages (from stack-data->ipython>=7.17.0->ipdb) (2.0.5)\n",
      "Requirement already satisfied: pure-eval in c:\\users\\lenovo\\appdata\\local\\programs\\python\\python38\\lib\\site-packages (from stack-data->ipython>=7.17.0->ipdb) (0.2.2)\n",
      "Requirement already satisfied: executing in c:\\users\\lenovo\\appdata\\local\\programs\\python\\python38\\lib\\site-packages (from stack-data->ipython>=7.17.0->ipdb) (0.8.2)\n",
      "Requirement already satisfied: wcwidth in c:\\users\\lenovo\\appdata\\local\\programs\\python\\python38\\lib\\site-packages (from prompt-toolkit!=3.0.0,!=3.0.1,<3.1.0,>=2.0.0->ipython>=7.17.0->ipdb) (0.2.5)\n",
      "Requirement already satisfied: six in c:\\users\\lenovo\\appdata\\local\\programs\\python\\python38\\lib\\site-packages (from asttokens->stack-data->ipython>=7.17.0->ipdb) (1.16.0)\n",
      "Using legacy 'setup.py install' for ipdb, since package 'wheel' is not installed.\n",
      "Installing collected packages: toml, ipdb\n",
      "    Running setup.py install for ipdb: started\n",
      "    Running setup.py install for ipdb: finished with status 'done'\n",
      "Successfully installed ipdb-0.13.9 toml-0.10.2\n"
     ]
    }
   ],
   "source": [
    "!pip install ipdb"
   ]
  },
  {
   "cell_type": "code",
   "execution_count": 1,
   "metadata": {},
   "outputs": [],
   "source": [
    "import ipdb  # ipython debugger"
   ]
  },
  {
   "cell_type": "code",
   "execution_count": 6,
   "metadata": {},
   "outputs": [],
   "source": [
    "\n",
    "def testdebug():\n",
    "    ipdb.set_trace()\n",
    "    l = []\n",
    "    for i in range(10):\n",
    "        l.append(i)\n",
    "        print(i, \"added in list\")\n",
    "    return l"
   ]
  },
  {
   "cell_type": "code",
   "execution_count": null,
   "metadata": {},
   "outputs": [],
   "source": []
  }
 ],
 "metadata": {
  "interpreter": {
   "hash": "1784f50464a290d377b97189f8cc5b1fac9ec055258da1c83eeefa641d3a79e6"
  },
  "kernelspec": {
   "display_name": "Python 3.8.6 64-bit",
   "language": "python",
   "name": "python3"
  },
  "language_info": {
   "codemirror_mode": {
    "name": "ipython",
    "version": 3
   },
   "file_extension": ".py",
   "mimetype": "text/x-python",
   "name": "python",
   "nbconvert_exporter": "python",
   "pygments_lexer": "ipython3",
   "version": "3.8.6"
  },
  "orig_nbformat": 4
 },
 "nbformat": 4,
 "nbformat_minor": 2
}
