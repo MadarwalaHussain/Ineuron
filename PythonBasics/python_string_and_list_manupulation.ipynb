{
  "cells": [
    {
      "cell_type": "code",
      "execution_count": 1,
      "metadata": {
        "id": "q4KHURVFl9bH"
      },
      "outputs": [],
      "source": [
        "a = \"sud'h\""
      ]
    },
    {
      "cell_type": "code",
      "execution_count": 2,
      "metadata": {
        "id": "vLafFNzvl9bT"
      },
      "outputs": [],
      "source": [
        "b = 'sud\"h'"
      ]
    },
    {
      "cell_type": "code",
      "execution_count": 3,
      "metadata": {
        "id": "cceapzNkl9bW",
        "outputId": "700d96c0-2b90-4dda-d07f-32a910cbaae6"
      },
      "outputs": [
        {
          "data": {
            "text/plain": [
              "\"sud'h\""
            ]
          },
          "execution_count": 3,
          "metadata": {},
          "output_type": "execute_result"
        }
      ],
      "source": [
        "a"
      ]
    },
    {
      "cell_type": "code",
      "execution_count": 4,
      "metadata": {
        "id": "CVjarUX_l9bZ",
        "outputId": "7fd5533d-0ff6-43a4-c496-97fb7927410b"
      },
      "outputs": [
        {
          "data": {
            "text/plain": [
              "'sud\"h'"
            ]
          },
          "execution_count": 4,
          "metadata": {},
          "output_type": "execute_result"
        }
      ],
      "source": [
        "b"
      ]
    },
    {
      "cell_type": "code",
      "execution_count": null,
      "metadata": {
        "id": "7TZsRrJ0l9be"
      },
      "outputs": [],
      "source": [
        "c = 'this is my first class for full stack data science  that\"s why i have joined this class '"
      ]
    },
    {
      "cell_type": "code",
      "execution_count": null,
      "metadata": {
        "id": "948mWM4kl9bg",
        "outputId": "016e594f-b870-46a3-aed2-c8948e2a97d6"
      },
      "outputs": [
        {
          "data": {
            "text/plain": [
              "'this is my first class for full stack data science  that\"s why i have joined this class '"
            ]
          },
          "execution_count": 13,
          "metadata": {},
          "output_type": "execute_result"
        }
      ],
      "source": [
        "c"
      ]
    },
    {
      "cell_type": "code",
      "execution_count": null,
      "metadata": {
        "id": "XVTeTlral9bh"
      },
      "outputs": [],
      "source": [
        "s = \"this is full stack class\""
      ]
    },
    {
      "cell_type": "code",
      "execution_count": null,
      "metadata": {
        "id": "dUjmkzY8l9bj",
        "outputId": "95c57586-e585-45f3-c78e-1cdb01c86472"
      },
      "outputs": [
        {
          "data": {
            "text/plain": [
              "'t'"
            ]
          },
          "execution_count": 22,
          "metadata": {},
          "output_type": "execute_result"
        }
      ],
      "source": [
        "s[0]"
      ]
    },
    {
      "cell_type": "code",
      "execution_count": null,
      "metadata": {
        "id": "8devYK6Il9bl",
        "outputId": "42167679-fccb-4446-88f9-71c868d88465"
      },
      "outputs": [
        {
          "data": {
            "text/plain": [
              "'s'"
            ]
          },
          "execution_count": 23,
          "metadata": {},
          "output_type": "execute_result"
        }
      ],
      "source": [
        "s[-1]"
      ]
    },
    {
      "cell_type": "code",
      "execution_count": null,
      "metadata": {
        "id": "UIlq6tx7l9bn",
        "outputId": "205d36d9-4081-4d1c-8a08-c109ccf8e740"
      },
      "outputs": [
        {
          "data": {
            "text/plain": [
              "24"
            ]
          },
          "execution_count": 24,
          "metadata": {},
          "output_type": "execute_result"
        }
      ],
      "source": [
        "len(s)"
      ]
    },
    {
      "cell_type": "code",
      "execution_count": null,
      "metadata": {
        "id": "eA5aRoXQl9bp",
        "outputId": "77195126-ecf4-4710-cda9-9b5434b983d2"
      },
      "outputs": [
        {
          "ename": "IndexError",
          "evalue": "string index out of range",
          "output_type": "error",
          "traceback": [
            "\u001b[1;31m---------------------------------------------------------------------------\u001b[0m",
            "\u001b[1;31mIndexError\u001b[0m                                Traceback (most recent call last)",
            "\u001b[1;32m<ipython-input-25-2a138df92e52>\u001b[0m in \u001b[0;36m<module>\u001b[1;34m\u001b[0m\n\u001b[1;32m----> 1\u001b[1;33m \u001b[0ms\u001b[0m\u001b[1;33m[\u001b[0m\u001b[1;36m100\u001b[0m\u001b[1;33m]\u001b[0m\u001b[1;33m\u001b[0m\u001b[1;33m\u001b[0m\u001b[0m\n\u001b[0m",
            "\u001b[1;31mIndexError\u001b[0m: string index out of range"
          ]
        }
      ],
      "source": [
        "s[100]"
      ]
    },
    {
      "cell_type": "code",
      "execution_count": null,
      "metadata": {
        "id": "MwNzHxl3l9bq",
        "outputId": "3046a936-9a72-4b3f-9bb7-817974a6d1f9"
      },
      "outputs": [
        {
          "data": {
            "text/plain": [
              "'ssalc kca'"
            ]
          },
          "execution_count": 29,
          "metadata": {},
          "output_type": "execute_result"
        }
      ],
      "source": [
        "s[-1:-10:-1]"
      ]
    },
    {
      "cell_type": "code",
      "execution_count": null,
      "metadata": {
        "id": "ZPwnt4pNl9bt",
        "outputId": "9bb583af-4de7-45c1-a956-d3cab3e0ad0b"
      },
      "outputs": [
        {
          "data": {
            "text/plain": [
              "'ssalc kcats lluf si siht'"
            ]
          },
          "execution_count": 33,
          "metadata": {},
          "output_type": "execute_result"
        }
      ],
      "source": [
        "s[::-1]"
      ]
    },
    {
      "cell_type": "code",
      "execution_count": null,
      "metadata": {
        "id": "g2kDSBkwl9bv"
      },
      "outputs": [],
      "source": []
    },
    {
      "cell_type": "code",
      "execution_count": null,
      "metadata": {
        "id": "W0goyifPl9bw",
        "outputId": "bb4f5b9c-ada3-43e2-874c-50d206356ac3"
      },
      "outputs": [
        {
          "data": {
            "text/plain": [
              "'this is full stack class'"
            ]
          },
          "execution_count": 46,
          "metadata": {},
          "output_type": "execute_result"
        }
      ],
      "source": [
        "s"
      ]
    },
    {
      "cell_type": "code",
      "execution_count": null,
      "metadata": {
        "id": "UgYWHZuWl9by",
        "outputId": "14c6ae17-031f-4c99-e144-40c9b997371b"
      },
      "outputs": [
        {
          "data": {
            "text/plain": [
              "'sackaslu ish'"
            ]
          },
          "execution_count": 47,
          "metadata": {},
          "output_type": "execute_result"
        }
      ],
      "source": [
        "s[::-2]"
      ]
    },
    {
      "cell_type": "code",
      "execution_count": null,
      "metadata": {
        "id": "f1q3z9vhl9bz",
        "outputId": "de0b4032-03eb-4ab2-c6ea-6808ca500da1"
      },
      "outputs": [
        {
          "data": {
            "text/plain": [
              "'this is full stack class'"
            ]
          },
          "execution_count": 34,
          "metadata": {},
          "output_type": "execute_result"
        }
      ],
      "source": [
        "s "
      ]
    },
    {
      "cell_type": "code",
      "execution_count": null,
      "metadata": {
        "id": "K4yXHV_ol9b0",
        "outputId": "5767765f-30b0-484d-9874-43af72891edc"
      },
      "outputs": [
        {
          "ename": "TypeError",
          "evalue": "'str' object does not support item assignment",
          "output_type": "error",
          "traceback": [
            "\u001b[1;31m---------------------------------------------------------------------------\u001b[0m",
            "\u001b[1;31mTypeError\u001b[0m                                 Traceback (most recent call last)",
            "\u001b[1;32m<ipython-input-36-416b596371a8>\u001b[0m in \u001b[0;36m<module>\u001b[1;34m\u001b[0m\n\u001b[1;32m----> 1\u001b[1;33m \u001b[0ms\u001b[0m\u001b[1;33m[\u001b[0m\u001b[1;36m0\u001b[0m\u001b[1;33m]\u001b[0m \u001b[1;33m=\u001b[0m \u001b[1;34m\"x\"\u001b[0m\u001b[1;33m\u001b[0m\u001b[1;33m\u001b[0m\u001b[0m\n\u001b[0m",
            "\u001b[1;31mTypeError\u001b[0m: 'str' object does not support item assignment"
          ]
        }
      ],
      "source": [
        "s[0] = \"x\""
      ]
    },
    {
      "cell_type": "code",
      "execution_count": null,
      "metadata": {
        "id": "XboT_rLMl9b1"
      },
      "outputs": [],
      "source": [
        "l = [\"sdfs\",234,345.45,True]"
      ]
    },
    {
      "cell_type": "code",
      "execution_count": null,
      "metadata": {
        "id": "4XzS9BeGl9b2",
        "outputId": "4b80f87b-936f-4479-fa87-d69747f9aa27"
      },
      "outputs": [
        {
          "data": {
            "text/plain": [
              "'this is full stack class'"
            ]
          },
          "execution_count": 41,
          "metadata": {},
          "output_type": "execute_result"
        }
      ],
      "source": [
        "s"
      ]
    },
    {
      "cell_type": "code",
      "execution_count": 7,
      "metadata": {
        "id": "5pEuE8N2l9b3"
      },
      "outputs": [],
      "source": [
        "s = \"Hussain Madarwala\""
      ]
    },
    {
      "cell_type": "code",
      "execution_count": 8,
      "metadata": {
        "id": "zYGZaP0El9b4",
        "outputId": "ae6f2668-cfe9-4d63-cf5e-d98d3f9c5b08"
      },
      "outputs": [
        {
          "data": {
            "text/plain": [
              "'Hussain Madarwala'"
            ]
          },
          "execution_count": 8,
          "metadata": {},
          "output_type": "execute_result"
        }
      ],
      "source": [
        "s"
      ]
    },
    {
      "cell_type": "code",
      "execution_count": null,
      "metadata": {
        "id": "gU_kd60Ml9b5"
      },
      "outputs": [],
      "source": [
        "l[0] = \"sudh\""
      ]
    },
    {
      "cell_type": "code",
      "execution_count": null,
      "metadata": {
        "id": "BcKvtC1Wl9b6",
        "outputId": "6a39d0ef-16c5-43ea-ddb0-a275fcf1221e"
      },
      "outputs": [
        {
          "data": {
            "text/plain": [
              "['sudh', 234, 345.45, True]"
            ]
          },
          "execution_count": 40,
          "metadata": {},
          "output_type": "execute_result"
        }
      ],
      "source": [
        "l"
      ]
    },
    {
      "cell_type": "code",
      "execution_count": 9,
      "metadata": {
        "id": "Gah6eJvrl9b9",
        "outputId": "2587915d-0418-4c87-e294-6f22260e5464"
      },
      "outputs": [
        {
          "name": "stdout",
          "output_type": "stream",
          "text": [
            "H\n",
            "u\n",
            "s\n",
            "s\n",
            "a\n",
            "i\n",
            "n\n",
            " \n",
            "M\n",
            "a\n",
            "d\n",
            "a\n",
            "r\n",
            "w\n",
            "a\n",
            "l\n",
            "a\n"
          ]
        }
      ],
      "source": [
        "for i in range(len(s)) :\n",
        "    print(s[i])"
      ]
    },
    {
      "cell_type": "code",
      "execution_count": null,
      "metadata": {
        "id": "uB-G0jYzl9cA",
        "outputId": "76ffd09a-c62e-435a-c282-c493220a112e"
      },
      "outputs": [
        {
          "data": {
            "text/plain": [
              "'sudh kumar '"
            ]
          },
          "execution_count": 49,
          "metadata": {},
          "output_type": "execute_result"
        }
      ],
      "source": [
        "\"sudh\"  + \" kumar \""
      ]
    },
    {
      "cell_type": "code",
      "execution_count": null,
      "metadata": {
        "id": "EGd_EThpl9cB",
        "outputId": "39db7647-b4cd-4652-ba80-f8df6b4e2f93"
      },
      "outputs": [
        {
          "data": {
            "text/plain": [
              "'sudh3'"
            ]
          },
          "execution_count": 52,
          "metadata": {},
          "output_type": "execute_result"
        }
      ],
      "source": [
        "\"sudh\" + str(3) "
      ]
    },
    {
      "cell_type": "code",
      "execution_count": null,
      "metadata": {
        "id": "Sjn4ruiSl9cC",
        "outputId": "f4204253-c25f-40b9-88a9-be59dd34b54d"
      },
      "outputs": [
        {
          "ename": "TypeError",
          "evalue": "can only concatenate str (not \"list\") to str",
          "output_type": "error",
          "traceback": [
            "\u001b[1;31m---------------------------------------------------------------------------\u001b[0m",
            "\u001b[1;31mTypeError\u001b[0m                                 Traceback (most recent call last)",
            "\u001b[1;32m<ipython-input-53-540e0b0cba6f>\u001b[0m in \u001b[0;36m<module>\u001b[1;34m\u001b[0m\n\u001b[1;32m----> 1\u001b[1;33m \u001b[1;34m\"sudh\"\u001b[0m \u001b[1;33m+\u001b[0m \u001b[1;33m[\u001b[0m\u001b[1;34m\"kumar\"\u001b[0m \u001b[1;33m,\u001b[0m \u001b[1;36m3\u001b[0m\u001b[1;33m,\u001b[0m\u001b[1;36m4\u001b[0m\u001b[1;33m,\u001b[0m\u001b[1;36m56\u001b[0m\u001b[1;33m]\u001b[0m\u001b[1;33m\u001b[0m\u001b[1;33m\u001b[0m\u001b[0m\n\u001b[0m",
            "\u001b[1;31mTypeError\u001b[0m: can only concatenate str (not \"list\") to str"
          ]
        }
      ],
      "source": [
        "\"sudh\" + [\"kumar\" , 3,4,56]"
      ]
    },
    {
      "cell_type": "code",
      "execution_count": null,
      "metadata": {
        "id": "GlkmPaGjl9cD",
        "outputId": "5d6fcfd3-b6f8-44d0-d915-0220af73070d"
      },
      "outputs": [
        {
          "data": {
            "text/plain": [
              "'sudh sudh sudh sudh sudh sudh '"
            ]
          },
          "execution_count": 55,
          "metadata": {},
          "output_type": "execute_result"
        }
      ],
      "source": [
        "\"sudh \" * 6"
      ]
    },
    {
      "cell_type": "code",
      "execution_count": null,
      "metadata": {
        "id": "zW1dhYRbl9cE"
      },
      "outputs": [],
      "source": [
        "s = \"my name is sudhanshu kumar , Name of org is ineuron\""
      ]
    },
    {
      "cell_type": "code",
      "execution_count": 11,
      "metadata": {
        "id": "8fOKhZGjl9cF",
        "outputId": "be48f950-d456-458a-8e70-d954dea93be6"
      },
      "outputs": [
        {
          "data": {
            "text/plain": [
              "'Hussain Madarwala'"
            ]
          },
          "execution_count": 11,
          "metadata": {},
          "output_type": "execute_result"
        }
      ],
      "source": [
        "s"
      ]
    },
    {
      "cell_type": "code",
      "execution_count": 15,
      "metadata": {
        "id": "YePPiMjGl9cF",
        "outputId": "8148f317-b766-47ac-9e4b-e2d5718b138b"
      },
      "outputs": [
        {
          "data": {
            "text/plain": [
              "8"
            ]
          },
          "execution_count": 15,
          "metadata": {},
          "output_type": "execute_result"
        }
      ],
      "source": [
        "s.find(\"Madarwala\")"
      ]
    },
    {
      "cell_type": "code",
      "execution_count": 16,
      "metadata": {
        "id": "rhN9k8I4l9cG",
        "outputId": "cc25877b-3ee1-4ab0-e238-e3947761f303"
      },
      "outputs": [
        {
          "name": "stdout",
          "output_type": "stream",
          "text": [
            "8\n",
            "9\n",
            "10\n",
            "11\n",
            "12\n",
            "13\n",
            "14\n",
            "15\n",
            "16\n"
          ]
        }
      ],
      "source": [
        "b = s.find(\"Madarwala\")\n",
        "for i in range(len(\"Madarwala\")):\n",
        "    print(b + i)\n"
      ]
    },
    {
      "cell_type": "code",
      "execution_count": null,
      "metadata": {
        "id": "uMeq0C84l9cG",
        "outputId": "a0c14f48-0e48-4096-c0e2-8d18248f93b5"
      },
      "outputs": [
        {
          "data": {
            "text/plain": [
              "'my name is sudhanshu kumar , Name of org is ineuron'"
            ]
          },
          "execution_count": 71,
          "metadata": {},
          "output_type": "execute_result"
        }
      ],
      "source": [
        "s"
      ]
    },
    {
      "cell_type": "code",
      "execution_count": null,
      "metadata": {
        "id": "YQ9XRu5el9cH",
        "outputId": "74b08150-d4f5-42c1-ccd1-f6423575437c"
      },
      "outputs": [
        {
          "data": {
            "text/plain": [
              "1"
            ]
          },
          "execution_count": 72,
          "metadata": {},
          "output_type": "execute_result"
        }
      ],
      "source": [
        "s.count(\"name\")"
      ]
    },
    {
      "cell_type": "code",
      "execution_count": null,
      "metadata": {
        "id": "BxMzBPrIl9cI",
        "outputId": "aaa6221f-a118-40d5-a0fe-7c900ff80de1"
      },
      "outputs": [
        {
          "data": {
            "text/plain": [
              "'my name is sudhanshu kumar , Name of org is ineuron'"
            ]
          },
          "execution_count": 73,
          "metadata": {},
          "output_type": "execute_result"
        }
      ],
      "source": [
        "s "
      ]
    },
    {
      "cell_type": "code",
      "execution_count": null,
      "metadata": {
        "id": "XwVYOH3fl9cJ",
        "outputId": "bf80f231-b3d9-4f99-c3cf-576788a3e2b1"
      },
      "outputs": [
        {
          "data": {
            "text/plain": [
              "['my',\n",
              " 'name',\n",
              " 'is',\n",
              " 'sudhanshu',\n",
              " 'kumar',\n",
              " ',',\n",
              " 'Name',\n",
              " 'of',\n",
              " 'org',\n",
              " 'is',\n",
              " 'ineuron']"
            ]
          },
          "execution_count": 74,
          "metadata": {},
          "output_type": "execute_result"
        }
      ],
      "source": [
        "s.split()"
      ]
    },
    {
      "cell_type": "code",
      "execution_count": null,
      "metadata": {
        "id": "586RF7zql9cK",
        "outputId": "b38a3f6c-cce7-4c35-9982-845fe939e173"
      },
      "outputs": [
        {
          "data": {
            "text/plain": [
              "list"
            ]
          },
          "execution_count": 78,
          "metadata": {},
          "output_type": "execute_result"
        }
      ],
      "source": [
        "type(s.split('na'))"
      ]
    },
    {
      "cell_type": "code",
      "execution_count": null,
      "metadata": {
        "id": "-Y-IZdVtl9cK",
        "outputId": "92ec3e23-5f33-44bb-9799-3eed0c2b6754"
      },
      "outputs": [
        {
          "data": {
            "text/plain": [
              "'my name is sudhanshu kumar , Name of org is ineuron'"
            ]
          },
          "execution_count": 80,
          "metadata": {},
          "output_type": "execute_result"
        }
      ],
      "source": [
        "s "
      ]
    },
    {
      "cell_type": "code",
      "execution_count": null,
      "metadata": {
        "id": "7_eQNzqGl9cL",
        "outputId": "568f6227-c74d-4d7a-b7b4-05075e05a2b6"
      },
      "outputs": [
        {
          "data": {
            "text/plain": [
              "'MY NAME IS SUDHANSHU KUMAR , NAME OF ORG IS INEURON'"
            ]
          },
          "execution_count": 81,
          "metadata": {},
          "output_type": "execute_result"
        }
      ],
      "source": [
        "s.upper()"
      ]
    },
    {
      "cell_type": "code",
      "execution_count": null,
      "metadata": {
        "id": "8xyqlXnel9cN",
        "outputId": "bd9a721b-9bb2-46a5-8efe-1c182074165d"
      },
      "outputs": [
        {
          "data": {
            "text/plain": [
              "'my name is sudhanshu kumar , name of org is ineuron'"
            ]
          },
          "execution_count": 82,
          "metadata": {},
          "output_type": "execute_result"
        }
      ],
      "source": [
        "s.lower()"
      ]
    },
    {
      "cell_type": "code",
      "execution_count": null,
      "metadata": {
        "id": "4ijWsDO6l9cP",
        "outputId": "96c9b9a5-d13e-4978-cf81-64016894dbb9"
      },
      "outputs": [
        {
          "data": {
            "text/plain": [
              "'MY NAME IS SUDHANSHU KUMAR , nAME OF ORG IS INEURON'"
            ]
          },
          "execution_count": 83,
          "metadata": {},
          "output_type": "execute_result"
        }
      ],
      "source": [
        "s.swapcase()"
      ]
    },
    {
      "cell_type": "code",
      "execution_count": 18,
      "metadata": {
        "id": "hBl5pwGLl9cQ",
        "outputId": "dd536dd6-ff4b-4fbe-813f-afa9903a3623"
      },
      "outputs": [
        {
          "data": {
            "text/plain": [
              "'H[*]u[*]s[*]s[*]a[*]i[*]n[*] [*]M[*]a[*]d[*]a[*]r[*]w[*]a[*]l[*]a'"
            ]
          },
          "execution_count": 18,
          "metadata": {},
          "output_type": "execute_result"
        }
      ],
      "source": [
        "\"[*]\". join(s)"
      ]
    },
    {
      "cell_type": "code",
      "execution_count": null,
      "metadata": {
        "id": "4ZANErGjl9cQ",
        "outputId": "05f1d148-5bf6-46c9-e6c7-286cd3b9d1c2"
      },
      "outputs": [
        {
          "data": {
            "text/plain": [
              "<reversed at 0x24005b21700>"
            ]
          },
          "execution_count": 94,
          "metadata": {},
          "output_type": "execute_result"
        }
      ],
      "source": [
        "reversed(s)"
      ]
    },
    {
      "cell_type": "code",
      "execution_count": null,
      "metadata": {
        "id": "tbcU2lwDl9cR",
        "outputId": "4a827fad-785a-4190-82a9-7210092f07d9"
      },
      "outputs": [
        {
          "name": "stdout",
          "output_type": "stream",
          "text": [
            "n\n",
            "o\n",
            "r\n",
            "u\n",
            "e\n",
            "n\n",
            "i\n",
            " \n",
            "s\n",
            "i\n",
            " \n",
            "g\n",
            "r\n",
            "o\n",
            " \n",
            "f\n",
            "o\n",
            " \n",
            "e\n",
            "m\n",
            "a\n",
            "N\n",
            " \n",
            ",\n",
            " \n",
            "r\n",
            "a\n",
            "m\n",
            "u\n",
            "k\n",
            " \n",
            "u\n",
            "h\n",
            "s\n",
            "n\n",
            "a\n",
            "h\n",
            "d\n",
            "u\n",
            "s\n",
            " \n",
            "s\n",
            "i\n",
            " \n",
            "e\n",
            "m\n",
            "a\n",
            "n\n",
            " \n",
            "y\n",
            "m\n"
          ]
        }
      ],
      "source": [
        "for i in reversed(s):\n",
        "    print(i)"
      ]
    },
    {
      "cell_type": "code",
      "execution_count": null,
      "metadata": {
        "id": "b2fmFhHXl9cR",
        "outputId": "ff456975-452b-4ed4-944e-41cc18f2bcd4"
      },
      "outputs": [
        {
          "data": {
            "text/plain": [
              "'norueni si gro fo emaN , ramuk uhsnahdus si eman ym'"
            ]
          },
          "execution_count": 91,
          "metadata": {},
          "output_type": "execute_result"
        }
      ],
      "source": [
        "s[::-1]"
      ]
    },
    {
      "cell_type": "code",
      "execution_count": null,
      "metadata": {
        "id": "SsPZqIjol9cS"
      },
      "outputs": [],
      "source": [
        "s = \"       su  dh \""
      ]
    },
    {
      "cell_type": "code",
      "execution_count": null,
      "metadata": {
        "id": "heWn8mgal9cS",
        "outputId": "f7f00263-92c4-4df2-b55d-6c7610303bff"
      },
      "outputs": [
        {
          "data": {
            "text/plain": [
              "'       su  dh '"
            ]
          },
          "execution_count": 101,
          "metadata": {},
          "output_type": "execute_result"
        }
      ],
      "source": [
        "s"
      ]
    },
    {
      "cell_type": "code",
      "execution_count": null,
      "metadata": {
        "id": "mNM_f1X5l9cT",
        "outputId": "0658b984-81f7-4009-d219-d60a7816264f"
      },
      "outputs": [
        {
          "data": {
            "text/plain": [
              "'su  dh'"
            ]
          },
          "execution_count": 102,
          "metadata": {},
          "output_type": "execute_result"
        }
      ],
      "source": [
        "s.strip()"
      ]
    },
    {
      "cell_type": "code",
      "execution_count": null,
      "metadata": {
        "id": "9pCfVxX4l9cT",
        "outputId": "8583215d-70c6-46c8-9dcd-cebf6b2d2c00"
      },
      "outputs": [
        {
          "data": {
            "text/plain": [
              "'su  dh '"
            ]
          },
          "execution_count": 103,
          "metadata": {},
          "output_type": "execute_result"
        }
      ],
      "source": [
        "s.lstrip()"
      ]
    },
    {
      "cell_type": "code",
      "execution_count": null,
      "metadata": {
        "id": "nmVB_9HLl9cU",
        "outputId": "484a4add-78e9-49be-ca6d-d7e7507c5730"
      },
      "outputs": [
        {
          "data": {
            "text/plain": [
              "'       su  dh'"
            ]
          },
          "execution_count": 104,
          "metadata": {},
          "output_type": "execute_result"
        }
      ],
      "source": [
        "s.rstrip()"
      ]
    },
    {
      "cell_type": "code",
      "execution_count": 19,
      "metadata": {
        "id": "OgXglYQSl9cV"
      },
      "outputs": [],
      "source": [
        "s = \"greeting from ineuron\""
      ]
    },
    {
      "cell_type": "code",
      "execution_count": 22,
      "metadata": {
        "id": "0WCM1_XSl9cV",
        "outputId": "5c64a91e-6e6a-44e4-beba-2e9ef7abcc42"
      },
      "outputs": [],
      "source": [
        "s = s.replace(\"r\" , 't')"
      ]
    },
    {
      "cell_type": "code",
      "execution_count": 23,
      "metadata": {
        "id": "WD8EXdWwl9cW",
        "outputId": "278712d1-f46a-499e-df39-852dbc56b8ce"
      },
      "outputs": [
        {
          "data": {
            "text/plain": [
              "'gteeting ttom ineuton'"
            ]
          },
          "execution_count": 23,
          "metadata": {},
          "output_type": "execute_result"
        }
      ],
      "source": [
        "s"
      ]
    },
    {
      "cell_type": "code",
      "execution_count": null,
      "metadata": {
        "id": "ZF32DQ7Yl9cX"
      },
      "outputs": [],
      "source": [
        "s = \"sudh\""
      ]
    },
    {
      "cell_type": "code",
      "execution_count": null,
      "metadata": {
        "id": "Eg608v7ol9cY"
      },
      "outputs": [],
      "source": [
        "s = s.replace(\"u\" , \"kumar\")"
      ]
    },
    {
      "cell_type": "code",
      "execution_count": null,
      "metadata": {
        "id": "E_s_XBhul9cY",
        "outputId": "1b7810e0-5065-4d87-fcfe-1728a9d406ba"
      },
      "outputs": [
        {
          "data": {
            "text/plain": [
              "'skumardh'"
            ]
          },
          "execution_count": 118,
          "metadata": {},
          "output_type": "execute_result"
        }
      ],
      "source": [
        "s"
      ]
    },
    {
      "cell_type": "code",
      "execution_count": null,
      "metadata": {
        "id": "-2L2TndOl9cZ",
        "outputId": "bc720ddb-ed91-4154-eac2-affa4b79f7bd"
      },
      "outputs": [
        {
          "ename": "TypeError",
          "evalue": "'str' object does not support item assignment",
          "output_type": "error",
          "traceback": [
            "\u001b[1;31m---------------------------------------------------------------------------\u001b[0m",
            "\u001b[1;31mTypeError\u001b[0m                                 Traceback (most recent call last)",
            "\u001b[1;32m<ipython-input-114-45b9a7bdbadb>\u001b[0m in \u001b[0;36m<module>\u001b[1;34m\u001b[0m\n\u001b[1;32m----> 1\u001b[1;33m \u001b[0ms\u001b[0m\u001b[1;33m[\u001b[0m\u001b[1;36m1\u001b[0m\u001b[1;33m]\u001b[0m \u001b[1;33m=\u001b[0m \u001b[1;34m\"kumar\"\u001b[0m\u001b[1;33m\u001b[0m\u001b[1;33m\u001b[0m\u001b[0m\n\u001b[0m",
            "\u001b[1;31mTypeError\u001b[0m: 'str' object does not support item assignment"
          ]
        }
      ],
      "source": [
        "s[1] = \"kumar\""
      ]
    },
    {
      "cell_type": "code",
      "execution_count": null,
      "metadata": {
        "id": "ihmg4YXMl9ca"
      },
      "outputs": [],
      "source": [
        "s = \"sudh\""
      ]
    },
    {
      "cell_type": "code",
      "execution_count": null,
      "metadata": {
        "id": "KBtyjaX6l9cb",
        "outputId": "45b30830-9097-44d2-82ae-333c764cece8"
      },
      "outputs": [
        {
          "data": {
            "text/plain": [
              "'@@@@@@@@@@sudh@@@@@@@@@'"
            ]
          },
          "execution_count": 125,
          "metadata": {},
          "output_type": "execute_result"
        }
      ],
      "source": [
        "s.center(23 , '@')"
      ]
    },
    {
      "cell_type": "code",
      "execution_count": 27,
      "metadata": {
        "id": "6hU3E40Ml9cb"
      },
      "outputs": [],
      "source": [
        "s = \"sudh'\\t'ku\\tmar\""
      ]
    },
    {
      "cell_type": "code",
      "execution_count": 28,
      "metadata": {
        "id": "AoH8JvCOl9cc",
        "outputId": "ae516c17-5903-45a3-efe5-1f12288d8e3a"
      },
      "outputs": [
        {
          "data": {
            "text/plain": [
              "\"sudh'\\t'ku\\tmar\""
            ]
          },
          "execution_count": 28,
          "metadata": {},
          "output_type": "execute_result"
        }
      ],
      "source": [
        "s"
      ]
    },
    {
      "cell_type": "code",
      "execution_count": 29,
      "metadata": {
        "id": "Dre7yCfJl9cd",
        "outputId": "18e51a3a-d147-429d-e8f6-43e6be41d5d7"
      },
      "outputs": [
        {
          "data": {
            "text/plain": [
              "\"sudh'   'ku     mar\""
            ]
          },
          "execution_count": 29,
          "metadata": {},
          "output_type": "execute_result"
        }
      ],
      "source": [
        "s.expandtabs()"
      ]
    },
    {
      "cell_type": "code",
      "execution_count": null,
      "metadata": {
        "id": "Ch7Grk5ll9cf",
        "outputId": "17277060-e723-413b-b78a-a9ee339c889e"
      },
      "outputs": [
        {
          "name": "stdout",
          "output_type": "stream",
          "text": [
            "we all are a part of full stack\n"
          ]
        },
        {
          "ename": "TypeError",
          "evalue": "'str' object is not callable",
          "output_type": "error",
          "traceback": [
            "\u001b[1;31m---------------------------------------------------------------------------\u001b[0m",
            "\u001b[1;31mTypeError\u001b[0m                                 Traceback (most recent call last)",
            "\u001b[1;32m<ipython-input-138-5af18a1d8bea>\u001b[0m in \u001b[0;36m<module>\u001b[1;34m\u001b[0m\n\u001b[0;32m      3\u001b[0m \u001b[0mprint\u001b[0m\u001b[1;33m(\u001b[0m\u001b[0ma\u001b[0m\u001b[1;33m)\u001b[0m\u001b[1;33m\u001b[0m\u001b[1;33m\u001b[0m\u001b[0m\n\u001b[0;32m      4\u001b[0m \u001b[0mb\u001b[0m \u001b[1;33m=\u001b[0m \u001b[0ma\u001b[0m\u001b[1;33m.\u001b[0m\u001b[0mcount\u001b[0m\u001b[1;33m(\u001b[0m\u001b[1;34m\"a\"\u001b[0m\u001b[1;33m)\u001b[0m\u001b[1;33m\u001b[0m\u001b[1;33m\u001b[0m\u001b[0m\n\u001b[1;32m----> 5\u001b[1;33m \u001b[0mprint\u001b[0m\u001b[1;33m(\u001b[0m\u001b[1;34m\"number of a: \"\u001b[0m\u001b[1;33m+\u001b[0m\u001b[0mstr\u001b[0m\u001b[1;33m(\u001b[0m\u001b[0mb\u001b[0m\u001b[1;33m)\u001b[0m\u001b[1;33m)\u001b[0m\u001b[1;33m\u001b[0m\u001b[1;33m\u001b[0m\u001b[0m\n\u001b[0m\u001b[0;32m      6\u001b[0m \u001b[1;32mfor\u001b[0m \u001b[0mi\u001b[0m \u001b[1;32min\u001b[0m \u001b[0mrange\u001b[0m\u001b[1;33m(\u001b[0m\u001b[0mlen\u001b[0m\u001b[1;33m(\u001b[0m\u001b[0ma\u001b[0m\u001b[1;33m)\u001b[0m\u001b[1;33m)\u001b[0m\u001b[1;33m:\u001b[0m\u001b[1;33m\u001b[0m\u001b[1;33m\u001b[0m\u001b[0m\n\u001b[0;32m      7\u001b[0m   \u001b[1;32mif\u001b[0m \u001b[0ma\u001b[0m\u001b[1;33m[\u001b[0m\u001b[0mi\u001b[0m\u001b[1;33m]\u001b[0m \u001b[1;33m==\u001b[0m \u001b[1;34m\"a\"\u001b[0m\u001b[1;33m:\u001b[0m\u001b[1;33m\u001b[0m\u001b[1;33m\u001b[0m\u001b[0m\n",
            "\u001b[1;31mTypeError\u001b[0m: 'str' object is not callable"
          ]
        }
      ],
      "source": []
    },
    {
      "cell_type": "code",
      "execution_count": 31,
      "metadata": {
        "id": "7CvnAjv3l9cg",
        "outputId": "a9bb0ac4-903a-4229-f91c-e052e4f112bd"
      },
      "outputs": [
        {
          "data": {
            "text/plain": [
              "'we all are a part of full stack'"
            ]
          },
          "execution_count": 31,
          "metadata": {},
          "output_type": "execute_result"
        }
      ],
      "source": [
        "a=\"We all are a part of Full Stack\"\n",
        "b=a.lower()\n",
        "b"
      ]
    },
    {
      "cell_type": "code",
      "execution_count": 32,
      "metadata": {
        "id": "T9PNBeazl9cg",
        "outputId": "9800bf08-452a-4d02-cb51-2410ebbc815e"
      },
      "outputs": [
        {
          "data": {
            "text/plain": [
              "5"
            ]
          },
          "execution_count": 32,
          "metadata": {},
          "output_type": "execute_result"
        }
      ],
      "source": [
        "c=a.count(\"a\")\n",
        "c"
      ]
    },
    {
      "cell_type": "code",
      "execution_count": 33,
      "metadata": {
        "id": "BLQpLXDUl9ch",
        "outputId": "777f3d55-3d79-418f-9c3d-b1d6fa740d05"
      },
      "outputs": [
        {
          "name": "stdout",
          "output_type": "stream",
          "text": [
            "3\n",
            "7\n",
            "11\n",
            "14\n",
            "28\n"
          ]
        }
      ],
      "source": [
        "for i in range(len(a)):\n",
        "    if(a[i]==\"a\"):\n",
        "        print(i)"
      ]
    },
    {
      "cell_type": "code",
      "execution_count": 34,
      "metadata": {
        "id": "5zoVAxZOl9ci",
        "outputId": "cbfdb848-f599-41d4-b234-4f97c830c640"
      },
      "outputs": [
        {
          "data": {
            "text/plain": [
              "'We iNeuronll iNeuronre iNeuron piNeuronrt of Full StiNeuronck'"
            ]
          },
          "execution_count": 34,
          "metadata": {},
          "output_type": "execute_result"
        }
      ],
      "source": [
        "d=a.replace(\"a\",\"iNeuron\")\n",
        "d"
      ]
    },
    {
      "cell_type": "code",
      "execution_count": null,
      "metadata": {
        "id": "X_T8rRsMl9cj",
        "outputId": "a9a5b144-6f12-4522-d7ed-5486cc59f815"
      },
      "outputs": [
        {
          "name": "stdout",
          "output_type": "stream",
          "text": [
            "['We', 'all', 'are', 'a', 'part', 'of', 'Full', 'Stack']\n"
          ]
        }
      ],
      "source": [
        "e=a.split()\n",
        "print(e)"
      ]
    },
    {
      "cell_type": "code",
      "execution_count": null,
      "metadata": {
        "id": "PKwlb1nYl9ck",
        "outputId": "70261074-cfbe-4829-9968-1f23ebe351ed"
      },
      "outputs": [
        {
          "name": "stdout",
          "output_type": "stream",
          "text": [
            "we all are a part of full stack\n",
            "The count of a is  5\n",
            "3\n",
            "7\n",
            "11\n",
            "14\n",
            "28\n",
            "We iNeuronll iNeuronre iNeuron piNeuronrt of Full StiNeuronck\n",
            "['We', 'all', 'are', 'a', 'part', 'of', 'Full', 'Stack']\n"
          ]
        }
      ],
      "source": [
        "a=\"We all are a part of Full Stack\"\n",
        "b=a.lower()\n",
        "print(b)\n",
        "c=a.count(\"a\")\n",
        "print(\"The count of a is \",c)\n",
        "for i in range(len(a)):\n",
        "    if(a[i]==\"a\"):\n",
        "        print(i)\n",
        "d=a.replace(\"a\",\"iNeuron\")\n",
        "print(d)\n",
        "e=a.split()\n",
        "print(e)\n"
      ]
    },
    {
      "cell_type": "code",
      "execution_count": null,
      "metadata": {
        "id": "4FS2YiVHl9cl",
        "outputId": "b68c2dbc-559f-483b-aabe-c366d1b42b77"
      },
      "outputs": [
        {
          "name": "stdout",
          "output_type": "stream",
          "text": [
            "we are all part of full stack\n",
            "4\n",
            "[3, 7, 12, 26]\n",
            "We Ineuronre Ineuronll pIneuronrt of Full StIneuronck\n",
            "['We', 'are', 'all', 'part', 'of', 'Full', 'Stack']\n"
          ]
        }
      ],
      "source": [
        "a = \"We are all part of Full Stack\"\n",
        "\n",
        "# 1. Normalizing entire string in lower case\n",
        "print(a.lower())\n",
        "# 2. Finding number of occurances of a in entire string\n",
        "print(len([i for i in range(len(a)) if a[i] == 'a']))\n",
        "# 3. Indexes where a is present \n",
        "print([i for i in range(len(a)) if a[i] == 'a'])  \n",
        "# 4 . replace all a's with ineuron\n",
        "print(a.replace('a','Ineuron'))\n",
        "#5. print all the words as a list\n",
        "print([i for i in a.split() ])\n"
      ]
    },
    {
      "cell_type": "code",
      "execution_count": null,
      "metadata": {
        "id": "KrB-jKIAl9cm",
        "outputId": "28c326a1-e908-4d5e-ff3a-6b61ea349373"
      },
      "outputs": [
        {
          "name": "stdout",
          "output_type": "stream",
          "text": [
            "lower : we are part of full stack\n",
            "Count of a : 3\n",
            "3\n",
            "8\n",
            "22\n",
            "Replace a with iNeuron : We iNeuronre PiNeuronrt of Full StiNeuronck\n"
          ]
        }
      ],
      "source": [
        "a='We are Part of Full Stack'\n",
        "b=a.lower()\n",
        "print('lower :',b)\n",
        "c=a.count('a')\n",
        "print('Count of a :',c)\n",
        "for i in range(1,25):\n",
        "    if a[i]== 'a':\n",
        "        print(i)\n",
        "str=a.replace('a','iNeuron')\n",
        "print('Replace a with iNeuron :',str)\n"
      ]
    },
    {
      "cell_type": "code",
      "execution_count": null,
      "metadata": {
        "id": "VG7kAU_Ll9cn",
        "outputId": "30989c5f-277e-437b-f4ea-e132b3ce2484"
      },
      "outputs": [
        {
          "name": "stdout",
          "output_type": "stream",
          "text": [
            "count of a= 5\n"
          ]
        }
      ],
      "source": [
        "a=\"we all are a part of Full Stack\"\n",
        "a=a.lower()\n",
        "c=a.count(\"a\")\n",
        "print(\"count of a=\",c)"
      ]
    },
    {
      "cell_type": "code",
      "execution_count": null,
      "metadata": {
        "id": "NU8JgK4ml9co",
        "outputId": "eac6b312-bcb2-48ea-b5e8-4c0b29bf5880"
      },
      "outputs": [
        {
          "name": "stdout",
          "output_type": "stream",
          "text": [
            "count of a= 5\n",
            "all indexes of 'a': [3, 7, 11, 14, 28]\n"
          ]
        }
      ],
      "source": [
        "a=\"we all are a part of Full Stack\"\n",
        "a=a.lower()\n",
        "c=a.count(\"a\")\n",
        "print(\"count of a=\",c)\n",
        "l=[]\n",
        "for e in range(len(a)):\n",
        "    if a[e]==\"a\":\n",
        "        l.append(e)\n",
        "print(\"all indexes of 'a':\",l)                                                                   "
      ]
    },
    {
      "cell_type": "code",
      "execution_count": null,
      "metadata": {
        "id": "jJm3FvsOl9cq",
        "outputId": "4aac6e6d-8be8-4df9-b4e4-3d347173025d"
      },
      "outputs": [
        {
          "data": {
            "text/plain": [
              "['we',\n",
              " 'iNeuronll',\n",
              " 'iNeuronre',\n",
              " 'iNeuron',\n",
              " 'piNeuronrt',\n",
              " 'of',\n",
              " 'full',\n",
              " 'stiNeuronck']"
            ]
          },
          "execution_count": 159,
          "metadata": {},
          "output_type": "execute_result"
        }
      ],
      "source": [
        "a=a.replace(\"a\",\"iNeuron\")    \n",
        "a.split() "
      ]
    },
    {
      "cell_type": "code",
      "execution_count": null,
      "metadata": {
        "id": "6dHnfZdvl9cq",
        "outputId": "95d6c8e0-e0ec-47e4-c88d-069fe15457bd"
      },
      "outputs": [
        {
          "name": "stdout",
          "output_type": "stream",
          "text": [
            "The count of a is we all are a part of full stack\n",
            "Indexs of a [3, 7, 11, 14, 28]\n",
            "we ineuronll ineuronre ineuron pineuronrt of full stineuronck\n"
          ]
        },
        {
          "data": {
            "text/plain": [
              "['we',\n",
              " 'ineuronll',\n",
              " 'ineuronre',\n",
              " 'ineuron',\n",
              " 'pineuronrt',\n",
              " 'of',\n",
              " 'full',\n",
              " 'stineuronck']"
            ]
          },
          "execution_count": 160,
          "metadata": {},
          "output_type": "execute_result"
        }
      ],
      "source": [
        "a = \"we all are a part of Full Stack\"\n",
        "a = a.lower()\n",
        "count_a = a.count('a')\n",
        "print(\"The count of a is\",a)\n",
        "index_a=[]\n",
        "for i in range(len(a)):\n",
        "    if(a[i]=='a'):\n",
        "        index_a.append(i)\n",
        "print(\"Indexs of a\",index_a)\n",
        "for i in range(len(a)):\n",
        "    if(a[i]=='a'):\n",
        "        a=a.replace('a','ineuron')\n",
        "        print(a)\n",
        "        \n",
        "a.split()\n"
      ]
    },
    {
      "cell_type": "code",
      "execution_count": null,
      "metadata": {
        "id": "TUlBy5GBl9cr"
      },
      "outputs": [],
      "source": [
        "s = \"Fds\""
      ]
    },
    {
      "cell_type": "code",
      "execution_count": null,
      "metadata": {
        "id": "Xmwy9Ynil9cs",
        "outputId": "0d8c71f1-2d95-47a6-f095-08f56b694076"
      },
      "outputs": [
        {
          "data": {
            "text/plain": [
              "False"
            ]
          },
          "execution_count": 181,
          "metadata": {},
          "output_type": "execute_result"
        }
      ],
      "source": [
        "s.isupper()"
      ]
    },
    {
      "cell_type": "code",
      "execution_count": null,
      "metadata": {
        "id": "cf0XcPotl9cz",
        "outputId": "28bb9fcb-90d4-498d-dd83-26cb8f290c74"
      },
      "outputs": [
        {
          "data": {
            "text/plain": [
              "True"
            ]
          },
          "execution_count": 182,
          "metadata": {},
          "output_type": "execute_result"
        }
      ],
      "source": [
        "s.islower()"
      ]
    },
    {
      "cell_type": "code",
      "execution_count": null,
      "metadata": {
        "id": "hrw82Zk_l9c0",
        "outputId": "0cefac00-fb43-49d7-f4b9-f60129922809"
      },
      "outputs": [
        {
          "data": {
            "text/plain": [
              "False"
            ]
          },
          "execution_count": 183,
          "metadata": {},
          "output_type": "execute_result"
        }
      ],
      "source": [
        "s.isspace()"
      ]
    },
    {
      "cell_type": "code",
      "execution_count": null,
      "metadata": {
        "id": "-HTk9l75l9c1",
        "outputId": "60832c29-0872-4782-da52-dbc4336f063d"
      },
      "outputs": [
        {
          "data": {
            "text/plain": [
              "True"
            ]
          },
          "execution_count": 186,
          "metadata": {},
          "output_type": "execute_result"
        }
      ],
      "source": [
        "s.isdigit()"
      ]
    },
    {
      "cell_type": "code",
      "execution_count": null,
      "metadata": {
        "id": "sAjMXxHzl9c2",
        "outputId": "905583cf-44a3-4c19-d2e8-7fdc4b8c1505"
      },
      "outputs": [
        {
          "data": {
            "text/plain": [
              "True"
            ]
          },
          "execution_count": 189,
          "metadata": {},
          "output_type": "execute_result"
        }
      ],
      "source": [
        "s.endswith('s')"
      ]
    },
    {
      "cell_type": "code",
      "execution_count": null,
      "metadata": {
        "id": "R1QfnvR7l9c3",
        "outputId": "63413996-9a17-4108-d29c-298ecf1ae8b3"
      },
      "outputs": [
        {
          "data": {
            "text/plain": [
              "True"
            ]
          },
          "execution_count": 192,
          "metadata": {},
          "output_type": "execute_result"
        }
      ],
      "source": [
        "s.startswith(\"s\")"
      ]
    },
    {
      "cell_type": "code",
      "execution_count": null,
      "metadata": {
        "id": "InZqRW_cl9c3",
        "outputId": "eba6056d-847d-4049-f42b-23368aea9856"
      },
      "outputs": [
        {
          "data": {
            "text/plain": [
              "True"
            ]
          },
          "execution_count": 202,
          "metadata": {},
          "output_type": "execute_result"
        }
      ],
      "source": [
        "s.isalnum()"
      ]
    },
    {
      "cell_type": "code",
      "execution_count": null,
      "metadata": {
        "id": "OOfJFzWrl9c4",
        "outputId": "af623f72-8661-40ab-c299-dfb136a81951"
      },
      "outputs": [
        {
          "data": {
            "text/plain": [
              "True"
            ]
          },
          "execution_count": 205,
          "metadata": {},
          "output_type": "execute_result"
        }
      ],
      "source": [
        "s.isalpha()"
      ]
    },
    {
      "cell_type": "code",
      "execution_count": null,
      "metadata": {
        "id": "6eNDoTlBl9c5",
        "outputId": "1e675e2e-85f4-4b03-b906-6f0618137eed"
      },
      "outputs": [
        {
          "data": {
            "text/plain": [
              "True"
            ]
          },
          "execution_count": 208,
          "metadata": {},
          "output_type": "execute_result"
        }
      ],
      "source": [
        "s.istitle()"
      ]
    },
    {
      "cell_type": "code",
      "execution_count": null,
      "metadata": {
        "id": "yOQMBXdzl9c6",
        "outputId": "3791601b-77dc-4572-dc80-f81e91ca2139"
      },
      "outputs": [
        {
          "data": {
            "text/plain": [
              "26"
            ]
          },
          "execution_count": 211,
          "metadata": {},
          "output_type": "execute_result"
        }
      ],
      "source": [
        "len(s)"
      ]
    },
    {
      "cell_type": "code",
      "execution_count": null,
      "metadata": {
        "id": "QM1SUveel9c7"
      },
      "outputs": [],
      "source": [
        "s = \"this is a full stack batch\""
      ]
    },
    {
      "cell_type": "code",
      "execution_count": null,
      "metadata": {
        "id": "Gr71NBr-l9c7",
        "outputId": "a32e9b2b-86ba-4fdf-9243-85ba2a80732a"
      },
      "outputs": [
        {
          "name": "stdout",
          "output_type": "stream",
          "text": [
            "26\n"
          ]
        }
      ],
      "source": [
        "count = 0 \n",
        "for i in  s :\n",
        "    count = count +1 \n",
        "print(count)"
      ]
    },
    {
      "cell_type": "code",
      "execution_count": 43,
      "metadata": {},
      "outputs": [],
      "source": [
        "s= \"Hussain\""
      ]
    },
    {
      "cell_type": "code",
      "execution_count": 87,
      "metadata": {
        "id": "TLvFaNE4l9c8",
        "outputId": "68487600-77f7-4947-8a38-70fff95285f5"
      },
      "outputs": [
        {
          "name": "stdout",
          "output_type": "stream",
          "text": [
            "niassuH\n"
          ]
        }
      ],
      "source": [
        "\n",
        "s1=\"\"\n",
        "for i in s :\n",
        "    s1=i+s1\n",
        "print(s1)"
      ]
    },
    {
      "cell_type": "code",
      "execution_count": null,
      "metadata": {},
      "outputs": [],
      "source": []
    },
    {
      "cell_type": "code",
      "execution_count": 89,
      "metadata": {
        "id": "LgwTzR3Fl9c9",
        "outputId": "bd81a23c-1e58-4b6b-c4a0-d4a28670a413"
      },
      "outputs": [
        {
          "name": "stdout",
          "output_type": "stream",
          "text": [
            "h\n",
            "d\n",
            "u\n",
            "s\n"
          ]
        }
      ],
      "source": [
        "s = \"sudh\"\n",
        "ch = len(s)-1\n",
        "while ch >= 0 :\n",
        "    print(s[ch])\n",
        "    ch = ch -1 "
      ]
    },
    {
      "cell_type": "code",
      "execution_count": null,
      "metadata": {
        "id": "nMpFzbvRl9c-",
        "outputId": "ebc97a83-79ac-40ea-a467-d8f75973ccbd"
      },
      "outputs": [
        {
          "name": "stdout",
          "output_type": "stream",
          "text": [
            "i is a vowel\n",
            "n is not a vowel\n",
            "e is a vowel\n",
            "r is not a vowel\n",
            "u is a vowel\n",
            "o is a vowel\n",
            "n is not a vowel\n"
          ]
        }
      ],
      "source": [
        "name = \"ineruon\"\n",
        "vowels = \"AaEeIiOoUu\"\n",
        "\n",
        "for i in name :\n",
        "    if i in vowels:\n",
        "        print(\"{} is a vowel\".format(i))\n",
        "    else :\n",
        "        print(\"{} is not a vowel\".format(i))\n"
      ]
    },
    {
      "cell_type": "code",
      "execution_count": 90,
      "metadata": {},
      "outputs": [],
      "source": [
        "str1 = \"Sample\""
      ]
    },
    {
      "cell_type": "code",
      "execution_count": 96,
      "metadata": {},
      "outputs": [
        {
          "name": "stdout",
          "output_type": "stream",
          "text": [
            "True\n"
          ]
        }
      ],
      "source": [
        "if \"S\" in str1:\n",
        "    print(\"True\")\n",
        "else:\n",
        "    print(\"False\")"
      ]
    },
    {
      "cell_type": "code",
      "execution_count": null,
      "metadata": {
        "id": "0mnFi79Vl9c_",
        "outputId": "ac1abf0a-bcf6-46dc-b2f9-de44111d61f7"
      },
      "outputs": [
        {
          "data": {
            "text/plain": [
              "' my name is sudh'"
            ]
          },
          "execution_count": 221,
          "metadata": {},
          "output_type": "execute_result"
        }
      ],
      "source": [
        "\" {} name is sudh\".format(\"my\")"
      ]
    },
    {
      "cell_type": "code",
      "execution_count": null,
      "metadata": {
        "id": "pwQM9fITl9dC",
        "outputId": "33446528-f7d7-49bb-9b37-307b86c74df6"
      },
      "outputs": [
        {
          "name": "stdout",
          "output_type": "stream",
          "text": [
            "fsdfs\n",
            "fsdf\n"
          ]
        }
      ],
      "source": [
        "a = input()\n",
        "b = input()\n"
      ]
    },
    {
      "cell_type": "code",
      "execution_count": null,
      "metadata": {
        "id": "pr0Ftu9Bl9dC",
        "outputId": "07909fd9-c4fe-41d7-c213-58e4b8f5cca6"
      },
      "outputs": [
        {
          "data": {
            "text/plain": [
              "'fsdfs name fsdf sudh Fsdfsfs '"
            ]
          },
          "execution_count": 228,
          "metadata": {},
          "output_type": "execute_result"
        }
      ],
      "source": [
        "\"{} name {} sudh {} \".format,(a, b, \"Fsdfsfs\")"
      ]
    },
    {
      "cell_type": "code",
      "execution_count": null,
      "metadata": {
        "id": "bkfyDZWhl9dD"
      },
      "outputs": [],
      "source": [
        "a = \"xyx\"\n",
        "b = 2002\n",
        "c = \"eye\"\n",
        "d = \"nitin\""
      ]
    },
    {
      "cell_type": "code",
      "execution_count": 98,
      "metadata": {
        "id": "5_DpZZPyl9dE",
        "outputId": "0ef2d0ff-b2b2-487a-f124-1fa472c5988d"
      },
      "outputs": [
        {
          "name": "stdout",
          "output_type": "stream",
          "text": [
            "its a same \n"
          ]
        }
      ],
      "source": [
        "s = input(\"enter a data for which you would like to check pelindrom \" )\n",
        "s1 = s[::-1]\n",
        "if s ==s1:\n",
        "    print(\"its a same \")\n",
        "else :\n",
        "    print(\"its not a same \")"
      ]
    },
    {
      "cell_type": "code",
      "execution_count": 102,
      "metadata": {
        "id": "FTiF0dRMl9dF"
      },
      "outputs": [],
      "source": [
        "l = [\"sudh\" , 34,34,45,[34,45]]"
      ]
    },
    {
      "cell_type": "code",
      "execution_count": 103,
      "metadata": {
        "id": "kACDqF6sl9dG",
        "outputId": "0ac65c27-c7c4-443f-c239-fa94ab504c46"
      },
      "outputs": [
        {
          "data": {
            "text/plain": [
              "45"
            ]
          },
          "execution_count": 103,
          "metadata": {},
          "output_type": "execute_result"
        }
      ],
      "source": [
        "l[3]"
      ]
    },
    {
      "cell_type": "code",
      "execution_count": null,
      "metadata": {
        "id": "m21MMolml9dG",
        "outputId": "c03e5524-164f-49af-eb08-1a960cf5dad5"
      },
      "outputs": [
        {
          "data": {
            "text/plain": [
              "['sudh', 34, 34]"
            ]
          },
          "execution_count": 237,
          "metadata": {},
          "output_type": "execute_result"
        }
      ],
      "source": [
        "l[0:3]"
      ]
    },
    {
      "cell_type": "code",
      "execution_count": null,
      "metadata": {
        "id": "EG6onsKvl9dH",
        "outputId": "dfbe0d24-7ef0-4ab5-bb8d-cc19df6cb6dc"
      },
      "outputs": [
        {
          "data": {
            "text/plain": [
              "[45, 34, 34]"
            ]
          },
          "execution_count": 239,
          "metadata": {},
          "output_type": "execute_result"
        }
      ],
      "source": [
        "l[3:0:-1]"
      ]
    },
    {
      "cell_type": "code",
      "execution_count": null,
      "metadata": {
        "id": "HyuUndvsl9dH",
        "outputId": "dde9a7fb-e1ad-43fb-a681-9c616bed34d5"
      },
      "outputs": [
        {
          "data": {
            "text/plain": [
              "[[34, 45], 45, 34, 34, 'sudh']"
            ]
          },
          "execution_count": 240,
          "metadata": {},
          "output_type": "execute_result"
        }
      ],
      "source": [
        "l[::-1]"
      ]
    },
    {
      "cell_type": "code",
      "execution_count": null,
      "metadata": {
        "id": "LGX_ijAYl9dJ",
        "outputId": "d601da92-d400-427a-c4ce-86dd50a8d9b0"
      },
      "outputs": [
        {
          "data": {
            "text/plain": [
              "['sudh', 34, 34, 45, [34, 45]]"
            ]
          },
          "execution_count": 241,
          "metadata": {},
          "output_type": "execute_result"
        }
      ],
      "source": [
        "l "
      ]
    },
    {
      "cell_type": "code",
      "execution_count": null,
      "metadata": {
        "id": "seuiD3nBl9dJ",
        "outputId": "0b00b280-d6c8-4e45-9b5d-568421141143"
      },
      "outputs": [
        {
          "data": {
            "text/plain": [
              "['s', 'u', 'd', 'h']"
            ]
          },
          "execution_count": 249,
          "metadata": {},
          "output_type": "execute_result"
        }
      ],
      "source": [
        "s = \"sudh\"\n",
        "s = list(s)\n",
        "s"
      ]
    },
    {
      "cell_type": "code",
      "execution_count": null,
      "metadata": {
        "id": "IxTMumlvl9dK"
      },
      "outputs": [],
      "source": [
        "s = [\"sudh\"]"
      ]
    },
    {
      "cell_type": "code",
      "execution_count": null,
      "metadata": {
        "id": "hhbPZe8Tl9dL",
        "outputId": "665d1e97-3421-4561-ad7c-9f0c9a76b61a"
      },
      "outputs": [
        {
          "data": {
            "text/plain": [
              "['sudh', 34, 34, 45, [34, 45], 'sudh']"
            ]
          },
          "execution_count": 252,
          "metadata": {},
          "output_type": "execute_result"
        }
      ],
      "source": [
        "l + s "
      ]
    },
    {
      "cell_type": "code",
      "execution_count": 101,
      "metadata": {
        "id": "1DhoPchol9dL",
        "outputId": "778f4b63-ca26-4d9a-d02d-71140fb576cc"
      },
      "outputs": [
        {
          "ename": "NameError",
          "evalue": "name 'l' is not defined",
          "output_type": "error",
          "traceback": [
            "\u001b[1;31m---------------------------------------------------------------------------\u001b[0m",
            "\u001b[1;31mNameError\u001b[0m                                 Traceback (most recent call last)",
            "\u001b[1;32mc:\\Users\\lenovo\\Desktop\\Learnings\\Ineuron\\Data Science Master\\PythonBasics\\python_string_and_list_manupulation.ipynb Cell 111'\u001b[0m in \u001b[0;36m<module>\u001b[1;34m\u001b[0m\n\u001b[1;32m----> <a href='vscode-notebook-cell:/c%3A/Users/lenovo/Desktop/Learnings/Ineuron/Data%20Science%20Master/PythonBasics/python_string_and_list_manupulation.ipynb#ch0000106?line=0'>1</a>\u001b[0m l\n",
            "\u001b[1;31mNameError\u001b[0m: name 'l' is not defined"
          ]
        }
      ],
      "source": [
        "l"
      ]
    },
    {
      "cell_type": "code",
      "execution_count": null,
      "metadata": {
        "id": "ttOzgtfll9dM",
        "outputId": "382a9c35-e88d-43b3-c33d-1a847769eb27"
      },
      "outputs": [
        {
          "data": {
            "text/plain": [
              "['sudh', 34, 34, 45, [34, 45], 'sudh', 34, 34, 45, [34, 45]]"
            ]
          },
          "execution_count": 255,
          "metadata": {},
          "output_type": "execute_result"
        }
      ],
      "source": [
        "l *2"
      ]
    },
    {
      "cell_type": "code",
      "execution_count": null,
      "metadata": {
        "id": "OZPhopA5l9dN",
        "outputId": "6ae02e31-c60c-4a88-f81f-2cf69d591449"
      },
      "outputs": [
        {
          "data": {
            "text/plain": [
              "5"
            ]
          },
          "execution_count": 256,
          "metadata": {},
          "output_type": "execute_result"
        }
      ],
      "source": [
        "len(l)"
      ]
    },
    {
      "cell_type": "code",
      "execution_count": 100,
      "metadata": {
        "id": "9TAFLwUal9dO",
        "outputId": "edfe1498-d47a-4b13-f03a-7671af956dc0"
      },
      "outputs": [
        {
          "ename": "NameError",
          "evalue": "name 'l' is not defined",
          "output_type": "error",
          "traceback": [
            "\u001b[1;31m---------------------------------------------------------------------------\u001b[0m",
            "\u001b[1;31mNameError\u001b[0m                                 Traceback (most recent call last)",
            "\u001b[1;32mc:\\Users\\lenovo\\Desktop\\Learnings\\Ineuron\\Data Science Master\\PythonBasics\\python_string_and_list_manupulation.ipynb Cell 114'\u001b[0m in \u001b[0;36m<module>\u001b[1;34m\u001b[0m\n\u001b[1;32m----> <a href='vscode-notebook-cell:/c%3A/Users/lenovo/Desktop/Learnings/Ineuron/Data%20Science%20Master/PythonBasics/python_string_and_list_manupulation.ipynb#ch0000109?line=0'>1</a>\u001b[0m l\n",
            "\u001b[1;31mNameError\u001b[0m: name 'l' is not defined"
          ]
        }
      ],
      "source": [
        "l "
      ]
    },
    {
      "cell_type": "code",
      "execution_count": 99,
      "metadata": {
        "id": "tiZQ4ECMl9dO",
        "outputId": "586c8ff1-23ee-4409-8237-f2b09bf1e3d9"
      },
      "outputs": [
        {
          "ename": "NameError",
          "evalue": "name 'l' is not defined",
          "output_type": "error",
          "traceback": [
            "\u001b[1;31m---------------------------------------------------------------------------\u001b[0m",
            "\u001b[1;31mNameError\u001b[0m                                 Traceback (most recent call last)",
            "\u001b[1;32mc:\\Users\\lenovo\\Desktop\\Learnings\\Ineuron\\Data Science Master\\PythonBasics\\python_string_and_list_manupulation.ipynb Cell 115'\u001b[0m in \u001b[0;36m<module>\u001b[1;34m\u001b[0m\n\u001b[1;32m----> <a href='vscode-notebook-cell:/c%3A/Users/lenovo/Desktop/Learnings/Ineuron/Data%20Science%20Master/PythonBasics/python_string_and_list_manupulation.ipynb#ch0000110?line=0'>1</a>\u001b[0m \u001b[39m454\u001b[39m \u001b[39min\u001b[39;00m l\n",
            "\u001b[1;31mNameError\u001b[0m: name 'l' is not defined"
          ]
        }
      ],
      "source": [
        "454 in l "
      ]
    },
    {
      "cell_type": "code",
      "execution_count": null,
      "metadata": {
        "id": "wLJkwsgEl9dQ"
      },
      "outputs": [],
      "source": []
    }
  ],
  "metadata": {
    "colab": {
      "name": "13th jan python string and list manupulation.ipynb",
      "provenance": []
    },
    "kernelspec": {
      "display_name": "Python 3",
      "language": "python",
      "name": "python3"
    },
    "language_info": {
      "codemirror_mode": {
        "name": "ipython",
        "version": 3
      },
      "file_extension": ".py",
      "mimetype": "text/x-python",
      "name": "python",
      "nbconvert_exporter": "python",
      "pygments_lexer": "ipython3",
      "version": "3.8.6"
    }
  },
  "nbformat": 4,
  "nbformat_minor": 0
}
