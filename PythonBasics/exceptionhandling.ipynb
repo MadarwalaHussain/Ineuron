{
 "cells": [
  {
   "cell_type": "code",
   "execution_count": 1,
   "metadata": {},
   "outputs": [
    {
     "ename": "ModuleNotFoundError",
     "evalue": "No module named 'mod1'",
     "output_type": "error",
     "traceback": [
      "\u001b[1;31m---------------------------------------------------------------------------\u001b[0m",
      "\u001b[1;31mModuleNotFoundError\u001b[0m                       Traceback (most recent call last)",
      "\u001b[1;32mc:\\Users\\lenovo\\Desktop\\Learnings\\Ineuron\\Data Science Master\\PythonBasics\\test2\\test.ipynb Cell 1'\u001b[0m in \u001b[0;36m<module>\u001b[1;34m\u001b[0m\n\u001b[1;32m----> <a href='vscode-notebook-cell:/c%3A/Users/lenovo/Desktop/Learnings/Ineuron/Data%20Science%20Master/PythonBasics/test2/test.ipynb#ch0000000?line=0'>1</a>\u001b[0m \u001b[39mimport\u001b[39;00m \u001b[39mmod1\u001b[39;00m\n",
      "\u001b[1;31mModuleNotFoundError\u001b[0m: No module named 'mod1'"
     ]
    }
   ],
   "source": [
    "import mod1"
   ]
  },
  {
   "cell_type": "code",
   "execution_count": 2,
   "metadata": {},
   "outputs": [
    {
     "ename": "NameError",
     "evalue": "name 'mod1' is not defined",
     "output_type": "error",
     "traceback": [
      "\u001b[1;31m---------------------------------------------------------------------------\u001b[0m",
      "\u001b[1;31mNameError\u001b[0m                                 Traceback (most recent call last)",
      "\u001b[1;32mc:\\Users\\lenovo\\Desktop\\Learnings\\Ineuron\\Data Science Master\\PythonBasics\\test2\\test.ipynb Cell 2'\u001b[0m in \u001b[0;36m<module>\u001b[1;34m\u001b[0m\n\u001b[1;32m----> <a href='vscode-notebook-cell:/c%3A/Users/lenovo/Desktop/Learnings/Ineuron/Data%20Science%20Master/PythonBasics/test2/test.ipynb#ch0000001?line=0'>1</a>\u001b[0m mod1\u001b[39m.\u001b[39msubs(\u001b[39m3\u001b[39m,\u001b[39m4\u001b[39m)\n",
      "\u001b[1;31mNameError\u001b[0m: name 'mod1' is not defined"
     ]
    }
   ],
   "source": [
    "mod1.subs(3,4)"
   ]
  },
  {
   "cell_type": "code",
   "execution_count": 16,
   "metadata": {},
   "outputs": [],
   "source": [
    "from test_mouduleact import mod2"
   ]
  },
  {
   "cell_type": "code",
   "execution_count": 17,
   "metadata": {},
   "outputs": [
    {
     "data": {
      "text/plain": [
       "20"
      ]
     },
     "execution_count": 17,
     "metadata": {},
     "output_type": "execute_result"
    }
   ],
   "source": [
    "mod2.mult(4,5)"
   ]
  },
  {
   "cell_type": "code",
   "execution_count": 29,
   "metadata": {},
   "outputs": [],
   "source": [
    "from test_mouduleact.mod1 import subs "
   ]
  },
  {
   "cell_type": "code",
   "execution_count": 31,
   "metadata": {},
   "outputs": [
    {
     "data": {
      "text/plain": [
       "-1"
      ]
     },
     "execution_count": 31,
     "metadata": {},
     "output_type": "execute_result"
    }
   ],
   "source": [
    "mod1.subs(3,4)"
   ]
  },
  {
   "cell_type": "code",
   "execution_count": 33,
   "metadata": {},
   "outputs": [],
   "source": [
    "def func2(x,y):\n",
    "    return x/y"
   ]
  },
  {
   "cell_type": "code",
   "execution_count": 35,
   "metadata": {},
   "outputs": [
    {
     "name": "stdout",
     "output_type": "stream",
     "text": [
      "Test\n"
     ]
    }
   ],
   "source": [
    "func2(4,5)\n",
    "print(\"Test\")"
   ]
  },
  {
   "cell_type": "code",
   "execution_count": 36,
   "metadata": {},
   "outputs": [
    {
     "ename": "ZeroDivisionError",
     "evalue": "division by zero",
     "output_type": "error",
     "traceback": [
      "\u001b[1;31m---------------------------------------------------------------------------\u001b[0m",
      "\u001b[1;31mZeroDivisionError\u001b[0m                         Traceback (most recent call last)",
      "\u001b[1;32mc:\\Users\\lenovo\\Desktop\\Learnings\\Ineuron\\Data Science Master\\PythonBasics\\test2\\test.ipynb Cell 9'\u001b[0m in \u001b[0;36m<module>\u001b[1;34m\u001b[0m\n\u001b[1;32m----> <a href='vscode-notebook-cell:/c%3A/Users/lenovo/Desktop/Learnings/Ineuron/Data%20Science%20Master/PythonBasics/test2/test.ipynb#ch0000009?line=0'>1</a>\u001b[0m func2(\u001b[39m4\u001b[39;49m,\u001b[39m0\u001b[39;49m)\n\u001b[0;32m      <a href='vscode-notebook-cell:/c%3A/Users/lenovo/Desktop/Learnings/Ineuron/Data%20Science%20Master/PythonBasics/test2/test.ipynb#ch0000009?line=1'>2</a>\u001b[0m \u001b[39mprint\u001b[39m(\u001b[39m\"\u001b[39m\u001b[39mTest\u001b[39m\u001b[39m\"\u001b[39m)\n",
      "\u001b[1;32mc:\\Users\\lenovo\\Desktop\\Learnings\\Ineuron\\Data Science Master\\PythonBasics\\test2\\test.ipynb Cell 7'\u001b[0m in \u001b[0;36mfunc2\u001b[1;34m(x, y)\u001b[0m\n\u001b[0;32m      <a href='vscode-notebook-cell:/c%3A/Users/lenovo/Desktop/Learnings/Ineuron/Data%20Science%20Master/PythonBasics/test2/test.ipynb#ch0000006?line=0'>1</a>\u001b[0m \u001b[39mdef\u001b[39;00m \u001b[39mfunc2\u001b[39m(x,y):\n\u001b[1;32m----> <a href='vscode-notebook-cell:/c%3A/Users/lenovo/Desktop/Learnings/Ineuron/Data%20Science%20Master/PythonBasics/test2/test.ipynb#ch0000006?line=1'>2</a>\u001b[0m     \u001b[39mreturn\u001b[39;00m x\u001b[39m/\u001b[39;49my\n",
      "\u001b[1;31mZeroDivisionError\u001b[0m: division by zero"
     ]
    }
   ],
   "source": [
    "func2(4,0)\n",
    "print(\"Test\") # test wil not run"
   ]
  },
  {
   "cell_type": "code",
   "execution_count": 41,
   "metadata": {},
   "outputs": [
    {
     "ename": "FileNotFoundError",
     "evalue": "[Errno 2] No such file or directory: 'test.txt'",
     "output_type": "error",
     "traceback": [
      "\u001b[1;31m---------------------------------------------------------------------------\u001b[0m",
      "\u001b[1;31mFileNotFoundError\u001b[0m                         Traceback (most recent call last)",
      "\u001b[1;32mc:\\Users\\lenovo\\Desktop\\Learnings\\Ineuron\\Data Science Master\\PythonBasics\\test2\\test.ipynb Cell 10'\u001b[0m in \u001b[0;36m<module>\u001b[1;34m\u001b[0m\n\u001b[1;32m----> <a href='vscode-notebook-cell:/c%3A/Users/lenovo/Desktop/Learnings/Ineuron/Data%20Science%20Master/PythonBasics/test2/test.ipynb#ch0000012?line=0'>1</a>\u001b[0m a \u001b[39m=\u001b[39m \u001b[39mopen\u001b[39;49m(\u001b[39m\"\u001b[39;49m\u001b[39mtest.txt\u001b[39;49m\u001b[39m\"\u001b[39;49m,\u001b[39m\"\u001b[39;49m\u001b[39mr\u001b[39;49m\u001b[39m\"\u001b[39;49m)\n",
      "\u001b[1;31mFileNotFoundError\u001b[0m: [Errno 2] No such file or directory: 'test.txt'"
     ]
    }
   ],
   "source": [
    "a = open(\"test.txt\",\"r\")"
   ]
  },
  {
   "cell_type": "code",
   "execution_count": 43,
   "metadata": {},
   "outputs": [
    {
     "name": "stdout",
     "output_type": "stream",
     "text": [
      "This code has some error\n"
     ]
    }
   ],
   "source": [
    "try:\n",
    "    a = open(\"test.txt\",\"r\")\n",
    "except:\n",
    "   print(\"This code has some error\")"
   ]
  },
  {
   "cell_type": "code",
   "execution_count": null,
   "metadata": {},
   "outputs": [],
   "source": [
    "# compile time error cannot be handled by try except block, it will only handle runtime exceptions."
   ]
  },
  {
   "cell_type": "code",
   "execution_count": 46,
   "metadata": {},
   "outputs": [
    {
     "ename": "ZeroDivisionError",
     "evalue": "division by zero",
     "output_type": "error",
     "traceback": [
      "\u001b[1;31m---------------------------------------------------------------------------\u001b[0m",
      "\u001b[1;31mZeroDivisionError\u001b[0m                         Traceback (most recent call last)",
      "\u001b[1;32mc:\\Users\\lenovo\\Desktop\\Learnings\\Ineuron\\Data Science Master\\PythonBasics\\test2\\test.ipynb Cell 13'\u001b[0m in \u001b[0;36m<module>\u001b[1;34m\u001b[0m\n\u001b[0;32m      <a href='vscode-notebook-cell:/c%3A/Users/lenovo/Desktop/Learnings/Ineuron/Data%20Science%20Master/PythonBasics/test2/test.ipynb#ch0000017?line=0'>1</a>\u001b[0m \u001b[39mtry\u001b[39;00m:\n\u001b[1;32m----> <a href='vscode-notebook-cell:/c%3A/Users/lenovo/Desktop/Learnings/Ineuron/Data%20Science%20Master/PythonBasics/test2/test.ipynb#ch0000017?line=1'>2</a>\u001b[0m     a \u001b[39m=\u001b[39m \u001b[39m5\u001b[39;49m\u001b[39m/\u001b[39;49m\u001b[39m0\u001b[39;49m\n\u001b[0;32m      <a href='vscode-notebook-cell:/c%3A/Users/lenovo/Desktop/Learnings/Ineuron/Data%20Science%20Master/PythonBasics/test2/test.ipynb#ch0000017?line=2'>3</a>\u001b[0m \u001b[39mexcept\u001b[39;00m \u001b[39mIOError\u001b[39;00m:\n\u001b[0;32m      <a href='vscode-notebook-cell:/c%3A/Users/lenovo/Desktop/Learnings/Ineuron/Data%20Science%20Master/PythonBasics/test2/test.ipynb#ch0000017?line=3'>4</a>\u001b[0m    \u001b[39mprint\u001b[39m(\u001b[39m\"\u001b[39m\u001b[39mThis code has some error\u001b[39m\u001b[39m\"\u001b[39m)\n",
      "\u001b[1;31mZeroDivisionError\u001b[0m: division by zero"
     ]
    }
   ],
   "source": [
    "try:\n",
    "    a = 5/0\n",
    "except IOError:\n",
    "   print(\"This code has some error\")"
   ]
  },
  {
   "cell_type": "code",
   "execution_count": 51,
   "metadata": {},
   "outputs": [
    {
     "name": "stdout",
     "output_type": "stream",
     "text": [
      "This code has division by zero error\n"
     ]
    }
   ],
   "source": [
    "try:\n",
    "    a = 5/0\n",
    "except ArithmeticError as e:\n",
    "   print(\"This code has {} error\".format(e))\n"
   ]
  },
  {
   "cell_type": "code",
   "execution_count": 53,
   "metadata": {},
   "outputs": [
    {
     "name": "stdout",
     "output_type": "stream",
     "text": [
      "this will execute once try will execute with sucess\n"
     ]
    }
   ],
   "source": [
    "try:\n",
    "    a = 5/4\n",
    "except ArithmeticError as e:\n",
    "   print(\"This code has {} error\".format(e))\n",
    "else:\n",
    "    print(\"this will execute once try will execute with sucess\")"
   ]
  },
  {
   "cell_type": "code",
   "execution_count": 56,
   "metadata": {},
   "outputs": [
    {
     "name": "stdout",
     "output_type": "stream",
     "text": [
      "this will execute once try will execute with sucess\n",
      "There is an error in internal else try block\n"
     ]
    }
   ],
   "source": [
    "try:\n",
    "    a = 5/4\n",
    "except ArithmeticError as e:\n",
    "   print(\"This code has {} error\".format(e))\n",
    "else:\n",
    "    print(\"this will execute once try will execute with sucess\")\n",
    "    try:\n",
    "        f = open(\"test.txt\",'r')\n",
    "    except:\n",
    "        print(\"There is an error in internal else try block\")\n"
   ]
  },
  {
   "cell_type": "code",
   "execution_count": 62,
   "metadata": {},
   "outputs": [
    {
     "name": "stdout",
     "output_type": "stream",
     "text": [
      "this will execute once try will execute with sucess\n",
      "Machine Learningais a form of AI that enables a system to learn from data rather than through explicit programming. However, machine learning is not a simple process. As the algorithms ingest training data, it is then possible to produce more precise models based on that data. A machine-learning model is the output generated when you train your machine-learning algorithm with data. After training, when you provide a model with an input, you will be given an output. For example, a predictive algorithm will create a predictive model. Then, when you provide the predictive model with data, you will receive a prediction based on the data that trained the model.\n",
      "sa\n",
      "sa\n",
      "fs\n",
      "e32\n",
      "45445\n",
      "44\n",
      "67\n",
      "33Machine Learning is in new lineThis is hussain shabbir madarwala\n"
     ]
    }
   ],
   "source": [
    "try:\n",
    "    a = 5/1\n",
    "except ArithmeticError as e:\n",
    "   print(\"This code has {} error\".format(e))\n",
    "   f = open(r\"C:\\Users\\lenovo\\Desktop\\Learnings\\Ineuron\\Data Science Master\\PythonBasics\\test2.txt\",\"r\")\n",
    "   print(f.read())\n",
    "\n",
    "else:\n",
    "    print(\"this will execute once try will execute with sucess\")\n",
    "    try:\n",
    "        f = open(r\"C:\\Users\\lenovo\\Desktop\\Learnings\\Ineuron\\Data Science Master\\PythonBasics\\test2.txt\",\"r\")\n",
    "        print(f.read())\n",
    "    except:\n",
    "        print(\"There is an error in internal else try block\")\n"
   ]
  },
  {
   "cell_type": "code",
   "execution_count": 1,
   "metadata": {},
   "outputs": [
    {
     "name": "stdout",
     "output_type": "stream",
     "text": [
      "Finally block will execute in any case\n"
     ]
    },
    {
     "ename": "FileNotFoundError",
     "evalue": "[Errno 2] No such file or directory: 'test.csv'",
     "output_type": "error",
     "traceback": [
      "\u001b[1;31m---------------------------------------------------------------------------\u001b[0m",
      "\u001b[1;31mFileNotFoundError\u001b[0m                         Traceback (most recent call last)",
      "\u001b[1;32mc:\\Users\\lenovo\\Desktop\\Learnings\\Ineuron\\Data Science Master\\PythonBasics\\exceptionhandling.ipynb Cell 18'\u001b[0m in \u001b[0;36m<module>\u001b[1;34m\u001b[0m\n\u001b[0;32m      <a href='vscode-notebook-cell:/c%3A/Users/lenovo/Desktop/Learnings/Ineuron/Data%20Science%20Master/PythonBasics/exceptionhandling.ipynb#ch0000017?line=0'>1</a>\u001b[0m \u001b[39mtry\u001b[39;00m:\n\u001b[1;32m----> <a href='vscode-notebook-cell:/c%3A/Users/lenovo/Desktop/Learnings/Ineuron/Data%20Science%20Master/PythonBasics/exceptionhandling.ipynb#ch0000017?line=1'>2</a>\u001b[0m     f \u001b[39m=\u001b[39m \u001b[39mopen\u001b[39;49m(\u001b[39m\"\u001b[39;49m\u001b[39mtest.csv\u001b[39;49m\u001b[39m\"\u001b[39;49m,\u001b[39m'\u001b[39;49m\u001b[39mr\u001b[39;49m\u001b[39m'\u001b[39;49m)\n\u001b[0;32m      <a href='vscode-notebook-cell:/c%3A/Users/lenovo/Desktop/Learnings/Ineuron/Data%20Science%20Master/PythonBasics/exceptionhandling.ipynb#ch0000017?line=2'>3</a>\u001b[0m \u001b[39mfinally\u001b[39;00m:\n\u001b[0;32m      <a href='vscode-notebook-cell:/c%3A/Users/lenovo/Desktop/Learnings/Ineuron/Data%20Science%20Master/PythonBasics/exceptionhandling.ipynb#ch0000017?line=3'>4</a>\u001b[0m     \u001b[39mprint\u001b[39m(\u001b[39m\"\u001b[39m\u001b[39mFinally block will execute in any case\u001b[39m\u001b[39m\"\u001b[39m)\n",
      "\u001b[1;31mFileNotFoundError\u001b[0m: [Errno 2] No such file or directory: 'test.csv'"
     ]
    }
   ],
   "source": [
    "try:\n",
    "    f = open(\"test.csv\",'r')\n",
    "finally:\n",
    "    print(\"Finally block will execute in any case\")"
   ]
  },
  {
   "cell_type": "code",
   "execution_count": 5,
   "metadata": {},
   "outputs": [
    {
     "name": "stdout",
     "output_type": "stream",
     "text": [
      "tst\n",
      "else will execute if try block will execute successfully\n",
      "Finally block will execute in any case\n",
      "error in tuple\n"
     ]
    }
   ],
   "source": [
    "try:\n",
    "    # f = open(\"test2.text\",'r')\n",
    "    print(\"tst\")\n",
    "except:\n",
    "    pass\n",
    "else:\n",
    "    print(\"else will execute if try block will execute successfully\")\n",
    "finally:\n",
    "    print(\"Finally block will execute in any case\")\n",
    "    try:\n",
    "        t=(4,5,2,)\n",
    "        t[2]=3\n",
    "    except:\n",
    "        print(\"error in tuple\")\n",
    "    "
   ]
  },
  {
   "cell_type": "code",
   "execution_count": 11,
   "metadata": {},
   "outputs": [],
   "source": [
    "def askforint():\n",
    "    while True:\n",
    "        try:\n",
    "            a = int(input(\"Enter a integer\"))\n",
    "        except Exception as e:\n",
    "            print(\"Error is\",e)\n",
    "        else:\n",
    "            print(\"Entry is Interger\")\n",
    "            break;\n",
    "        finally:\n",
    "            print(\"Close this issue\")\n",
    "            \n",
    "\n"
   ]
  },
  {
   "cell_type": "code",
   "execution_count": 12,
   "metadata": {},
   "outputs": [
    {
     "name": "stdout",
     "output_type": "stream",
     "text": [
      "Entry is Interger\n",
      "Close this issue\n"
     ]
    }
   ],
   "source": [
    "askforint()"
   ]
  },
  {
   "cell_type": "markdown",
   "metadata": {},
   "source": [
    "# Raise Exception"
   ]
  },
  {
   "cell_type": "code",
   "execution_count": 24,
   "metadata": {},
   "outputs": [],
   "source": [
    "def createourexception(a):\n",
    "    if a==6:\n",
    "        raise Exception(\"error is \",a)\n",
    "    else:\n",
    "        print(\"number is ok\")\n",
    "    return a "
   ]
  },
  {
   "cell_type": "code",
   "execution_count": 25,
   "metadata": {},
   "outputs": [
    {
     "ename": "Exception",
     "evalue": "('error is ', 6)",
     "output_type": "error",
     "traceback": [
      "\u001b[1;31m---------------------------------------------------------------------------\u001b[0m",
      "\u001b[1;31mException\u001b[0m                                 Traceback (most recent call last)",
      "\u001b[1;32mc:\\Users\\lenovo\\Desktop\\Learnings\\Ineuron\\Data Science Master\\PythonBasics\\exceptionhandling.ipynb Cell 24'\u001b[0m in \u001b[0;36m<module>\u001b[1;34m\u001b[0m\n\u001b[1;32m----> <a href='vscode-notebook-cell:/c%3A/Users/lenovo/Desktop/Learnings/Ineuron/Data%20Science%20Master/PythonBasics/exceptionhandling.ipynb#ch0000027?line=0'>1</a>\u001b[0m createourexception(\u001b[39m6\u001b[39;49m)\n",
      "\u001b[1;32mc:\\Users\\lenovo\\Desktop\\Learnings\\Ineuron\\Data Science Master\\PythonBasics\\exceptionhandling.ipynb Cell 23'\u001b[0m in \u001b[0;36mcreateourexception\u001b[1;34m(a)\u001b[0m\n\u001b[0;32m      <a href='vscode-notebook-cell:/c%3A/Users/lenovo/Desktop/Learnings/Ineuron/Data%20Science%20Master/PythonBasics/exceptionhandling.ipynb#ch0000025?line=0'>1</a>\u001b[0m \u001b[39mdef\u001b[39;00m \u001b[39mcreateourexception\u001b[39m(a):\n\u001b[0;32m      <a href='vscode-notebook-cell:/c%3A/Users/lenovo/Desktop/Learnings/Ineuron/Data%20Science%20Master/PythonBasics/exceptionhandling.ipynb#ch0000025?line=1'>2</a>\u001b[0m     \u001b[39mif\u001b[39;00m a\u001b[39m==\u001b[39m\u001b[39m6\u001b[39m:\n\u001b[1;32m----> <a href='vscode-notebook-cell:/c%3A/Users/lenovo/Desktop/Learnings/Ineuron/Data%20Science%20Master/PythonBasics/exceptionhandling.ipynb#ch0000025?line=2'>3</a>\u001b[0m         \u001b[39mraise\u001b[39;00m \u001b[39mException\u001b[39;00m(\u001b[39m\"\u001b[39m\u001b[39merror is \u001b[39m\u001b[39m\"\u001b[39m,a)\n\u001b[0;32m      <a href='vscode-notebook-cell:/c%3A/Users/lenovo/Desktop/Learnings/Ineuron/Data%20Science%20Master/PythonBasics/exceptionhandling.ipynb#ch0000025?line=3'>4</a>\u001b[0m     \u001b[39melse\u001b[39;00m:\n\u001b[0;32m      <a href='vscode-notebook-cell:/c%3A/Users/lenovo/Desktop/Learnings/Ineuron/Data%20Science%20Master/PythonBasics/exceptionhandling.ipynb#ch0000025?line=4'>5</a>\u001b[0m         \u001b[39mprint\u001b[39m(\u001b[39m\"\u001b[39m\u001b[39mnumber is ok\u001b[39m\u001b[39m\"\u001b[39m)\n",
      "\u001b[1;31mException\u001b[0m: ('error is ', 6)"
     ]
    }
   ],
   "source": [
    "createourexception(6)"
   ]
  },
  {
   "cell_type": "code",
   "execution_count": 26,
   "metadata": {},
   "outputs": [
    {
     "name": "stdout",
     "output_type": "stream",
     "text": [
      "number is ok\n"
     ]
    },
    {
     "data": {
      "text/plain": [
       "7"
      ]
     },
     "execution_count": 26,
     "metadata": {},
     "output_type": "execute_result"
    }
   ],
   "source": [
    "createourexception(7)"
   ]
  },
  {
   "cell_type": "code",
   "execution_count": 27,
   "metadata": {},
   "outputs": [
    {
     "name": "stdout",
     "output_type": "stream",
     "text": [
      "This is an error ('error is ', 6)\n"
     ]
    }
   ],
   "source": [
    "try:\n",
    "    createourexception(6)\n",
    "except Exception as e:\n",
    "    print(\"This is an error\",e)"
   ]
  },
  {
   "cell_type": "code",
   "execution_count": 63,
   "metadata": {},
   "outputs": [],
   "source": [
    "import sample"
   ]
  },
  {
   "cell_type": "code",
   "execution_count": 64,
   "metadata": {},
   "outputs": [
    {
     "name": "stdout",
     "output_type": "stream",
     "text": [
      "Number is even\n"
     ]
    }
   ],
   "source": [
    "sample.even(2)"
   ]
  },
  {
   "cell_type": "code",
   "execution_count": 69,
   "metadata": {},
   "outputs": [
    {
     "name": "stdout",
     "output_type": "stream",
     "text": [
      "This is an error not all arguments converted during string formatting\n"
     ]
    }
   ],
   "source": [
    "try:\n",
    "    sample.even(\"7\")\n",
    "except Exception as e:\n",
    "    print(\"This is an error\",e)"
   ]
  },
  {
   "cell_type": "code",
   "execution_count": 66,
   "metadata": {},
   "outputs": [
    {
     "name": "stdout",
     "output_type": "stream",
     "text": [
      "not all arguments converted during string formatting\n"
     ]
    }
   ],
   "source": [
    "def even(*args):\n",
    "    try:\n",
    "        for i in args:\n",
    "            if i%2==0:\n",
    "                print(\"Number is even\")\n",
    "            else:\n",
    "                print(\"Number is odd\")\n",
    "              \n",
    "    except Exception  as e :\n",
    "        print(e)\n",
    "\n",
    "even(\"5\")"
   ]
  },
  {
   "cell_type": "code",
   "execution_count": null,
   "metadata": {},
   "outputs": [],
   "source": []
  }
 ],
 "metadata": {
  "interpreter": {
   "hash": "1784f50464a290d377b97189f8cc5b1fac9ec055258da1c83eeefa641d3a79e6"
  },
  "kernelspec": {
   "display_name": "Python 3.8.6 64-bit",
   "language": "python",
   "name": "python3"
  },
  "language_info": {
   "codemirror_mode": {
    "name": "ipython",
    "version": 3
   },
   "file_extension": ".py",
   "mimetype": "text/x-python",
   "name": "python",
   "nbconvert_exporter": "python",
   "pygments_lexer": "ipython3",
   "version": "3.8.6"
  },
  "orig_nbformat": 4
 },
 "nbformat": 4,
 "nbformat_minor": 2
}
