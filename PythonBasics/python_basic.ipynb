{
  "cells": [
    {
      "cell_type": "code",
      "execution_count": 1,
      "metadata": {
        "id": "fS3lwQnuc9OP",
        "outputId": "0532510f-4e52-415d-fa20-11b97e7a7823"
      },
      "outputs": [
        {
          "name": "stdout",
          "output_type": "stream",
          "text": [
            "this is my first python Code\n"
          ]
        }
      ],
      "source": [
        "#this is my first prog\n",
        "print('this is my first python Code')"
      ]
    },
    {
      "cell_type": "code",
      "execution_count": null,
      "metadata": {
        "id": "nlG2B9Klc9OV",
        "outputId": "dd1c52c4-0f25-4f5d-a410-59c9ae9bc90b"
      },
      "outputs": [
        {
          "ename": "SyntaxError",
          "evalue": "Missing parentheses in call to 'print'. Did you mean print(\" this is my first program\")? (<ipython-input-5-470a57016701>, line 1)",
          "output_type": "error",
          "traceback": [
            "\u001b[1;36m  File \u001b[1;32m\"<ipython-input-5-470a57016701>\"\u001b[1;36m, line \u001b[1;32m1\u001b[0m\n\u001b[1;33m    print \" this is my first program\"\u001b[0m\n\u001b[1;37m          ^\u001b[0m\n\u001b[1;31mSyntaxError\u001b[0m\u001b[1;31m:\u001b[0m Missing parentheses in call to 'print'. Did you mean print(\" this is my first program\")?\n"
          ]
        }
      ],
      "source": [
        "print \" this is my first program\""
      ]
    },
    {
      "cell_type": "code",
      "execution_count": 7,
      "metadata": {
        "id": "B3H8dK07c9OW",
        "outputId": "0492fea4-f274-4c29-d576-eeb2dd30b828"
      },
      "outputs": [
        {
          "data": {
            "text/plain": [
              "'FAFASFSAFSAFASFASFASFSDFASF\\nASDFASF\\nASDFASDF\\n'"
            ]
          },
          "execution_count": 7,
          "metadata": {},
          "output_type": "execute_result"
        }
      ],
      "source": [
        "#my name is sudh \n",
        "\"\"\"FAFASFSAFSAFASFASFASFSDFASF\n",
        "ASDFASF\n",
        "ASDFASDF\n",
        "\"\"\"\n"
      ]
    },
    {
      "cell_type": "code",
      "execution_count": 8,
      "metadata": {
        "id": "NB1ZLWasc9OX",
        "outputId": "da15993e-045a-4a46-8221-381711afbfff"
      },
      "outputs": [
        {
          "data": {
            "text/plain": [
              "'print(\"fsdfsdfs\")\\nprint(\"Fsdfsfs\\\\FSDFSAFASFASDDF)\\nprint(\"sdfsfsdf\")'"
            ]
          },
          "execution_count": 8,
          "metadata": {},
          "output_type": "execute_result"
        }
      ],
      "source": [
        "\"\"\"print(\"fsdfsdfs\")\n",
        "print(\"Fsdfsfs\\FSDFSAFASFASDDF)\n",
        "print(\"sdfsfsdf\")\"\"\""
      ]
    },
    {
      "cell_type": "code",
      "execution_count": null,
      "metadata": {
        "id": "9YFfnNsyc9OX"
      },
      "outputs": [],
      "source": [
        "afsdf = 10 "
      ]
    },
    {
      "cell_type": "code",
      "execution_count": null,
      "metadata": {
        "id": "QRPSq2hVc9OY",
        "outputId": "6b2ad391-7b12-4d26-bae9-6c09a25e9c50"
      },
      "outputs": [
        {
          "data": {
            "text/plain": [
              "10"
            ]
          },
          "execution_count": 22,
          "metadata": {},
          "output_type": "execute_result"
        }
      ],
      "source": [
        "afsdf"
      ]
    },
    {
      "cell_type": "code",
      "execution_count": 1,
      "metadata": {},
      "outputs": [],
      "source": [
        "a = 10"
      ]
    },
    {
      "cell_type": "code",
      "execution_count": 2,
      "metadata": {
        "id": "fOEI9GNbc9OY",
        "outputId": "f9715fad-5955-4a09-d768-99e97beece4c"
      },
      "outputs": [
        {
          "data": {
            "text/plain": [
              "int"
            ]
          },
          "execution_count": 2,
          "metadata": {},
          "output_type": "execute_result"
        }
      ],
      "source": [
        "type(a)"
      ]
    },
    {
      "cell_type": "code",
      "execution_count": 4,
      "metadata": {
        "id": "xileA53Ac9OZ"
      },
      "outputs": [],
      "source": [
        "b = '34554sudh 45345fgf sgsd sdfg sh sghf h dhdfh df'"
      ]
    },
    {
      "cell_type": "code",
      "execution_count": null,
      "metadata": {
        "id": "_Tw9QJEUc9OZ",
        "outputId": "4c24c052-226b-499f-df61-68c665bfef14"
      },
      "outputs": [
        {
          "data": {
            "text/plain": [
              "'34554sudh 45345fgf sgsd sdfg sh sghf h dhdfh df'"
            ]
          },
          "execution_count": 29,
          "metadata": {},
          "output_type": "execute_result"
        }
      ],
      "source": [
        "b"
      ]
    },
    {
      "cell_type": "code",
      "execution_count": 5,
      "metadata": {
        "id": "1VWMwcxGc9Oa",
        "outputId": "0d4a89bf-2d24-4d92-8eec-47b672e2de5c"
      },
      "outputs": [
        {
          "data": {
            "text/plain": [
              "str"
            ]
          },
          "execution_count": 5,
          "metadata": {},
          "output_type": "execute_result"
        }
      ],
      "source": [
        "type(b)"
      ]
    },
    {
      "cell_type": "code",
      "execution_count": 6,
      "metadata": {
        "id": "ukbkzpxec9Ob",
        "outputId": "cebbca44-fe2f-4b33-e14d-d555c187dff5"
      },
      "outputs": [
        {
          "name": "stdout",
          "output_type": "stream",
          "text": [
            "34554sudh 45345fgf sgsd sdfg sh sghf h dhdfh df 10 Fsdfsfsd\n"
          ]
        }
      ],
      "source": [
        "print(b , a ,\"Fsdfsfsd\")"
      ]
    },
    {
      "cell_type": "code",
      "execution_count": null,
      "metadata": {
        "id": "IGjux4hPc9Ob"
      },
      "outputs": [],
      "source": [
        "a = 45\n",
        "b = \"sudh \""
      ]
    },
    {
      "cell_type": "code",
      "execution_count": 7,
      "metadata": {
        "id": "6OMyrD05c9Oc"
      },
      "outputs": [],
      "source": [
        "a, b  , s = 45 , \"sudh\" , \"this is my name \""
      ]
    },
    {
      "cell_type": "code",
      "execution_count": 8,
      "metadata": {
        "id": "eBkq95uKc9Oc",
        "outputId": "64bde695-aa16-4530-ff7c-4501cf996b9b"
      },
      "outputs": [
        {
          "data": {
            "text/plain": [
              "45"
            ]
          },
          "execution_count": 8,
          "metadata": {},
          "output_type": "execute_result"
        }
      ],
      "source": [
        "a "
      ]
    },
    {
      "cell_type": "code",
      "execution_count": null,
      "metadata": {
        "id": "9lyU7Do2c9Od",
        "outputId": "2f52c1eb-e15e-422a-f7a9-74241ddd8d9b"
      },
      "outputs": [
        {
          "data": {
            "text/plain": [
              "'sudh'"
            ]
          },
          "execution_count": 38,
          "metadata": {},
          "output_type": "execute_result"
        }
      ],
      "source": [
        "b"
      ]
    },
    {
      "cell_type": "code",
      "execution_count": null,
      "metadata": {
        "id": "X44QAl4gc9Od",
        "outputId": "352c13e2-ae21-4c12-d30c-93ee0acfe5d1"
      },
      "outputs": [
        {
          "data": {
            "text/plain": [
              "'this is my name '"
            ]
          },
          "execution_count": 39,
          "metadata": {},
          "output_type": "execute_result"
        }
      ],
      "source": [
        "s "
      ]
    },
    {
      "cell_type": "code",
      "execution_count": null,
      "metadata": {
        "id": "97cijJ15c9Od",
        "outputId": "f0d6951b-fce6-4034-f838-f9883f9a07a6"
      },
      "outputs": [
        {
          "data": {
            "text/plain": [
              "str"
            ]
          },
          "execution_count": 40,
          "metadata": {},
          "output_type": "execute_result"
        }
      ],
      "source": [
        "type(b)"
      ]
    },
    {
      "cell_type": "code",
      "execution_count": null,
      "metadata": {
        "id": "po2BX6Cfc9Oe",
        "outputId": "73c3c351-3c86-4627-f87a-72ef8a5c875d"
      },
      "outputs": [
        {
          "data": {
            "text/plain": [
              "str"
            ]
          },
          "execution_count": 42,
          "metadata": {},
          "output_type": "execute_result"
        }
      ],
      "source": [
        "type(s)"
      ]
    },
    {
      "cell_type": "code",
      "execution_count": null,
      "metadata": {
        "id": "zUHrUdOLc9Oe",
        "outputId": "41fb5941-123d-4e2a-d3e0-2a2032c160fb"
      },
      "outputs": [
        {
          "data": {
            "text/plain": [
              "int"
            ]
          },
          "execution_count": 43,
          "metadata": {},
          "output_type": "execute_result"
        }
      ],
      "source": [
        "type(a)"
      ]
    },
    {
      "cell_type": "code",
      "execution_count": null,
      "metadata": {
        "id": "dMJRxjZac9Oe",
        "outputId": "9e3298ab-7029-47c0-9e9a-4b7ac5a70349"
      },
      "outputs": [
        {
          "name": "stdout",
          "output_type": "stream",
          "text": [
            "45 sudh this is my name \n"
          ]
        }
      ],
      "source": [
        "print(a,b,s)"
      ]
    },
    {
      "cell_type": "code",
      "execution_count": null,
      "metadata": {
        "id": "IUSC4Wagc9Oe"
      },
      "outputs": [],
      "source": [
        "b  = '\"fsdf\"'"
      ]
    },
    {
      "cell_type": "code",
      "execution_count": null,
      "metadata": {
        "id": "EvIdVdAIc9Of",
        "outputId": "2e96aa23-b6f7-4bdf-8141-a681e7957266"
      },
      "outputs": [
        {
          "data": {
            "text/plain": [
              "'\"fsdf\"'"
            ]
          },
          "execution_count": 48,
          "metadata": {},
          "output_type": "execute_result"
        }
      ],
      "source": [
        "b "
      ]
    },
    {
      "cell_type": "code",
      "execution_count": null,
      "metadata": {
        "id": "20uIBqWtc9Of",
        "outputId": "bcf2ce2c-3267-465a-b2f0-6b8a8ab522d6"
      },
      "outputs": [
        {
          "ename": "SyntaxError",
          "evalue": "invalid syntax (<ipython-input-49-e3f34da01b3c>, line 1)",
          "output_type": "error",
          "traceback": [
            "\u001b[1;36m  File \u001b[1;32m\"<ipython-input-49-e3f34da01b3c>\"\u001b[1;36m, line \u001b[1;32m1\u001b[0m\n\u001b[1;33m    1b = \"fsfsd\"\u001b[0m\n\u001b[1;37m     ^\u001b[0m\n\u001b[1;31mSyntaxError\u001b[0m\u001b[1;31m:\u001b[0m invalid syntax\n"
          ]
        }
      ],
      "source": [
        "1b = \"fsfsd\""
      ]
    },
    {
      "cell_type": "code",
      "execution_count": null,
      "metadata": {
        "id": "MWytTiaKc9Of"
      },
      "outputs": [],
      "source": [
        "B = \"fsdf\""
      ]
    },
    {
      "cell_type": "code",
      "execution_count": null,
      "metadata": {
        "id": "Z9ikIQgqc9Og",
        "outputId": "4ca072dc-aba7-418a-94e4-95da33fb8b4b"
      },
      "outputs": [
        {
          "data": {
            "text/plain": [
              "'fsdf'"
            ]
          },
          "execution_count": 51,
          "metadata": {},
          "output_type": "execute_result"
        }
      ],
      "source": [
        "B"
      ]
    },
    {
      "cell_type": "code",
      "execution_count": null,
      "metadata": {
        "id": "Xtw1xzkfc9Og"
      },
      "outputs": [],
      "source": [
        "b = \"fsfsd\""
      ]
    },
    {
      "cell_type": "code",
      "execution_count": null,
      "metadata": {
        "id": "c1DkXpwOc9Oh",
        "outputId": "43b102ae-040c-4455-c30f-f808a34092cc"
      },
      "outputs": [
        {
          "ename": "SyntaxError",
          "evalue": "invalid syntax (<ipython-input-53-15e8dfce1214>, line 1)",
          "output_type": "error",
          "traceback": [
            "\u001b[1;36m  File \u001b[1;32m\"<ipython-input-53-15e8dfce1214>\"\u001b[1;36m, line \u001b[1;32m1\u001b[0m\n\u001b[1;33m    2b = \"sdfs\"\u001b[0m\n\u001b[1;37m     ^\u001b[0m\n\u001b[1;31mSyntaxError\u001b[0m\u001b[1;31m:\u001b[0m invalid syntax\n"
          ]
        }
      ],
      "source": [
        "2b = \"sdfs\""
      ]
    },
    {
      "cell_type": "code",
      "execution_count": null,
      "metadata": {
        "id": "CA4rFn-Uc9Oh"
      },
      "outputs": [],
      "source": [
        "_b = 234534"
      ]
    },
    {
      "cell_type": "code",
      "execution_count": null,
      "metadata": {
        "id": "22KzpcgGc9Oh",
        "outputId": "ed9c8b30-a741-47ea-ce0a-9009a0b1d7fc"
      },
      "outputs": [
        {
          "data": {
            "text/plain": [
              "234534"
            ]
          },
          "execution_count": 58,
          "metadata": {},
          "output_type": "execute_result"
        }
      ],
      "source": [
        "_b"
      ]
    },
    {
      "cell_type": "code",
      "execution_count": null,
      "metadata": {
        "id": "quDqIu_oc9Oh",
        "outputId": "942f01ed-9365-4607-90fb-b9d89d64e79e"
      },
      "outputs": [
        {
          "ename": "SyntaxError",
          "evalue": "invalid syntax (<ipython-input-59-0f0b1b1ea588>, line 1)",
          "output_type": "error",
          "traceback": [
            "\u001b[1;36m  File \u001b[1;32m\"<ipython-input-59-0f0b1b1ea588>\"\u001b[1;36m, line \u001b[1;32m1\u001b[0m\n\u001b[1;33m    b& = \"fsds\"\u001b[0m\n\u001b[1;37m       ^\u001b[0m\n\u001b[1;31mSyntaxError\u001b[0m\u001b[1;31m:\u001b[0m invalid syntax\n"
          ]
        }
      ],
      "source": [
        "b& = \"fsds\""
      ]
    },
    {
      "cell_type": "code",
      "execution_count": null,
      "metadata": {
        "id": "ePbEfcdOc9Oh"
      },
      "outputs": [],
      "source": [
        "name = \"sudh\"\n",
        "userid = \"IN001\"\n",
        "password = \"fsfsfsd\"\n",
        "mail = \"sudhans@ienru.ai\""
      ]
    },
    {
      "cell_type": "code",
      "execution_count": null,
      "metadata": {
        "id": "bXqCnXWyc9Oi"
      },
      "outputs": [],
      "source": [
        "a = 1.6423424242243434234234"
      ]
    },
    {
      "cell_type": "code",
      "execution_count": null,
      "metadata": {
        "id": "6DWbYPqbc9Oi",
        "outputId": "60f26c7c-c223-4a5b-e88c-b028a9806d7e"
      },
      "outputs": [
        {
          "data": {
            "text/plain": [
              "float"
            ]
          },
          "execution_count": 64,
          "metadata": {},
          "output_type": "execute_result"
        }
      ],
      "source": [
        "type(a )"
      ]
    },
    {
      "cell_type": "code",
      "execution_count": null,
      "metadata": {
        "id": "MOuUYAdNc9Oi"
      },
      "outputs": [],
      "source": [
        "b = True \n",
        "c = False "
      ]
    },
    {
      "cell_type": "code",
      "execution_count": null,
      "metadata": {
        "id": "zAtEQRqmc9Oi",
        "outputId": "a2d19ab9-2db8-4b4b-9cc5-79596208afd5"
      },
      "outputs": [
        {
          "data": {
            "text/plain": [
              "bool"
            ]
          },
          "execution_count": 66,
          "metadata": {},
          "output_type": "execute_result"
        }
      ],
      "source": [
        "type(b)"
      ]
    },
    {
      "cell_type": "code",
      "execution_count": null,
      "metadata": {
        "id": "3B4Loo_Jc9Oi",
        "outputId": "5f0c6b33-3e12-46a8-9689-7bf7ffd47818"
      },
      "outputs": [
        {
          "data": {
            "text/plain": [
              "bool"
            ]
          },
          "execution_count": 68,
          "metadata": {},
          "output_type": "execute_result"
        }
      ],
      "source": [
        "type(c)"
      ]
    },
    {
      "cell_type": "code",
      "execution_count": null,
      "metadata": {
        "id": "qnMXwYaxc9Oj",
        "outputId": "4c158d76-e013-4df7-ca32-f9461179bd7a"
      },
      "outputs": [
        {
          "name": "stdout",
          "output_type": "stream",
          "text": [
            "4\n",
            "0\n"
          ]
        }
      ],
      "source": [
        "print(True + True + True + False + True  )\n",
        "print(False - True+ True ) "
      ]
    },
    {
      "cell_type": "code",
      "execution_count": null,
      "metadata": {
        "id": "ouIg2WTJc9Oj",
        "outputId": "6d6bd94f-c50f-4a40-95bd-a5bcffb7174c"
      },
      "outputs": [
        {
          "data": {
            "text/plain": [
              "2"
            ]
          },
          "execution_count": 73,
          "metadata": {},
          "output_type": "execute_result"
        }
      ],
      "source": [
        "True + True -False"
      ]
    },
    {
      "cell_type": "code",
      "execution_count": null,
      "metadata": {
        "id": "HKupwYGwc9Oj",
        "outputId": "5dbba3a7-01b2-47df-a592-f8fbf09ea8a6"
      },
      "outputs": [
        {
          "ename": "ZeroDivisionError",
          "evalue": "division by zero",
          "output_type": "error",
          "traceback": [
            "\u001b[1;31m---------------------------------------------------------------------------\u001b[0m",
            "\u001b[1;31mZeroDivisionError\u001b[0m                         Traceback (most recent call last)",
            "\u001b[1;32m<ipython-input-75-f8487d9d0863>\u001b[0m in \u001b[0;36m<module>\u001b[1;34m\u001b[0m\n\u001b[1;32m----> 1\u001b[1;33m \u001b[1;32mTrue\u001b[0m \u001b[1;33m/\u001b[0m \u001b[1;32mFalse\u001b[0m\u001b[1;33m\u001b[0m\u001b[1;33m\u001b[0m\u001b[0m\n\u001b[0m",
            "\u001b[1;31mZeroDivisionError\u001b[0m: division by zero"
          ]
        }
      ],
      "source": [
        "True / False"
      ]
    },
    {
      "cell_type": "code",
      "execution_count": null,
      "metadata": {
        "id": "Zn-q4OXrc9Oj"
      },
      "outputs": [],
      "source": [
        "n  = 45 + 6j\n",
        "m = 56 + 8j"
      ]
    },
    {
      "cell_type": "code",
      "execution_count": null,
      "metadata": {
        "id": "otsqJfxjc9Oj",
        "outputId": "3891e960-b488-45fc-c798-112fdc12ec4e"
      },
      "outputs": [
        {
          "data": {
            "text/plain": [
              "complex"
            ]
          },
          "execution_count": 89,
          "metadata": {},
          "output_type": "execute_result"
        }
      ],
      "source": [
        "type(m)"
      ]
    },
    {
      "cell_type": "code",
      "execution_count": null,
      "metadata": {
        "id": "WqX3IlBXc9Ok",
        "outputId": "eae39928-ae10-4404-d091-ccaa90a62c8d"
      },
      "outputs": [
        {
          "data": {
            "text/plain": [
              "(2472+696j)"
            ]
          },
          "execution_count": 87,
          "metadata": {},
          "output_type": "execute_result"
        }
      ],
      "source": [
        "n* m"
      ]
    },
    {
      "cell_type": "code",
      "execution_count": null,
      "metadata": {
        "id": "i8dM7T35c9Ok",
        "outputId": "d02c4c97-0f07-4426-f616-96656dc10f42"
      },
      "outputs": [
        {
          "data": {
            "text/plain": [
              "45.0"
            ]
          },
          "execution_count": 80,
          "metadata": {},
          "output_type": "execute_result"
        }
      ],
      "source": [
        "n.real"
      ]
    },
    {
      "cell_type": "code",
      "execution_count": null,
      "metadata": {
        "id": "0T3VvdCoc9Ok",
        "outputId": "6bf1397a-a6a7-4ae1-c5f6-83e08b85785a"
      },
      "outputs": [
        {
          "data": {
            "text/plain": [
              "6.0"
            ]
          },
          "execution_count": 81,
          "metadata": {},
          "output_type": "execute_result"
        }
      ],
      "source": [
        "n.imag"
      ]
    },
    {
      "cell_type": "code",
      "execution_count": null,
      "metadata": {
        "id": "i9VSrOoFc9Ok",
        "outputId": "5de4e703-5582-4832-af6c-3dfe8d4fc9e6"
      },
      "outputs": [
        {
          "data": {
            "text/plain": [
              "str"
            ]
          },
          "execution_count": 88,
          "metadata": {},
          "output_type": "execute_result"
        }
      ],
      "source": [
        "b = \"sdf\"\n",
        "type(b)"
      ]
    },
    {
      "cell_type": "code",
      "execution_count": null,
      "metadata": {
        "id": "QirkbnG1c9Ok",
        "outputId": "ed290dc2-4324-4a11-d2d2-e91950d4af32"
      },
      "outputs": [
        {
          "data": {
            "text/plain": [
              "'1sudh'"
            ]
          },
          "execution_count": 94,
          "metadata": {},
          "output_type": "execute_result"
        }
      ],
      "source": [
        "\"1\"+ \"sudh\""
      ]
    },
    {
      "cell_type": "code",
      "execution_count": null,
      "metadata": {
        "id": "RrLv8romc9Ol",
        "outputId": "493061be-3b92-4677-d598-be692c072765"
      },
      "outputs": [
        {
          "data": {
            "text/plain": [
              "2.0"
            ]
          },
          "execution_count": 96,
          "metadata": {},
          "output_type": "execute_result"
        }
      ],
      "source": [
        "1+ 1.0"
      ]
    },
    {
      "cell_type": "code",
      "execution_count": null,
      "metadata": {
        "id": "WPxrZ17wc9Ol",
        "outputId": "7b4e1a87-e973-457c-d627-eddd5357fa27"
      },
      "outputs": [
        {
          "data": {
            "text/plain": [
              "'sudhsudhsudh'"
            ]
          },
          "execution_count": 97,
          "metadata": {},
          "output_type": "execute_result"
        }
      ],
      "source": [
        "\"sudh\" + \"sudh\" + \"sudh\""
      ]
    },
    {
      "cell_type": "code",
      "execution_count": null,
      "metadata": {
        "id": "bcu3R3SYc9Ol",
        "outputId": "7bba7bad-8faa-4dbd-d21e-72f30461cce3"
      },
      "outputs": [
        {
          "data": {
            "text/plain": [
              "'sudhsudhsudh'"
            ]
          },
          "execution_count": 100,
          "metadata": {},
          "output_type": "execute_result"
        }
      ],
      "source": [
        "\"sudh\" * 3"
      ]
    },
    {
      "cell_type": "code",
      "execution_count": null,
      "metadata": {
        "id": "EkU5q2sRc9Ol",
        "outputId": "0704b955-ca40-4514-9f28-43f6024e744f"
      },
      "outputs": [
        {
          "data": {
            "text/plain": [
              "23"
            ]
          },
          "execution_count": 102,
          "metadata": {},
          "output_type": "execute_result"
        }
      ],
      "source": [
        "int('23')"
      ]
    },
    {
      "cell_type": "code",
      "execution_count": null,
      "metadata": {
        "id": "Dck4XNoHc9Ol",
        "outputId": "26a04257-7d91-4ddc-e27b-031e86ada7da"
      },
      "outputs": [
        {
          "ename": "ValueError",
          "evalue": "invalid literal for int() with base 10: '2354dfsdfs'",
          "output_type": "error",
          "traceback": [
            "\u001b[1;31m---------------------------------------------------------------------------\u001b[0m",
            "\u001b[1;31mValueError\u001b[0m                                Traceback (most recent call last)",
            "\u001b[1;32m<ipython-input-104-726447aa2631>\u001b[0m in \u001b[0;36m<module>\u001b[1;34m\u001b[0m\n\u001b[1;32m----> 1\u001b[1;33m \u001b[0mint\u001b[0m\u001b[1;33m(\u001b[0m\u001b[1;34m\"2354dfsdfs\"\u001b[0m\u001b[1;33m)\u001b[0m\u001b[1;33m\u001b[0m\u001b[1;33m\u001b[0m\u001b[0m\n\u001b[0m",
            "\u001b[1;31mValueError\u001b[0m: invalid literal for int() with base 10: '2354dfsdfs'"
          ]
        }
      ],
      "source": [
        "int(\"2354dfsdfs\")"
      ]
    },
    {
      "cell_type": "code",
      "execution_count": null,
      "metadata": {
        "id": "a0tyuiZ4c9Ol"
      },
      "outputs": [],
      "source": [
        "a = 10 "
      ]
    },
    {
      "cell_type": "code",
      "execution_count": 9,
      "metadata": {},
      "outputs": [],
      "source": [
        "x = int(input(\"Enter Value input 1: \"))\n",
        "y = int(input(\"Enter Value input 2: \"))\n",
        "z = int(input(\"Enter Value input 3: \"))"
      ]
    },
    {
      "cell_type": "code",
      "execution_count": 10,
      "metadata": {},
      "outputs": [],
      "source": [
        "a = (x+y)/z"
      ]
    },
    {
      "cell_type": "code",
      "execution_count": 11,
      "metadata": {},
      "outputs": [
        {
          "data": {
            "text/plain": [
              "1.25"
            ]
          },
          "execution_count": 11,
          "metadata": {},
          "output_type": "execute_result"
        }
      ],
      "source": [
        "a"
      ]
    },
    {
      "cell_type": "code",
      "execution_count": 12,
      "metadata": {},
      "outputs": [],
      "source": [
        "comp = 2+5j"
      ]
    },
    {
      "cell_type": "code",
      "execution_count": 13,
      "metadata": {},
      "outputs": [],
      "source": [
        "b = a + comp"
      ]
    },
    {
      "cell_type": "code",
      "execution_count": 14,
      "metadata": {},
      "outputs": [
        {
          "data": {
            "text/plain": [
              "(3.25+5j)"
            ]
          },
          "execution_count": 14,
          "metadata": {},
          "output_type": "execute_result"
        }
      ],
      "source": [
        "b"
      ]
    },
    {
      "cell_type": "code",
      "execution_count": 16,
      "metadata": {},
      "outputs": [],
      "source": [
        "c = str(b) + \"Hussain Shabbir Madarwala\""
      ]
    },
    {
      "cell_type": "code",
      "execution_count": 17,
      "metadata": {},
      "outputs": [
        {
          "data": {
            "text/plain": [
              "'(3.25+5j)Hussain Shabbir Madarwala'"
            ]
          },
          "execution_count": 17,
          "metadata": {},
          "output_type": "execute_result"
        }
      ],
      "source": [
        "c"
      ]
    },
    {
      "cell_type": "code",
      "execution_count": null,
      "metadata": {
        "id": "M0oEl-9pc9Om",
        "outputId": "458e6533-350f-4ee4-a770-ff8f5533fb45"
      },
      "outputs": [
        {
          "name": "stdout",
          "output_type": "stream",
          "text": [
            "enter a interger 242344232\n"
          ]
        }
      ],
      "source": [
        "a = input(\"enter a interger \")"
      ]
    },
    {
      "cell_type": "code",
      "execution_count": null,
      "metadata": {},
      "outputs": [],
      "source": []
    },
    {
      "cell_type": "code",
      "execution_count": null,
      "metadata": {
        "id": "OMzE8aKVc9Om",
        "outputId": "600ab16b-8646-4d55-a830-c0591a996426"
      },
      "outputs": [
        {
          "data": {
            "text/plain": [
              "str"
            ]
          },
          "execution_count": 113,
          "metadata": {},
          "output_type": "execute_result"
        }
      ],
      "source": [
        "type(a)"
      ]
    },
    {
      "cell_type": "code",
      "execution_count": null,
      "metadata": {
        "id": "eLcAvaDoc9Om",
        "outputId": "d4b161f7-9849-4f4f-c613-c43ff47a5947"
      },
      "outputs": [
        {
          "name": "stdout",
          "output_type": "stream",
          "text": [
            "this is my var a 45\n",
            "this is my var b 454\n",
            "this is my var c 454\n"
          ]
        },
        {
          "data": {
            "text/plain": [
              "'(124+6j)sudh'"
            ]
          },
          "execution_count": 131,
          "metadata": {},
          "output_type": "execute_result"
        }
      ],
      "source": [
        "a = int(input(\"this is my var a \"))\n",
        "b = int(input(\"this is my var b \"))\n",
        "c = int(input(\"this is my var c \"))\n",
        "o = a+b/c\n",
        "o1 = o + 78 + 6j\n",
        "str(o1) + \"sudh\""
      ]
    },
    {
      "cell_type": "code",
      "execution_count": null,
      "metadata": {
        "id": "MimoBV9Hc9Om"
      },
      "outputs": [],
      "source": [
        "o = a+b/c\n",
        "o1 = o + 78 + 6j"
      ]
    },
    {
      "cell_type": "code",
      "execution_count": null,
      "metadata": {
        "id": "S_caxkt7c9Om",
        "outputId": "058a8752-e0d6-40f1-c768-44c33672129b"
      },
      "outputs": [
        {
          "data": {
            "text/plain": [
              "(124.64705882352942+6j)"
            ]
          },
          "execution_count": 130,
          "metadata": {},
          "output_type": "execute_result"
        }
      ],
      "source": [
        "o1"
      ]
    },
    {
      "cell_type": "code",
      "execution_count": null,
      "metadata": {
        "id": "aYyDUaU5c9On",
        "outputId": "5bbb4031-9070-43a5-da79-206985b20ca8"
      },
      "outputs": [
        {
          "data": {
            "text/plain": [
              "'(124.64705882352942+6j)sudh'"
            ]
          },
          "execution_count": 129,
          "metadata": {},
          "output_type": "execute_result"
        }
      ],
      "source": [
        "str(o1) + \"sudh\""
      ]
    },
    {
      "cell_type": "code",
      "execution_count": null,
      "metadata": {
        "id": "vbY21DSsc9On",
        "outputId": "bc3fae59-ce78-4415-8015-74d42c54e1c5"
      },
      "outputs": [
        {
          "name": "stdout",
          "output_type": "stream",
          "text": [
            "input a number lesser then 34 -- 56\n"
          ]
        }
      ],
      "source": [
        "a = int(input(\"input a number lesser then 34 -- \"))"
      ]
    },
    {
      "cell_type": "code",
      "execution_count": null,
      "metadata": {
        "id": "1AVULkP-c9On"
      },
      "outputs": [],
      "source": [
        "if a <34 :\n",
        "    pass"
      ]
    },
    {
      "cell_type": "code",
      "execution_count": null,
      "metadata": {
        "id": "l2gG9hZOc9On",
        "outputId": "ec5acacf-e1f7-40ab-aefa-2e2a1171e6b7"
      },
      "outputs": [
        {
          "name": "stdout",
          "output_type": "stream",
          "text": [
            "input a number78\n",
            " my data is lesser then 100\n"
          ]
        }
      ],
      "source": [
        "a = int(input(\"input a number\"))\n",
        "if a <34:\n",
        "    print(\"data input is lesser then 34 and i am fine with it \")\n",
        "elif a < 100:\n",
        "    print(\" my data is lesser then 100\")\n",
        "    \n",
        "else:\n",
        "    print ( \"user input is not lesser then 34\")"
      ]
    },
    {
      "cell_type": "code",
      "execution_count": 18,
      "metadata": {
        "id": "BNC03YdOc9On",
        "outputId": "aedf9230-dc7a-408c-cf32-857fd5dd99bd"
      },
      "outputs": [
        {
          "name": "stdout",
          "output_type": "stream",
          "text": [
            "you salary is good\n",
            "i will rent a car \n"
          ]
        }
      ],
      "source": [
        "salary = int(input(\"enter your salary\"))\n",
        "if( salary > 1000):\n",
        "    print(\"you salary is good\")\n",
        "    if salary > 5000:\n",
        "        print(\"i will go with a card nano\")\n",
        "        if True:\n",
        "            print(\"false code\")\n",
        "    elif salary >10000:\n",
        "        print(\"i will go with maruti\")\n",
        "    elif salary > 50000:\n",
        "        print(\"i wil go with toyota\")\n",
        "    else :\n",
        "        print(\"i will rent a car \")\n",
        "elif salary > 500:\n",
        "    print(\" i will go for bike \")\n",
        "elif salary> 100:\n",
        "    print(\"i will not buy anyting\")\n",
        "else :\n",
        "    print(\"i will go for savinig \")"
      ]
    },
    {
      "cell_type": "code",
      "execution_count": null,
      "metadata": {
        "id": "TRJtBmFvc9Oo",
        "outputId": "19a2151a-66eb-4735-b841-515c9860ee53"
      },
      "outputs": [
        {
          "data": {
            "text/plain": [
              "True"
            ]
          },
          "execution_count": 156,
          "metadata": {},
          "output_type": "execute_result"
        }
      ],
      "source": [
        "salary > 5000"
      ]
    },
    {
      "cell_type": "code",
      "execution_count": null,
      "metadata": {
        "id": "ToRDHnXWc9Oo"
      },
      "outputs": [],
      "source": [
        "name = \"sudh\"\n",
        "test = \"dfsfsf\""
      ]
    },
    {
      "cell_type": "code",
      "execution_count": 35,
      "metadata": {
        "id": "bb_1qoJWc9Oo"
      },
      "outputs": [],
      "source": [
        "def test(name = str  , test = int):\n",
        "\n",
        "    return(name, test)"
      ]
    },
    {
      "cell_type": "code",
      "execution_count": 37,
      "metadata": {
        "id": "Aw54-CJoc9Oo",
        "outputId": "070aa63e-7814-4827-9554-50635d79f8c4"
      },
      "outputs": [
        {
          "data": {
            "text/plain": [
              "(['S', 'a', 'm'], ['M', 'i', 'k', 'e'])"
            ]
          },
          "execution_count": 37,
          "metadata": {},
          "output_type": "execute_result"
        }
      ],
      "source": [
        "test(list(\"Sam\"),list(\"Mike\"))"
      ]
    },
    {
      "cell_type": "code",
      "execution_count": 38,
      "metadata": {
        "id": "BmOzgXzzc9Op"
      },
      "outputs": [],
      "source": [
        "def test1(name , id1):\n",
        "    \n",
        "    return(test(\"Hussain\",\"Madarwala\"),name , id1)\n",
        "    "
      ]
    },
    {
      "cell_type": "code",
      "execution_count": 39,
      "metadata": {
        "id": "HVO23aasc9Op",
        "outputId": "1a7e8d73-0080-4d05-e926-887d8a045fc9"
      },
      "outputs": [
        {
          "data": {
            "text/plain": [
              "(('Hussain', 'Madarwala'), 'Sds', 'ds')"
            ]
          },
          "execution_count": 39,
          "metadata": {},
          "output_type": "execute_result"
        }
      ],
      "source": [
        "test1(\"Sds\",\"ds\")"
      ]
    },
    {
      "cell_type": "code",
      "execution_count": null,
      "metadata": {
        "id": "bYF-DPJHc9Op"
      },
      "outputs": [],
      "source": [
        "def test():\n",
        "        return \"dasas\""
      ]
    },
    {
      "cell_type": "code",
      "execution_count": null,
      "metadata": {
        "id": "d8ZHBzOrc9Op"
      },
      "outputs": [],
      "source": []
    },
    {
      "cell_type": "markdown",
      "metadata": {},
      "source": [
        "While Loop"
      ]
    },
    {
      "cell_type": "code",
      "execution_count": 40,
      "metadata": {},
      "outputs": [],
      "source": [
        "init_speed = 0\n",
        "final_speed = 100"
      ]
    },
    {
      "cell_type": "code",
      "execution_count": 41,
      "metadata": {},
      "outputs": [
        {
          "name": "stdout",
          "output_type": "stream",
          "text": [
            "init_speed: 0\n",
            "init_speed: 1\n",
            "init_speed: 2\n",
            "init_speed: 3\n",
            "init_speed: 4\n",
            "init_speed: 5\n",
            "init_speed: 6\n",
            "init_speed: 7\n",
            "init_speed: 8\n",
            "init_speed: 9\n",
            "init_speed: 10\n",
            "init_speed: 11\n",
            "init_speed: 12\n",
            "init_speed: 13\n",
            "init_speed: 14\n",
            "init_speed: 15\n",
            "init_speed: 16\n",
            "init_speed: 17\n",
            "init_speed: 18\n",
            "init_speed: 19\n",
            "init_speed: 20\n",
            "init_speed: 21\n",
            "init_speed: 22\n",
            "init_speed: 23\n",
            "init_speed: 24\n",
            "init_speed: 25\n",
            "init_speed: 26\n",
            "init_speed: 27\n",
            "init_speed: 28\n",
            "init_speed: 29\n",
            "init_speed: 30\n",
            "init_speed: 31\n",
            "init_speed: 32\n",
            "init_speed: 33\n",
            "init_speed: 34\n",
            "init_speed: 35\n",
            "init_speed: 36\n",
            "init_speed: 37\n",
            "init_speed: 38\n",
            "init_speed: 39\n",
            "init_speed: 40\n",
            "init_speed: 41\n",
            "init_speed: 42\n",
            "init_speed: 43\n",
            "init_speed: 44\n",
            "init_speed: 45\n",
            "init_speed: 46\n",
            "init_speed: 47\n",
            "init_speed: 48\n",
            "init_speed: 49\n",
            "init_speed: 50\n",
            "init_speed: 51\n",
            "init_speed: 52\n",
            "init_speed: 53\n",
            "init_speed: 54\n",
            "init_speed: 55\n",
            "init_speed: 56\n",
            "init_speed: 57\n",
            "init_speed: 58\n",
            "init_speed: 59\n",
            "init_speed: 60\n",
            "init_speed: 61\n",
            "init_speed: 62\n",
            "init_speed: 63\n",
            "init_speed: 64\n",
            "init_speed: 65\n",
            "init_speed: 66\n",
            "init_speed: 67\n",
            "init_speed: 68\n",
            "init_speed: 69\n",
            "init_speed: 70\n",
            "init_speed: 71\n",
            "init_speed: 72\n",
            "init_speed: 73\n",
            "init_speed: 74\n",
            "init_speed: 75\n",
            "init_speed: 76\n",
            "init_speed: 77\n",
            "init_speed: 78\n",
            "init_speed: 79\n",
            "init_speed: 80\n",
            "init_speed: 81\n",
            "init_speed: 82\n",
            "init_speed: 83\n",
            "init_speed: 84\n",
            "init_speed: 85\n",
            "init_speed: 86\n",
            "init_speed: 87\n",
            "init_speed: 88\n",
            "init_speed: 89\n",
            "init_speed: 90\n",
            "init_speed: 91\n",
            "init_speed: 92\n",
            "init_speed: 93\n",
            "init_speed: 94\n",
            "init_speed: 95\n",
            "init_speed: 96\n",
            "init_speed: 97\n",
            "init_speed: 98\n",
            "init_speed: 99\n",
            "init_speed: 100\n",
            "101\n"
          ]
        }
      ],
      "source": [
        "while init_speed<=final_speed>=100:\n",
        "    print(\"init_speed:\",init_speed)\n",
        "    init_speed+=1\n",
        "\n",
        "print(init_speed)"
      ]
    },
    {
      "cell_type": "code",
      "execution_count": 2,
      "metadata": {},
      "outputs": [
        {
          "name": "stdout",
          "output_type": "stream",
          "text": [
            "1\n",
            "2\n",
            "3\n",
            "4\n",
            "This is else part\n"
          ]
        }
      ],
      "source": [
        "notes = 5\n",
        "i = 1 \n",
        "j = 1 \n",
        "while i < notes:\n",
        "    print(i)\n",
        "    i+=1\n",
        "else:\n",
        "    print(\"This is else part\")"
      ]
    },
    {
      "cell_type": "code",
      "execution_count": 42,
      "metadata": {},
      "outputs": [
        {
          "name": "stdout",
          "output_type": "stream",
          "text": [
            "1\n",
            "2\n",
            "3\n",
            "4\n",
            "this is else part\n",
            "1\n",
            "2\n",
            "2\n",
            "3\n",
            "this is nested else part\n"
          ]
        }
      ],
      "source": [
        "notes = 5\n",
        "i = 1 \n",
        "j = 1 \n",
        "while i < notes:\n",
        "    print(i)\n",
        "    i+=1\n",
        "else:\n",
        "    print(\"this is else part\")\n",
        "    while j<3:\n",
        "        print(j);\n",
        "        j+=1\n",
        "        print(j)\n",
        "    else:\n",
        "        print(\"this is nested else part\")"
      ]
    },
    {
      "cell_type": "code",
      "execution_count": 19,
      "metadata": {},
      "outputs": [
        {
          "data": {
            "text/plain": [
              "'p'"
            ]
          },
          "execution_count": 19,
          "metadata": {},
          "output_type": "execute_result"
        }
      ],
      "source": [
        "name = \"Sample\"\n",
        "name[3]"
      ]
    },
    {
      "cell_type": "code",
      "execution_count": 45,
      "metadata": {},
      "outputs": [],
      "source": [
        "full_name = \"Sample Test Working\""
      ]
    },
    {
      "cell_type": "code",
      "execution_count": 49,
      "metadata": {},
      "outputs": [
        {
          "data": {
            "text/plain": [
              "'mple Test'"
            ]
          },
          "execution_count": 49,
          "metadata": {},
          "output_type": "execute_result"
        }
      ],
      "source": [
        "full_name[2:-8:]"
      ]
    },
    {
      "cell_type": "code",
      "execution_count": 18,
      "metadata": {},
      "outputs": [
        {
          "data": {
            "text/plain": [
              "'gnikroW tseT elpmaS'"
            ]
          },
          "execution_count": 18,
          "metadata": {},
          "output_type": "execute_result"
        }
      ],
      "source": [
        "full_name[-1:-1]"
      ]
    },
    {
      "cell_type": "code",
      "execution_count": 50,
      "metadata": {},
      "outputs": [],
      "source": [
        "n=6\n",
        "\n",
        "for i in range(5,1) :\n",
        "    for j in range():\n",
        "        print(\"*\",end=\"\")\n",
        "    print(\"\\r\")\n",
        "    "
      ]
    },
    {
      "cell_type": "code",
      "execution_count": 58,
      "metadata": {},
      "outputs": [
        {
          "name": "stdout",
          "output_type": "stream",
          "text": [
            "#####################"
          ]
        }
      ],
      "source": [
        "n=7\n",
        "for i in range(n,0,-1):\n",
        "    for j in range(n-i):\n",
        "      print(\"#\",end=\"\")\n"
      ]
    },
    {
      "cell_type": "code",
      "execution_count": 48,
      "metadata": {},
      "outputs": [
        {
          "ename": "SyntaxError",
          "evalue": "invalid syntax (1149395122.py, line 3)",
          "output_type": "error",
          "traceback": [
            "\u001b[1;36m  Input \u001b[1;32mIn [48]\u001b[1;36m\u001b[0m\n\u001b[1;33m    print '\\t'.join(my_list[i:i+4])\u001b[0m\n\u001b[1;37m          ^\u001b[0m\n\u001b[1;31mSyntaxError\u001b[0m\u001b[1;31m:\u001b[0m invalid syntax\n"
          ]
        }
      ],
      "source": []
    },
    {
      "cell_type": "code",
      "execution_count": 76,
      "metadata": {},
      "outputs": [
        {
          "name": "stdout",
          "output_type": "stream",
          "text": [
            "         *\n",
            "        * *\n",
            "       * * *\n",
            "      * * * *\n",
            "     * * * * *\n",
            "    * * * * * *\n",
            "   * * * * * * *\n",
            "  * * * * * * * *\n",
            " * * * * * * * * *\n"
          ]
        }
      ],
      "source": [
        "n=9\n",
        "i=0\n",
        "while i<n:\n",
        "    print(' '*(n-i-1) + \" *\"*(i+1))\n",
        "    i+=1"
      ]
    },
    {
      "cell_type": "code",
      "execution_count": 67,
      "metadata": {},
      "outputs": [
        {
          "name": "stdout",
          "output_type": "stream",
          "text": [
            "8 8 8 8 8 8 8 8 7 7 7 7 7 7 7 7 6 6 6 6 6 6 6 6 5 5 5 5 5 5 5 5 4 4 4 4 4 4 4 4 3 3 3 3 3 3 3 3 2 2 2 2 2 2 2 2 1 1 1 1 1 1 1 1 "
          ]
        }
      ],
      "source": [
        "for i in range(8,0,-1):\n",
        "    for j in range(8,0,-1):\n",
        "        print(i,end=\" \") "
      ]
    },
    {
      "cell_type": "code",
      "execution_count": null,
      "metadata": {},
      "outputs": [],
      "source": []
    }
  ],
  "metadata": {
    "colab": {
      "name": "python basic.ipynb",
      "provenance": []
    },
    "kernelspec": {
      "display_name": "Python 3",
      "language": "python",
      "name": "python3"
    },
    "language_info": {
      "codemirror_mode": {
        "name": "ipython",
        "version": 3
      },
      "file_extension": ".py",
      "mimetype": "text/x-python",
      "name": "python",
      "nbconvert_exporter": "python",
      "pygments_lexer": "ipython3",
      "version": "3.8.6"
    }
  },
  "nbformat": 4,
  "nbformat_minor": 0
}
